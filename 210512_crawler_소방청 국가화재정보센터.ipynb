{
 "cells": [
  {
   "cell_type": "raw",
   "metadata": {},
   "source": [
    "2021.05.12"
   ]
  },
  {
   "cell_type": "markdown",
   "metadata": {},
   "source": [
    "# crawler_소방청 국가화재정보센터"
   ]
  },
  {
   "cell_type": "raw",
   "metadata": {},
   "source": [
    "step 1. 소방청 > 시작 날짜 입력, 끝 날짜 입력, 지역 선택, 검색 클릭 > 크롤링 > 엑셀 저장"
   ]
  },
  {
   "cell_type": "code",
   "execution_count": null,
   "metadata": {},
   "outputs": [],
   "source": [
    "pwd"
   ]
  },
  {
   "cell_type": "markdown",
   "metadata": {},
   "source": [
    "### step 0. 준비"
   ]
  },
  {
   "cell_type": "code",
   "execution_count": null,
   "metadata": {},
   "outputs": [],
   "source": [
    "import sys   # 시스템\n",
    "import os    # 시스템\n",
    "\n",
    "import pandas as pd   # 판다스 : 데이터분석 라이브러리\n",
    "import numpy as np    # 넘파이 : 숫자, 행렬 데이터 라이브러리\n",
    "\n",
    "from bs4 import BeautifulSoup   # html 데이터를 전처리\n",
    "from selenium import webdriver   # 웹 브라우저 자동화\n",
    "import time                      # 서버와 통신할 때 중간중간 시간 지연\n",
    "import datetime                  # 날짜 계산\n",
    "from tqdm import tqdm_notebook   # for문 돌릴 때 진행상황을 %게이지로 알려줌"
   ]
  },
  {
   "cell_type": "markdown",
   "metadata": {},
   "source": [
    "### step 1. 크롤링"
   ]
  },
  {
   "cell_type": "code",
   "execution_count": null,
   "metadata": {},
   "outputs": [],
   "source": [
    "driver = webdriver.Chrome(r\"G:\\내 드라이브\\exe\\chromedriver.exe\")\n",
    "\n",
    "# 사이트 주소\n",
    "driver.get(\"http://nfds.go.kr/dashboard/status.do\")\n",
    "time.sleep(2)"
   ]
  },
  {
   "cell_type": "code",
   "execution_count": null,
   "metadata": {},
   "outputs": [],
   "source": [
    "day = []\n",
    "fire = []\n",
    "die = []\n",
    "injury = []\n",
    "property_damage = []"
   ]
  },
  {
   "cell_type": "code",
   "execution_count": null,
   "metadata": {},
   "outputs": [],
   "source": [
    "# 검색 시작 날짜\n",
    "keyword = datetime.datetime(2016,1,1)"
   ]
  },
  {
   "cell_type": "code",
   "execution_count": null,
   "metadata": {},
   "outputs": [],
   "source": [
    "# 크롤링\n",
    "while keyword < datetime.datetime(2021,5,1):   # 검색 끝 날짜+1\n",
    "    \n",
    "    keyword1 = keyword.strftime('%Y%m%d')\n",
    "    day.append(keyword1)\n",
    "\n",
    "    # 날짜 입력 1\n",
    "    element1 = driver.find_element_by_css_selector(\"#search-startDate > input\")\n",
    "    element1.clear()\n",
    "    element1.send_keys(keyword.strftime(\"%y %m %d\"))\n",
    "\n",
    "    # 날짜 입력 2\n",
    "    element2 = driver.find_element_by_css_selector(\"#search-endDate > input\")\n",
    "    element2.clear()\n",
    "    element2.send_keys(keyword.strftime(\"%y %m %d\"))\n",
    "\n",
    "    # 대전 지역 선택\n",
    "    element3 = driver.find_element_by_xpath(\"/html/body/div/div[3]/div/div/div[3]/div[2]/select/option[7]\").click()\n",
    "\n",
    "    # 검색 클릭\n",
    "    search_button = driver.find_element_by_css_selector(\".glyphicon.glyphicon-search\").click()\n",
    "    time.sleep(2)\n",
    "\n",
    "    # 화재발생건수 크롤링\n",
    "    fire_day = driver.find_element_by_css_selector(\"#crnt_tc\")\n",
    "    fire.append(fire_day.text)\n",
    "    fire\n",
    "\n",
    "    # 인명피해사망 크롤링\n",
    "    die_day = driver.find_element_by_css_selector(\"#crnt_dc\")\n",
    "    die.append(die_day.text)\n",
    "    die\n",
    "\n",
    "    # 인명피해부상 크롤링\n",
    "    injury_day = driver.find_element_by_css_selector(\"#crnt_lc\")\n",
    "    injury.append(injury_day.text)\n",
    "    injury\n",
    "\n",
    "    # 재산피해 크롤링\n",
    "    property_damage_day = driver.find_element_by_css_selector(\"#crnt_fd\")\n",
    "    property_damage.append(property_damage_day.text)\n",
    "    property_damage\n",
    "    \n",
    "    print(keyword.strftime(\"%y %m %d\"), fire_day.text, die_day.text, injury_day.text, property_damage_day.text)\n",
    "    \n",
    "    keyword = keyword + datetime.timedelta(days=1) # 다음 날"
   ]
  },
  {
   "cell_type": "code",
   "execution_count": null,
   "metadata": {},
   "outputs": [],
   "source": [
    "# 판다스화\n",
    "df = pd.DataFrame({'날짜':day, '화재발생건수':fire, '인명피해사망':die, '인명피해부상':injury, '재산피해(천원)':property_damage})\n",
    "df"
   ]
  },
  {
   "cell_type": "code",
   "execution_count": null,
   "metadata": {},
   "outputs": [],
   "source": [
    "# 엑셀 저장\n",
    "df.to_excel('소방청_화재현황_20160101-20201231.xlsx')"
   ]
  },
  {
   "cell_type": "code",
   "execution_count": null,
   "metadata": {},
   "outputs": [],
   "source": []
  }
 ],
 "metadata": {
  "kernelspec": {
   "display_name": "Python 3",
   "language": "python",
   "name": "python3"
  },
  "language_info": {
   "codemirror_mode": {
    "name": "ipython",
    "version": 3
   },
   "file_extension": ".py",
   "mimetype": "text/x-python",
   "name": "python",
   "nbconvert_exporter": "python",
   "pygments_lexer": "ipython3",
   "version": "3.8.5"
  },
  "toc": {
   "base_numbering": 1,
   "nav_menu": {},
   "number_sections": true,
   "sideBar": true,
   "skip_h1_title": false,
   "title_cell": "Table of Contents",
   "title_sidebar": "Contents",
   "toc_cell": false,
   "toc_position": {},
   "toc_section_display": true,
   "toc_window_display": false
  }
 },
 "nbformat": 4,
 "nbformat_minor": 4
}
