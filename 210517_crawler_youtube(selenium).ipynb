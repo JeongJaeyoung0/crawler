{
 "cells": [
  {
   "cell_type": "raw",
   "metadata": {},
   "source": [
    "210517"
   ]
  },
  {
   "cell_type": "markdown",
   "metadata": {},
   "source": [
    "# crawler_Youtube"
   ]
  },
  {
   "cell_type": "raw",
   "metadata": {},
   "source": [
    "step 1. url 수집: 검색어 입력, 크롤링 글 개수 입력\n",
    "step 2. 크롤링: 제목, 조회수, 날짜, 좋아요, 싫어요, 댓글"
   ]
  },
  {
   "cell_type": "code",
   "execution_count": null,
   "metadata": {},
   "outputs": [],
   "source": [
    "pwd"
   ]
  },
  {
   "cell_type": "markdown",
   "metadata": {},
   "source": [
    "### step 0. 준비"
   ]
  },
  {
   "cell_type": "code",
   "execution_count": 23,
   "metadata": {},
   "outputs": [],
   "source": [
    "import sys    # 시스템\n",
    "import os     # 시스템\n",
    "\n",
    "import pandas as pd    # 판다스 : 데이터분석 라이브러리\n",
    "import numpy as np     # 넘파이 : 숫자, 행렬 데이터 라이브러리\n",
    "\n",
    "from selenium import webdriver    # 웹 브라우저 자동화\n",
    "import time                       # 시간 지연\n",
    "import math                       # 올림, 내림\n",
    "from selenium.webdriver.common.keys import Keys\n",
    "from tqdm import tqdm   # 진행상황 표시"
   ]
  },
  {
   "cell_type": "markdown",
   "metadata": {},
   "source": [
    "### step 1. url 수집"
   ]
  },
  {
   "cell_type": "code",
   "execution_count": 25,
   "metadata": {},
   "outputs": [
    {
     "name": "stdout",
     "output_type": "stream",
     "text": [
      "검색어 입력: 일기예보\n",
      "크롤링 글 개수: 5\n"
     ]
    }
   ],
   "source": [
    "keyword = input('검색어 입력: ')\n",
    "articles_number = int(input('크롤링 글 개수: '))"
   ]
  },
  {
   "cell_type": "code",
   "execution_count": 26,
   "metadata": {},
   "outputs": [],
   "source": [
    "# 크롬 웹브라우저 실행\n",
    "driver = webdriver.Chrome(r\"G:\\내 드라이브\\exe\\chromedriver.exe\")\n",
    "\n",
    "# 키워드로 접속\n",
    "driver.get(\"https://www.youtube.com/results?search_query={}\".format(keyword))\n",
    "time.sleep(2)"
   ]
  },
  {
   "cell_type": "code",
   "execution_count": 27,
   "metadata": {},
   "outputs": [],
   "source": [
    "# 스크롤 다운 함수\n",
    "def scroll_down(driver):\n",
    "    driver.execute_script(\"window.scrollTo(0, 99999)\")\n",
    "    time.sleep(2)"
   ]
  },
  {
   "cell_type": "code",
   "execution_count": 28,
   "metadata": {},
   "outputs": [],
   "source": [
    "# 영상 목록 스크롤 다운 실행\n",
    "for i in range(math.ceil((articles_number-26)/20)):\n",
    "    scroll_down(driver)"
   ]
  },
  {
   "cell_type": "code",
   "execution_count": 29,
   "metadata": {},
   "outputs": [
    {
     "name": "stdout",
     "output_type": "stream",
     "text": [
      "크롤링할 글 수:  5\n"
     ]
    },
    {
     "data": {
      "text/plain": [
       "'https://www.youtube.com/watch?v=V2XYfgef1kU'"
      ]
     },
     "execution_count": 29,
     "metadata": {},
     "output_type": "execute_result"
    }
   ],
   "source": [
    "crawling_list = []\n",
    "url_list = []\n",
    "\n",
    "# url 수집\n",
    "crawling_list = driver.find_elements_by_tag_name('h3 > a')\n",
    "\n",
    "for crawling in crawling_list:\n",
    "    url = crawling.get_attribute('href')   \n",
    "    url_list.append(url)\n",
    "driver.close()\n",
    "url_list = url_list[:articles_number]\n",
    "print('크롤링할 글 수: ', len(url_list))\n",
    "url_list[0]"
   ]
  },
  {
   "cell_type": "markdown",
   "metadata": {},
   "source": [
    "### step 2. 크롤링"
   ]
  },
  {
   "cell_type": "code",
   "execution_count": 30,
   "metadata": {
    "scrolled": true
   },
   "outputs": [
    {
     "name": "stderr",
     "output_type": "stream",
     "text": [
      "\r",
      "  0%|                                                                                            | 0/5 [00:00<?, ?it/s]"
     ]
    },
    {
     "name": "stdout",
     "output_type": "stream",
     "text": [
      "< 0 > [내일날씨] 내일과 모레 전국 많은 비, 천둥·번개 유의, 5월 14일 17시 기준 ( 댓글 수: 4 )\n",
      "1. 스크롤 다운 완료\n",
      "2. 광고 창 안뜸\n",
      "3. 답글 보기 클릭 완료\n",
      "4. 답글 더보기 클릭 완료\n",
      "5. 댓글 수집 : 4\n"
     ]
    },
    {
     "name": "stderr",
     "output_type": "stream",
     "text": [
      "\r",
      " 20%|████████████████▊                                                                   | 1/5 [00:18<01:14, 18.67s/it]"
     ]
    },
    {
     "name": "stdout",
     "output_type": "stream",
     "text": [
      "< 1 > [내일날씨] 내일 새벽~오전 중부지방 강하고 많은 비, 5월 15일 17시 기준 ( 댓글 수: 9 )\n",
      "1. 스크롤 다운 완료\n",
      "2. 광고 창 안뜸\n",
      "3. 답글 보기 클릭 완료\n",
      "4. 답글 더보기 클릭 완료\n",
      "5. 댓글 수집 : 9\n"
     ]
    },
    {
     "name": "stderr",
     "output_type": "stream",
     "text": [
      "\r",
      " 40%|█████████████████████████████████▌                                                  | 2/5 [00:42<01:00, 20.21s/it]"
     ]
    },
    {
     "name": "stdout",
     "output_type": "stream",
     "text": [
      "< 2 > [MV] 일기예보(日氣豫報 /Weather Forecast) - 인형의 꿈 ( 댓글 수: 80 )\n",
      "1. 스크롤 다운 완료\n",
      "2. 광고 창 제거함\n",
      "3. 답글 보기 클릭 완료\n",
      "4. 답글 더보기 클릭 완료\n",
      "5. 댓글 수집 : 80\n"
     ]
    },
    {
     "name": "stderr",
     "output_type": "stream",
     "text": [
      "\r",
      " 60%|██████████████████████████████████████████████████▍                                 | 3/5 [01:21<00:51, 25.75s/it]"
     ]
    },
    {
     "name": "stdout",
     "output_type": "stream",
     "text": [
      "< 3 > [날씨] 내일 고온 절정…주말 장마전선 반짝 북상? (2021.05.13/뉴스데스크/MBC) ( 댓글 수: 27 )\n",
      "1. 스크롤 다운 완료\n",
      "2. 광고 창 제거함\n",
      "3. 답글 보기 클릭 완료\n",
      "4. 답글 더보기 클릭 완료\n",
      "5. 댓글 수집 : 26\n"
     ]
    },
    {
     "name": "stderr",
     "output_type": "stream",
     "text": [
      "\r",
      " 80%|███████████████████████████████████████████████████████████████████▏                | 4/5 [01:51<00:27, 27.06s/it]"
     ]
    },
    {
     "name": "stdout",
     "output_type": "stream",
     "text": [
      "< 4 > [날씨박사] 봄철 또 다른 불청객 '꽃가루'…예보부터 대처까지 / JTBC 뉴스룸 ( 댓글 수: 2 )\n",
      "1. 스크롤 다운 완료\n",
      "2. 광고 창 제거함\n",
      "3. 답글 보기 클릭 완료\n",
      "4. 답글 더보기 클릭 완료\n",
      "5. 댓글 수집 : 2\n"
     ]
    },
    {
     "name": "stderr",
     "output_type": "stream",
     "text": [
      "100%|████████████████████████████████████████████████████████████████████████████████████| 5/5 [02:10<00:00, 26.04s/it]"
     ]
    },
    {
     "name": "stdout",
     "output_type": "stream",
     "text": [
      "Wall time: 2min 10s\n"
     ]
    },
    {
     "name": "stderr",
     "output_type": "stream",
     "text": [
      "\n"
     ]
    }
   ],
   "source": [
    "%%time\n",
    "dict = {}\n",
    "count = 0\n",
    "\n",
    "for url in tqdm(url_list):\n",
    "    # url 열기\n",
    "    driver = webdriver.Chrome(r\"G:\\내 드라이브\\exe\\chromedriver.exe\")\n",
    "    driver.get(url)\n",
    "    time.sleep(2)\n",
    "\n",
    "    driver.execute_script(\"window.scrollTo(0, 400)\")\n",
    "    time.sleep(1)\n",
    "    \n",
    "    info = driver.find_element_by_css_selector('.style-scope ytd-video-primary-info-renderer').text.split('조회수')\n",
    "\n",
    "    # 제목\n",
    "    title = info[0].split('\\n')[-2]\n",
    "    \n",
    "    # 조회수, 날짜 위치 추출\n",
    "    for i in info[1].split('\\n'):\n",
    "        if '회' in i:\n",
    "            view_date = i\n",
    "\n",
    "    # 조회수\n",
    "    #view = int(view_date[0].split('•')[0].replace('회', '').replace(',',''))\n",
    "    view = int(view_date.split('•')[0].replace('회', '').replace(',',''))\n",
    "    # 날짜\n",
    "    #date = view_date[0].split('•')[1]\n",
    "    date = view_date.split('•')[1]\n",
    "    # 좋아요\n",
    "    like = info[1].split('\\n')[1]\n",
    "    # 싫어요\n",
    "    dont_like = info[1].split('\\n')[2]\n",
    "\n",
    "    try:\n",
    "        # 댓글 수\n",
    "        review_cnt = driver.find_element_by_xpath('/html/body/ytd-app/div/ytd-page-manager/ytd-watch-flexy/div[5]/div[1]/div/ytd-comments/ytd-item-section-renderer/div[1]/ytd-comments-header-renderer/div[1]/h2/yt-formatted-string/span[2]').text.replace(',', '')\n",
    "        print('<',count,'>', title, '( 댓글 수:', review_cnt,')')\n",
    "        \n",
    "        # 댓글 스크롤 다운\n",
    "        for i in range(math.ceil((int(review_cnt)-20)/20)):\n",
    "            scroll_down(driver)\n",
    "        print('1. 스크롤 다운 완료')\n",
    "        \n",
    "        # 광고 끄기\n",
    "        time.sleep(10)\n",
    "        try:\n",
    "            driver.find_element_by_css_selector(\"#main > div > ytd-button-renderer\").click()\n",
    "            print('2. 광고 창 제거함')\n",
    "        except:\n",
    "            print('2. 광고 창 안뜸')\n",
    "        \n",
    "        try:\n",
    "            # 답글 n개 보기 클릭\n",
    "            buttons = driver.find_elements_by_css_selector(\"#more-replies > a\")\n",
    "            for button in buttons:\n",
    "                button.send_keys(Keys.ENTER)\n",
    "                time.sleep(1)\n",
    "                button.click()\n",
    "            time.sleep(1)\n",
    "            print('3. 답글 보기 클릭 완료')\n",
    "        except:\n",
    "            print('3. 답글 보기 없음')\n",
    "        \n",
    "        try:\n",
    "            # 답글 더보기 클릭\n",
    "            buttons_more = driver.find_elements_by_css_selector('#continuation > yt-next-continuation > tp-yt-paper-button')\n",
    "            for button in buttons_more:\n",
    "                button.send_keys(Keys.ENTER)\n",
    "                time.sleep(1)\n",
    "            print('4. 답글 더보기 클릭 완료')\n",
    "        except:\n",
    "            print('4. 답글 더보기 없음')\n",
    "        \n",
    "        # 댓글 수집\n",
    "        review_list = []\n",
    "        reviews = driver.find_elements_by_css_selector('#content-text')\n",
    "        for review in reviews:\n",
    "            review = review.text\n",
    "            review_list.append(review)\n",
    "        print('5. 댓글 수집 :', len(review_list))\n",
    "            \n",
    "    except:\n",
    "        review_cnt = ''\n",
    "        review_list = ''\n",
    "        print('댓글 차단')\n",
    "            \n",
    "    target_info = {}\n",
    "    target_info['제목'] = title\n",
    "    target_info['조회수'] = view\n",
    "    target_info['날짜'] = date\n",
    "    target_info['좋아요'] = like\n",
    "    target_info['싫어요'] = dont_like\n",
    "    target_info['댓글 수'] = review_cnt\n",
    "    target_info['댓글'] = review_list\n",
    "\n",
    "    dict[count] = target_info\n",
    "\n",
    "    driver.close()\n",
    "    count += 1\n",
    "    time.sleep(1)"
   ]
  },
  {
   "cell_type": "code",
   "execution_count": 31,
   "metadata": {
    "scrolled": true
   },
   "outputs": [
    {
     "data": {
      "text/html": [
       "<div>\n",
       "<style scoped>\n",
       "    .dataframe tbody tr th:only-of-type {\n",
       "        vertical-align: middle;\n",
       "    }\n",
       "\n",
       "    .dataframe tbody tr th {\n",
       "        vertical-align: top;\n",
       "    }\n",
       "\n",
       "    .dataframe thead th {\n",
       "        text-align: right;\n",
       "    }\n",
       "</style>\n",
       "<table border=\"1\" class=\"dataframe\">\n",
       "  <thead>\n",
       "    <tr style=\"text-align: right;\">\n",
       "      <th></th>\n",
       "      <th>제목</th>\n",
       "      <th>조회수</th>\n",
       "      <th>날짜</th>\n",
       "      <th>좋아요</th>\n",
       "      <th>싫어요</th>\n",
       "      <th>댓글 수</th>\n",
       "      <th>댓글</th>\n",
       "    </tr>\n",
       "  </thead>\n",
       "  <tbody>\n",
       "    <tr>\n",
       "      <th>0</th>\n",
       "      <td>[내일날씨] 내일과 모레 전국 많은 비, 천둥·번개 유의, 5월 14일 17시 기준</td>\n",
       "      <td>2607</td>\n",
       "      <td>2021. 5. 14.</td>\n",
       "      <td>83</td>\n",
       "      <td>6</td>\n",
       "      <td>4</td>\n",
       "      <td>[자세한 일기 예보 감사 합니다, 아휴, 자세한 일기 예보 감사합니다., 아주 브리...</td>\n",
       "    </tr>\n",
       "    <tr>\n",
       "      <th>1</th>\n",
       "      <td>[내일날씨] 내일 새벽~오전 중부지방 강하고 많은 비, 5월 15일 17시 기준</td>\n",
       "      <td>2791</td>\n",
       "      <td>2021. 5. 15.</td>\n",
       "      <td>99</td>\n",
       "      <td>1</td>\n",
       "      <td>9</td>\n",
       "      <td>[전남은 비가 많이 안 올까요...?, 제주도 애월은 비도안오더라 ㅅㅂ, 오늘은 대...</td>\n",
       "    </tr>\n",
       "    <tr>\n",
       "      <th>2</th>\n",
       "      <td>[MV] 일기예보(日氣豫報 /Weather Forecast) - 인형의 꿈</td>\n",
       "      <td>233389</td>\n",
       "      <td>2015. 8. 17.</td>\n",
       "      <td>1천</td>\n",
       "      <td>49</td>\n",
       "      <td>80</td>\n",
       "      <td>[Known this song for  several years but it's m...</td>\n",
       "    </tr>\n",
       "    <tr>\n",
       "      <th>3</th>\n",
       "      <td>[날씨] 내일 고온 절정…주말 장마전선 반짝 북상? (2021.05.13/뉴스데스크...</td>\n",
       "      <td>24902</td>\n",
       "      <td>2021. 5. 13.</td>\n",
       "      <td>319</td>\n",
       "      <td>6</td>\n",
       "      <td>27</td>\n",
       "      <td>[5/14일 장마전선 북상 베트남이야?\\n🇰🇷인되.., 지구 온난화로 인해서 날씨가...</td>\n",
       "    </tr>\n",
       "    <tr>\n",
       "      <th>4</th>\n",
       "      <td>[날씨박사] 봄철 또 다른 불청객 '꽃가루'…예보부터 대처까지 / JTBC 뉴스룸</td>\n",
       "      <td>1804</td>\n",
       "      <td>2021. 5. 13.</td>\n",
       "      <td>21</td>\n",
       "      <td>0</td>\n",
       "      <td>2</td>\n",
       "      <td>[경북쪽은   끝난지가 언젠데\\n이제방송하는걸보니\\n우리나라가  넓은가보네, 「나쁜...</td>\n",
       "    </tr>\n",
       "  </tbody>\n",
       "</table>\n",
       "</div>"
      ],
      "text/plain": [
       "                                                  제목     조회수            날짜  \\\n",
       "0     [내일날씨] 내일과 모레 전국 많은 비, 천둥·번개 유의, 5월 14일 17시 기준    2607  2021. 5. 14.   \n",
       "1       [내일날씨] 내일 새벽~오전 중부지방 강하고 많은 비, 5월 15일 17시 기준    2791  2021. 5. 15.   \n",
       "2          [MV] 일기예보(日氣豫報 /Weather Forecast) - 인형의 꿈  233389  2015. 8. 17.   \n",
       "3  [날씨] 내일 고온 절정…주말 장마전선 반짝 북상? (2021.05.13/뉴스데스크...   24902  2021. 5. 13.   \n",
       "4      [날씨박사] 봄철 또 다른 불청객 '꽃가루'…예보부터 대처까지 / JTBC 뉴스룸    1804  2021. 5. 13.   \n",
       "\n",
       "   좋아요 싫어요 댓글 수                                                 댓글  \n",
       "0   83   6    4  [자세한 일기 예보 감사 합니다, 아휴, 자세한 일기 예보 감사합니다., 아주 브리...  \n",
       "1   99   1    9  [전남은 비가 많이 안 올까요...?, 제주도 애월은 비도안오더라 ㅅㅂ, 오늘은 대...  \n",
       "2   1천  49   80  [Known this song for  several years but it's m...  \n",
       "3  319   6   27  [5/14일 장마전선 북상 베트남이야?\\n🇰🇷인되.., 지구 온난화로 인해서 날씨가...  \n",
       "4   21   0    2  [경북쪽은   끝난지가 언젠데\\n이제방송하는걸보니\\n우리나라가  넓은가보네, 「나쁜...  "
      ]
     },
     "execution_count": 31,
     "metadata": {},
     "output_type": "execute_result"
    }
   ],
   "source": [
    "# 판다스화\n",
    "df = pd.DataFrame.from_dict(dict, 'index')\n",
    "df"
   ]
  },
  {
   "cell_type": "code",
   "execution_count": 32,
   "metadata": {},
   "outputs": [],
   "source": [
    "# 엑셀 저장\n",
    "df.to_excel('crawler_youtube_review_{}.xlsx'.format(keyword))"
   ]
  },
  {
   "cell_type": "code",
   "execution_count": null,
   "metadata": {},
   "outputs": [],
   "source": []
  }
 ],
 "metadata": {
  "kernelspec": {
   "display_name": "Python 3",
   "language": "python",
   "name": "python3"
  },
  "language_info": {
   "codemirror_mode": {
    "name": "ipython",
    "version": 3
   },
   "file_extension": ".py",
   "mimetype": "text/x-python",
   "name": "python",
   "nbconvert_exporter": "python",
   "pygments_lexer": "ipython3",
   "version": "3.8.5"
  },
  "toc": {
   "base_numbering": 1,
   "nav_menu": {},
   "number_sections": true,
   "sideBar": true,
   "skip_h1_title": false,
   "title_cell": "Table of Contents",
   "title_sidebar": "Contents",
   "toc_cell": false,
   "toc_position": {},
   "toc_section_display": true,
   "toc_window_display": false
  }
 },
 "nbformat": 4,
 "nbformat_minor": 4
}
