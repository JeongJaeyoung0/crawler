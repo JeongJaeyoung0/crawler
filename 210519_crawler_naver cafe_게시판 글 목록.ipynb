{
 "cells": [
  {
   "cell_type": "raw",
   "metadata": {},
   "source": [
    "2021.05.19"
   ]
  },
  {
   "cell_type": "markdown",
   "metadata": {},
   "source": [
    "# crawler_naver cafe_게시판 글 목록"
   ]
  },
  {
   "cell_type": "raw",
   "metadata": {},
   "source": [
    "Step 1. 네이버 카페 > 게시판 > 글번호, 제목, 작성자, 좋아요 수집 > 저장 (crawler_naver cafe_게시판 {}.xlsx)"
   ]
  },
  {
   "cell_type": "code",
   "execution_count": null,
   "metadata": {},
   "outputs": [],
   "source": [
    "pwd"
   ]
  },
  {
   "cell_type": "raw",
   "metadata": {},
   "source": [
    "# 공지 숨겨도 크롤링에 포함됨\n",
    "# 공지 숨기기 클릭\n",
    "# anno_off = driver.find_element_by_css_selector('.check_box').click()"
   ]
  },
  {
   "cell_type": "markdown",
   "metadata": {},
   "source": [
    "### Step 0. 준비"
   ]
  },
  {
   "cell_type": "code",
   "execution_count": null,
   "metadata": {},
   "outputs": [],
   "source": [
    "import sys    # 시스템\n",
    "import os     # 시스템\n",
    "\n",
    "import pandas as pd    # 판다스 : 데이터분석 라이브러리\n",
    "import numpy as np     # 넘파이 : 숫자, 행렬 데이터 라이브러리\n",
    "\n",
    "from bs4 import BeautifulSoup     # html 데이터 전처리\n",
    "from selenium import webdriver    # 웹 브라우저 자동화\n",
    "import time                       # 시간 지연\n",
    "import math"
   ]
  },
  {
   "cell_type": "markdown",
   "metadata": {},
   "source": [
    "### Step 1. 크롤링"
   ]
  },
  {
   "cell_type": "code",
   "execution_count": null,
   "metadata": {},
   "outputs": [],
   "source": [
    "keyword = \"☰ 통합 Q & A ☰\"\n",
    "crawling_no = int(input('클롤링 할 글 개수를 입력 :'))"
   ]
  },
  {
   "cell_type": "code",
   "execution_count": null,
   "metadata": {},
   "outputs": [],
   "source": [
    "# 크롬 웹브라우저 실행\n",
    "driver = webdriver.Chrome(r\"G:\\내 드라이브\\exe\\chromedriver.exe\")\n",
    "\n",
    "# 사이트 주소\n",
    "driver.get(\"https://cafe.naver.com/noljatravel\")\n",
    "time.sleep(2)\n",
    "\n",
    "# 게시판 클릭\n",
    "driver.find_element_by_link_text(keyword).click()\n",
    "\n",
    "# 게시판 프레임 접근\n",
    "driver.switch_to.frame(\"cafe_main\")\n",
    "\n",
    "# 게시글 50개씩\n",
    "driver.find_element_by_css_selector(\"#listSizeSelectDiv\").click()\n",
    "driver.find_element_by_xpath(\"/html/body/div[1]/div/div[3]/div/div[3]/ul/li[7]/a\").click()"
   ]
  },
  {
   "cell_type": "code",
   "execution_count": null,
   "metadata": {},
   "outputs": [],
   "source": [
    "#crawling_list = []\n",
    "no_app = []\n",
    "title_app = []\n",
    "nick_app  = []\n",
    "like_app  = []\n",
    "\n",
    "# 크롤링 해야 할 페이지 계산\n",
    "crawling_page = int(math.ceil(crawling_no / 50)+1)\n",
    "\n",
    "try: \n",
    "    for page in range(1,crawling_page):\n",
    "        # 페이지 클릭\n",
    "        driver.find_element_by_link_text(str(page)).click()\n",
    "        time.sleep(1)\n",
    "        # 글 번호 수집\n",
    "        no = [i.text for i in driver.find_elements_by_css_selector('.td_article')]\n",
    "        no_split = [ni.split()[0] for ni in no]\n",
    "        # 글 제목 수집\n",
    "        title = [i.text for i in driver.find_elements_by_css_selector('.article')]\n",
    "        # 작성자 수집\n",
    "        nick = [i.text for i in driver.find_elements_by_css_selector('.p-nick .m-tcol-c')]\n",
    "        # 좋아요 수집\n",
    "        like = [i.text for i in driver.find_elements_by_css_selector('.td_likes')]\n",
    "        # 수집 데이터 append\n",
    "        no_app.append(no_split)\n",
    "        title_app.append(title)\n",
    "        nick_app.append(nick)\n",
    "        like_app.append(like)\n",
    "        # 10페이지 마다 프린트 & 다음 페이지로 클릭\n",
    "        if str(page)[-1] == '0':\n",
    "            print(int(page), 'page 크롤링 완료')\n",
    "            driver.find_element_by_link_text('다음').click()\n",
    "# 더이상 페이지가 존재하지 않을 시\n",
    "except:\n",
    "    print('더이상 페이지가 존재하지 않음')\n",
    "\n",
    "driver.close()\n",
    "    \n",
    "# 리스트안 리스트 분해\n",
    "no_list = sum(no_app, [])\n",
    "title_list = sum(title_app, [])\n",
    "nick_list = sum(nick_app, [])\n",
    "like_list = sum(like_app, [])\n",
    "\n",
    "# 판다스화\n",
    "df = pd.DataFrame({'번호':no_list,\n",
    "                   '제목':title_list,\n",
    "                   '작성자':nick_list,\n",
    "                   '좋아요':like_list})\n",
    "# 필독, 공지 삭제\n",
    "df = df.drop(df[df['번호'] == '필독'].index)\n",
    "df = df.drop(df[df['번호'] == '공지'].index)\n",
    "df = df.reset_index(drop=True)\n",
    "\n",
    "print('글 ', len(df), '개 크롤링 완료. \\n크롤링 종료.', sep='')"
   ]
  },
  {
   "cell_type": "code",
   "execution_count": null,
   "metadata": {},
   "outputs": [],
   "source": [
    "df"
   ]
  },
  {
   "cell_type": "code",
   "execution_count": null,
   "metadata": {},
   "outputs": [],
   "source": [
    "# 저장\n",
    "df.to_excel('crawler_naver cafe_게시판 {}.xlsx'.format(keyword))"
   ]
  },
  {
   "cell_type": "code",
   "execution_count": null,
   "metadata": {},
   "outputs": [],
   "source": []
  }
 ],
 "metadata": {
  "kernelspec": {
   "display_name": "Python 3",
   "language": "python",
   "name": "python3"
  },
  "language_info": {
   "codemirror_mode": {
    "name": "ipython",
    "version": 3
   },
   "file_extension": ".py",
   "mimetype": "text/x-python",
   "name": "python",
   "nbconvert_exporter": "python",
   "pygments_lexer": "ipython3",
   "version": "3.8.5"
  },
  "toc": {
   "base_numbering": 1,
   "nav_menu": {},
   "number_sections": true,
   "sideBar": true,
   "skip_h1_title": false,
   "title_cell": "Table of Contents",
   "title_sidebar": "Contents",
   "toc_cell": false,
   "toc_position": {},
   "toc_section_display": true,
   "toc_window_display": false
  }
 },
 "nbformat": 4,
 "nbformat_minor": 4
}
