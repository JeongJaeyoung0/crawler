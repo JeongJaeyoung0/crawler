{
 "cells": [
  {
   "cell_type": "raw",
   "metadata": {},
   "source": [
    "2021.05.18"
   ]
  },
  {
   "cell_type": "markdown",
   "metadata": {},
   "source": [
    "# crawler_youtube image"
   ]
  },
  {
   "cell_type": "raw",
   "metadata": {},
   "source": [
    "Step 1. 구글 검색 > 이미지 > 이미지 저장"
   ]
  },
  {
   "cell_type": "code",
   "execution_count": null,
   "metadata": {},
   "outputs": [],
   "source": [
    "pwd"
   ]
  },
  {
   "cell_type": "markdown",
   "metadata": {},
   "source": [
    "### step 0. 준비"
   ]
  },
  {
   "cell_type": "code",
   "execution_count": null,
   "metadata": {},
   "outputs": [],
   "source": [
    "import pandas as pd\n",
    "import numpy as np\n",
    "import os\n",
    "import urllib.request\n",
    "\n",
    "from selenium import webdriver\n",
    "from tqdm import tqdm\n",
    "import time\n",
    "from time import sleep"
   ]
  },
  {
   "cell_type": "markdown",
   "metadata": {},
   "source": [
    "### step 1. 이미지 크롤링"
   ]
  },
  {
   "cell_type": "code",
   "execution_count": null,
   "metadata": {},
   "outputs": [],
   "source": [
    "# 크롤링 할 검색어, 이미지 개수\n",
    "keyword = input(\"크롤링할 검색어 입력: \")\n",
    "image_num = int(input(\"크롤링할 이미지 개수: \"))"
   ]
  },
  {
   "cell_type": "code",
   "execution_count": null,
   "metadata": {},
   "outputs": [],
   "source": [
    "%%time\n",
    "# 폴더 생성\n",
    "if not os.path.exists(\"image_google_\"+keyword):\n",
    "    os.makedirs(\"image_google_\"+keyword)\n",
    "# 크롬창 띄우기\n",
    "driver = webdriver.Chrome(r\"G:\\내 드라이브\\exe\\chromedriver.exe\")\n",
    "driver.get(\"https://www.google.com/search?q=%s\"%keyword)\n",
    "time.sleep(1)\n",
    "# 이미지 클릭\n",
    "driver.find_element_by_css_selector(\".hide-focus-ring\").click()\n",
    "# 첫 번째 사진 클릭\n",
    "driver.find_element_by_xpath(\"/html/body/div[2]/c-wiz/div[3]/div[1]/div/div/div/div/div[1]/div[1]/div[1]/a[1]/div[1]/img\").click()\n",
    "\n",
    "count = 0\n",
    "for i in range(image_num):\n",
    "    # 이미지 URL get\n",
    "    imgURL = driver.find_element_by_xpath(\"/html/body/div[2]/c-wiz/div[3]/div[2]/div[3]/div/div/div[3]/div[2]/c-wiz/div/div[1]/div[1]/div/div[2]/a/img\").get_attribute(\"src\")\n",
    "    # 이미지 저장 (파일명 중복 확인 중복이면 count 1씩 증가)\n",
    "    swich = 'on'\n",
    "    while swich == 'on':\n",
    "        if not os.path.exists(\"image_google_{0}/image_google_{0}_{1} ({2}).jpg\".format(keyword, count, i)):\n",
    "            urllib.request.urlretrieve(imgURL, \"image_google_{0}/image_google_{0}_{1} ({2}).jpg\".format(keyword, count, i))\n",
    "            swich = 'off'\n",
    "        else: count += 1\n",
    "    # 다음 이미지\n",
    "    driver.find_element_by_xpath(\"/html/body/div[2]/c-wiz/div[3]/div[2]/div[3]/div/div/div[3]/div[2]/c-wiz/div/div[1]/div[1]/div/div[1]/a[2]/div\").click()\n",
    "    time.sleep(0.5)\n",
    "\n",
    "driver.close()"
   ]
  },
  {
   "cell_type": "code",
   "execution_count": null,
   "metadata": {},
   "outputs": [],
   "source": []
  }
 ],
 "metadata": {
  "kernelspec": {
   "display_name": "Python 3",
   "language": "python",
   "name": "python3"
  },
  "language_info": {
   "codemirror_mode": {
    "name": "ipython",
    "version": 3
   },
   "file_extension": ".py",
   "mimetype": "text/x-python",
   "name": "python",
   "nbconvert_exporter": "python",
   "pygments_lexer": "ipython3",
   "version": "3.8.5"
  },
  "toc": {
   "base_numbering": 1,
   "nav_menu": {},
   "number_sections": true,
   "sideBar": true,
   "skip_h1_title": false,
   "title_cell": "Table of Contents",
   "title_sidebar": "Contents",
   "toc_cell": false,
   "toc_position": {},
   "toc_section_display": true,
   "toc_window_display": false
  },
  "varInspector": {
   "cols": {
    "lenName": 16,
    "lenType": 16,
    "lenVar": 40
   },
   "kernels_config": {
    "python": {
     "delete_cmd_postfix": "",
     "delete_cmd_prefix": "del ",
     "library": "var_list.py",
     "varRefreshCmd": "print(var_dic_list())"
    },
    "r": {
     "delete_cmd_postfix": ") ",
     "delete_cmd_prefix": "rm(",
     "library": "var_list.r",
     "varRefreshCmd": "cat(var_dic_list()) "
    }
   },
   "types_to_exclude": [
    "module",
    "function",
    "builtin_function_or_method",
    "instance",
    "_Feature"
   ],
   "window_display": false
  }
 },
 "nbformat": 4,
 "nbformat_minor": 2
}
