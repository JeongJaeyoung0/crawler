{
 "cells": [
  {
   "cell_type": "markdown",
   "metadata": {},
   "source": [
    "# crawling_instagram"
   ]
  },
  {
   "cell_type": "raw",
   "metadata": {},
   "source": [
    "Step 1. 인스타 > 검색어 입력 > 첫번째 검색어 선택 > 사진 클릭 > 데이터 수집\n",
    "Step 2. 이미지 저장할 폴더 생성 > 이미지 저장"
   ]
  },
  {
   "cell_type": "markdown",
   "metadata": {},
   "source": [
    "### step 0. 준비"
   ]
  },
  {
   "cell_type": "code",
   "execution_count": 3,
   "metadata": {},
   "outputs": [],
   "source": [
    "import pandas as pd\n",
    "import numpy as np\n",
    "\n",
    "from selenium import webdriver\n",
    "from selenium.webdriver import ActionChains as AC\n",
    "from tqdm import tqdm\n",
    "from tqdm import tqdm_notebook\n",
    "import re\n",
    "from time import sleep\n",
    "import time"
   ]
  },
  {
   "cell_type": "markdown",
   "metadata": {},
   "source": [
    "### step 1. 크롤링"
   ]
  },
  {
   "cell_type": "code",
   "execution_count": 4,
   "metadata": {},
   "outputs": [
    {
     "name": "stdout",
     "output_type": "stream",
     "text": [
      "크롤링할 키워드를 입력하세요: 테슬라\n",
      "크롤링할 글 수를 입력하세요: 10\n"
     ]
    }
   ],
   "source": [
    "# 검색어\n",
    "keyword = input(\"크롤링할 키워드를 입력하세요: \")\n",
    "len_insta = int(input(\"크롤링할 글 수를 입력하세요: \"))"
   ]
  },
  {
   "cell_type": "code",
   "execution_count": 5,
   "metadata": {},
   "outputs": [],
   "source": [
    "# 크롬창 띄우기\n",
    "driver = webdriver.Chrome(r\"./chromedriver/chromedriver.exe\")\n",
    "driver.get(\"https://www.instagram.com/\")\n",
    "time.sleep(2)"
   ]
  },
  {
   "cell_type": "raw",
   "metadata": {},
   "source": [
    "수동 로그인"
   ]
  },
  {
   "cell_type": "code",
   "execution_count": 6,
   "metadata": {
    "scrolled": false
   },
   "outputs": [
    {
     "name": "stderr",
     "output_type": "stream",
     "text": [
      "<ipython-input-6-321d5a58edbb>:25: TqdmDeprecationWarning: This function will be removed in tqdm==5.0.0\n",
      "Please use `tqdm.notebook.tqdm` instead of `tqdm.tqdm_notebook`\n",
      "  for i in tqdm_notebook(range(0, len_insta)):\n"
     ]
    },
    {
     "data": {
      "application/vnd.jupyter.widget-view+json": {
       "model_id": "31632a616d9149418ac6d2a440e09888",
       "version_major": 2,
       "version_minor": 0
      },
      "text/plain": [
       "HBox(children=(HTML(value=''), FloatProgress(value=0.0, max=10.0), HTML(value='')))"
      ]
     },
     "metadata": {},
     "output_type": "display_data"
    },
    {
     "name": "stdout",
     "output_type": "stream",
     "text": [
      "1  테슬라모델3퍼포먼스 풀옵 슈퍼카\n",
      "2  테슬라 모델3 승차감\n",
      "3 \n",
      "4  테슬라 테슬라x\n",
      "5  테슬라 엠프 미러볼 라운딩 아일랜드cc 씨드느와골프웨어 씨드느와크루 씨드느와\n",
      "6  테슬라 테슬라주식 미국주식 미국주식멘탈이전부다 주식스타그램 주식공부 투자 투자자\n",
      "7  테슬라 테슬라주식 미국주식 미국주식멘탈이전부다 주식스타그램 주식고수 주식공부 주식투자 주식초보\n",
      "8  instaseoul teslamodel3 igerskorea tesla model3 teslife autopilot autosteer fsd follow francais 캠린이 노을 노을맛집\n",
      "9  냉동실이름모를생선을구워 슬기로운음주생활 하이트진로 테라 참이슬 대구경북주부서포터즈 진로이즈백 필라이트 테진아 테슬라 hjdk 청정맥주 리얼탄산100 국산맥주 1위맥주 1초26병판매 집콕맥주 혼맥 홈맥 여행맥주 진로 소통 좋아요 팔로우늘리기 좋아요반사 좋반 좋아요늘리기 일상 좋아요꾹 먹스타그램\n",
      "\n",
      "{1: {'picture': 'https://scontent-ssn1-1.cdninstagram.com/v/t51.2885-15/e35/207813720_345853870378094_998024562957257922_n.jpg?_nc_ht=scontent-ssn1-1.cdninstagram.com&_nc_cat=102&_nc_ohc=DeSQK5toPwEAX_Tfh8U&edm=AP_V10EBAAAA&ccb=7-4&oh=b0bc4cad5b42267d7bfc7ffb8925b482&oe=61109481&_nc_sid=4f375e', 'date': '2021년 6월 26일', 'like': '좋아요 121개', 'tag': ' 테슬라모델3퍼포먼스 풀옵 슈퍼카'}, 2: {'picture': 'https://scontent-ssn1-1.cdninstagram.com/v/t51.2885-15/e35/s1080x1080/226192442_548491083017145_5771935671359482490_n.jpg?_nc_ht=scontent-ssn1-1.cdninstagram.com&_nc_cat=109&_nc_ohc=QPxA7MU0zWwAX9jWB93&tn=NEgSdiv0AOcwBior&edm=AP_V10EBAAAA&ccb=7-4&oh=4884e686ac85fcb390da44360cb27853&oe=61107E53&_nc_sid=4f375e', 'date': '2021년 7월 27일', 'like': '좋아요 1,291개', 'tag': ' 테슬라 모델3 승차감'}, 3: {'picture': 'https://scontent-ssn1-1.cdninstagram.com/v/t51.2885-15/e35/s1080x1080/218329494_519478395929559_7373639783916036746_n.jpg?_nc_ht=scontent-ssn1-1.cdninstagram.com&_nc_cat=103&_nc_ohc=JCcnSeDMo00AX8h5LyA&edm=AP_V10EBAAAA&ccb=7-4&oh=facbc6357c7a1ad5952620ee499ab3a9&oe=61110CC2&_nc_sid=4f375e', 'date': '2021년 7월 15일', 'like': '좋아요 378개', 'tag': ''}, 4: {'picture': 'https://scontent-ssn1-1.cdninstagram.com/v/t51.2885-15/e35/p1080x1080/208977555_117880710541167_6013402833390566943_n.jpg?_nc_ht=scontent-ssn1-1.cdninstagram.com&_nc_cat=103&_nc_ohc=09q17qrVQj0AX-P_ETT&tn=NEgSdiv0AOcwBior&edm=AP_V10EBAAAA&ccb=7-4&oh=d424d1979cb16f744b643ed91cb2f217&oe=6111D51F&_nc_sid=4f375e', 'date': '2021년 7월 3일', 'like': '좋아요 8,722개', 'tag': ' 테슬라 테슬라x'}, 5: {'picture': 'https://scontent-ssn1-1.cdninstagram.com/v/t51.2885-15/e35/p1080x1080/211307441_5798648360206995_4159368297176218424_n.jpg?_nc_ht=scontent-ssn1-1.cdninstagram.com&_nc_cat=103&_nc_ohc=cwtoBDEuS2MAX-ZCx4f&edm=AP_V10EBAAAA&ccb=7-4&oh=075df5e1192a2f5bf6430ce19b9013da&oe=6110A3FB&_nc_sid=4f375e', 'date': '2021년 7월 7일', 'like': '좋아요 430개', 'tag': ' 테슬라 엠프 미러볼 라운딩 아일랜드cc 씨드느와골프웨어 씨드느와크루 씨드느와'}, 6: {'picture': 'https://scontent-ssn1-1.cdninstagram.com/v/t51.2885-15/e35/s1080x1080/231644605_1254479781648134_2275939647611951165_n.jpg?_nc_ht=scontent-ssn1-1.cdninstagram.com&_nc_cat=102&_nc_ohc=okOl5n3yUW4AX-_paJa&edm=AP_V10EBAAAA&ccb=7-4&oh=b9c869600be8e322db77787ad56ca669&oe=6111E074&_nc_sid=4f375e', 'date': '2021년 8월 3일', 'like': '좋아요 506개', 'tag': ' 테슬라 테슬라주식 미국주식 미국주식멘탈이전부다 주식스타그램 주식공부 투자 투자자'}, 7: {'picture': 'https://scontent-ssn1-1.cdninstagram.com/v/t51.2885-15/e35/s1080x1080/232310749_183576700499070_1849644019163834273_n.jpg?_nc_ht=scontent-ssn1-1.cdninstagram.com&_nc_cat=106&_nc_ohc=KwPO8P5XTCQAX94Nm--&edm=AP_V10EBAAAA&ccb=7-4&oh=5d57ad0a8e0fcc35d4456f30e4c37420&oe=61126C51&_nc_sid=4f375e', 'date': '2021년 8월 4일', 'like': '좋아요 361개', 'tag': ' 테슬라 테슬라주식 미국주식 미국주식멘탈이전부다 주식스타그램 주식고수 주식공부 주식투자 주식초보'}, 8: {'picture': 'https://scontent-ssn1-1.cdninstagram.com/v/t51.2885-15/e35/p1080x1080/231348913_1014597756024114_2513007949117605440_n.jpg?_nc_ht=scontent-ssn1-1.cdninstagram.com&_nc_cat=106&_nc_ohc=-He8y_-VKfwAX-UAkfe&edm=AP_V10EBAAAA&ccb=7-4&oh=e91694bd2eac3dae632989cef13e0d89&oe=611258E2&_nc_sid=4f375e', 'date': '2021년 8월 4일', 'like': '좋아요 14개', 'tag': ' instaseoul teslamodel3 igerskorea tesla model3 teslife autopilot autosteer fsd follow francais 캠린이 노을 노을맛집'}, 9: {'picture': 'https://scontent-ssn1-1.cdninstagram.com/v/t51.2885-15/e35/s1080x1080/231067798_800119240651220_4910897878813882239_n.jpg?_nc_ht=scontent-ssn1-1.cdninstagram.com&_nc_cat=108&_nc_ohc=8fCiyV_qq0AAX_e5tUQ&edm=AP_V10EBAAAA&ccb=7-4&oh=5acc7abb66e6a18e771387e58bfaeb44&oe=61107581&_nc_sid=4f375e', 'date': '2021년 8월 4일', 'like': '좋아요 13개', 'tag': ' 냉동실이름모를생선을구워 슬기로운음주생활 하이트진로 테라 참이슬 대구경북주부서포터즈 진로이즈백 필라이트 테진아 테슬라 hjdk 청정맥주 리얼탄산100 국산맥주 1위맥주 1초26병판매 집콕맥주 혼맥 홈맥 여행맥주 진로 소통 좋아요 팔로우늘리기 좋아요반사 좋반 좋아요늘리기 일상 좋아요꾹 먹스타그램'}}\n"
     ]
    }
   ],
   "source": [
    "dict = {}   # 전체 데이터를 담을 딕셔너리 생성\n",
    "\n",
    "# 검색창에 커서 클릭\n",
    "element = driver.find_element_by_css_selector(\".pbgfb.Di7vw\")\n",
    "element.click()\n",
    "time.sleep(1)\n",
    "\n",
    "# 검색 창에 검색어 입력\n",
    "element = driver.find_element_by_css_selector(\".XTCLo.x3qfX\")\n",
    "element.send_keys(keyword)\n",
    "time.sleep(3)\n",
    "\n",
    "# 검색어 리스트 중 첫번째 검색어 클릭\n",
    "query_list = driver.find_elements_by_css_selector(\".-qQT3\")\n",
    "query_list[0].click()\n",
    "time.sleep(7)\n",
    "\n",
    "# 사진 클릭\n",
    "CSS_tran=\"div.Nnq7C.weEfm\"                                      # 사진 버튼 정의 \n",
    "tran_button = driver.find_element_by_css_selector(CSS_tran)     # 사진 버튼 찾기\n",
    "AC(driver).move_to_element(tran_button).click().perform()       # 사진 버튼 클릭\n",
    "time.sleep(1)\n",
    "\n",
    "# 크롤링 시작\n",
    "for i in tqdm_notebook(range(0, len_insta)):\n",
    "\n",
    "    target_info = {}                                            # 사진별 데이터를 담을 딕셔너리 생성\n",
    "\n",
    "    try:\n",
    "        # 사진(pic) 크롤링 시작\n",
    "        overlays1 = \"div._2dDPU.CkGkG .FFVAD\"                   # 사진창 속 사진   \n",
    "        img = driver.find_element_by_css_selector(overlays1)    # 사진 선택\n",
    "        pic = img.get_attribute('src')                          # 사진 url 크롤링 완료\n",
    "        target_info['picture'] = pic\n",
    "        # print(target_info)\n",
    "\n",
    "        # 날짜(date) 크롤링 시작\n",
    "        overlays2 = \"div._2dDPU.CkGkG .c-Yi7 > time\"                # 날짜 지정\n",
    "        datum2 = driver.find_element_by_css_selector(overlays2)     # 날짜 선택\n",
    "        date = datum2.get_attribute('title')\n",
    "        # get_attribute('title')                                    # 날짜 크롤링 완료\n",
    "        target_info['date'] = date\n",
    "        # print(target_info)\n",
    "        # print(datalist)\n",
    "\n",
    "        # 좋아요(like) 크롤링 시작\n",
    "        overlays3 = \".Nm9Fw\"                                        # 리뷰창 속 날짜\n",
    "        datum3 = driver.find_element_by_css_selector(overlays3)     # 리뷰 선택\n",
    "        like = datum3.text                                          # 좋아요 크롤링 완료\n",
    "        target_info['like'] = like\n",
    "        # print(target_info)\n",
    "\n",
    "        # 해시태그(tag) 크롤링 시작\n",
    "        overlays4 = \".C7I1f.X7jCj\"                                  # 태그 지정\n",
    "        datum3 = driver.find_element_by_css_selector(overlays4)     # 태그 선택\n",
    "        tag_raw = datum3.text\n",
    "        tags = re.findall('#[A-Za-z0-9가-힣]+', tag_raw)            # \"\"#OOO\"만 뽑아오기(OOO: 한글,숫자,영어,_)\n",
    "        tag = ''.join(tags).replace(\"#\",\" \")                        # \"#\" 제거\n",
    "        target_info['tag'] = tag\n",
    "        # print(target_info)\n",
    "\n",
    "        dict[i] = target_info            # 토탈 딕셔너리로 만들기\n",
    "\n",
    "        print(\"{0}\".format(i), tag)\n",
    "\n",
    "        # 다음장 클릭\n",
    "        CSS_tran2=\"a._65Bje.coreSpriteRightPaginationArrow\"             # 다음 버튼 정의\n",
    "        tran_button2 = driver.find_element_by_css_selector(CSS_tran2)  # 다음 버튼 find\n",
    "        AC(driver).move_to_element(tran_button2).click().perform()     # 다음 버튼 클릭\n",
    "        time.sleep(2)\n",
    "\n",
    "    except:  # 에러가 나면\n",
    "        # 다음장 클릭\n",
    "        CSS_tran2=\"a._65Bje.coreSpriteRightPaginationArrow\"             # 다음 버튼 정의\n",
    "        tran_button2 = driver.find_element_by_css_selector(CSS_tran2)  # 다음 버튼 find\n",
    "        AC(driver).move_to_element(tran_button2).click().perform()     # 다음 버튼 클릭\n",
    "        time.sleep(2)\n",
    "\n",
    "driver.close()\n",
    "\n",
    "print(dict)\n",
    "\n",
    "# 판다스화\n",
    "import pandas as pd\n",
    "result_df = pd.DataFrame.from_dict(dict, 'index')\n",
    "\n",
    "n = result_df['picture'].count()\n",
    "\n",
    "# 엑셀 저장\n",
    "result_df.to_excel(\"insta_({}).xlsx\".format(keyword), encoding='euc-kr')"
   ]
  },
  {
   "cell_type": "code",
   "execution_count": 7,
   "metadata": {},
   "outputs": [
    {
     "data": {
      "text/html": [
       "<div>\n",
       "<style scoped>\n",
       "    .dataframe tbody tr th:only-of-type {\n",
       "        vertical-align: middle;\n",
       "    }\n",
       "\n",
       "    .dataframe tbody tr th {\n",
       "        vertical-align: top;\n",
       "    }\n",
       "\n",
       "    .dataframe thead th {\n",
       "        text-align: right;\n",
       "    }\n",
       "</style>\n",
       "<table border=\"1\" class=\"dataframe\">\n",
       "  <thead>\n",
       "    <tr style=\"text-align: right;\">\n",
       "      <th></th>\n",
       "      <th>picture</th>\n",
       "      <th>date</th>\n",
       "      <th>like</th>\n",
       "      <th>tag</th>\n",
       "    </tr>\n",
       "  </thead>\n",
       "  <tbody>\n",
       "    <tr>\n",
       "      <th>1</th>\n",
       "      <td>https://scontent-ssn1-1.cdninstagram.com/v/t51...</td>\n",
       "      <td>2021년 6월 26일</td>\n",
       "      <td>좋아요 121개</td>\n",
       "      <td>테슬라모델3퍼포먼스 풀옵 슈퍼카</td>\n",
       "    </tr>\n",
       "    <tr>\n",
       "      <th>2</th>\n",
       "      <td>https://scontent-ssn1-1.cdninstagram.com/v/t51...</td>\n",
       "      <td>2021년 7월 27일</td>\n",
       "      <td>좋아요 1,291개</td>\n",
       "      <td>테슬라 모델3 승차감</td>\n",
       "    </tr>\n",
       "    <tr>\n",
       "      <th>3</th>\n",
       "      <td>https://scontent-ssn1-1.cdninstagram.com/v/t51...</td>\n",
       "      <td>2021년 7월 15일</td>\n",
       "      <td>좋아요 378개</td>\n",
       "      <td></td>\n",
       "    </tr>\n",
       "    <tr>\n",
       "      <th>4</th>\n",
       "      <td>https://scontent-ssn1-1.cdninstagram.com/v/t51...</td>\n",
       "      <td>2021년 7월 3일</td>\n",
       "      <td>좋아요 8,722개</td>\n",
       "      <td>테슬라 테슬라x</td>\n",
       "    </tr>\n",
       "    <tr>\n",
       "      <th>5</th>\n",
       "      <td>https://scontent-ssn1-1.cdninstagram.com/v/t51...</td>\n",
       "      <td>2021년 7월 7일</td>\n",
       "      <td>좋아요 430개</td>\n",
       "      <td>테슬라 엠프 미러볼 라운딩 아일랜드cc 씨드느와골프웨어 씨드느와크루 씨드느와</td>\n",
       "    </tr>\n",
       "    <tr>\n",
       "      <th>6</th>\n",
       "      <td>https://scontent-ssn1-1.cdninstagram.com/v/t51...</td>\n",
       "      <td>2021년 8월 3일</td>\n",
       "      <td>좋아요 506개</td>\n",
       "      <td>테슬라 테슬라주식 미국주식 미국주식멘탈이전부다 주식스타그램 주식공부 투자 투자자</td>\n",
       "    </tr>\n",
       "    <tr>\n",
       "      <th>7</th>\n",
       "      <td>https://scontent-ssn1-1.cdninstagram.com/v/t51...</td>\n",
       "      <td>2021년 8월 4일</td>\n",
       "      <td>좋아요 361개</td>\n",
       "      <td>테슬라 테슬라주식 미국주식 미국주식멘탈이전부다 주식스타그램 주식고수 주식공부 주식...</td>\n",
       "    </tr>\n",
       "    <tr>\n",
       "      <th>8</th>\n",
       "      <td>https://scontent-ssn1-1.cdninstagram.com/v/t51...</td>\n",
       "      <td>2021년 8월 4일</td>\n",
       "      <td>좋아요 14개</td>\n",
       "      <td>instaseoul teslamodel3 igerskorea tesla model...</td>\n",
       "    </tr>\n",
       "    <tr>\n",
       "      <th>9</th>\n",
       "      <td>https://scontent-ssn1-1.cdninstagram.com/v/t51...</td>\n",
       "      <td>2021년 8월 4일</td>\n",
       "      <td>좋아요 13개</td>\n",
       "      <td>냉동실이름모를생선을구워 슬기로운음주생활 하이트진로 테라 참이슬 대구경북주부서포터즈...</td>\n",
       "    </tr>\n",
       "  </tbody>\n",
       "</table>\n",
       "</div>"
      ],
      "text/plain": [
       "                                             picture          date  \\\n",
       "1  https://scontent-ssn1-1.cdninstagram.com/v/t51...  2021년 6월 26일   \n",
       "2  https://scontent-ssn1-1.cdninstagram.com/v/t51...  2021년 7월 27일   \n",
       "3  https://scontent-ssn1-1.cdninstagram.com/v/t51...  2021년 7월 15일   \n",
       "4  https://scontent-ssn1-1.cdninstagram.com/v/t51...   2021년 7월 3일   \n",
       "5  https://scontent-ssn1-1.cdninstagram.com/v/t51...   2021년 7월 7일   \n",
       "6  https://scontent-ssn1-1.cdninstagram.com/v/t51...   2021년 8월 3일   \n",
       "7  https://scontent-ssn1-1.cdninstagram.com/v/t51...   2021년 8월 4일   \n",
       "8  https://scontent-ssn1-1.cdninstagram.com/v/t51...   2021년 8월 4일   \n",
       "9  https://scontent-ssn1-1.cdninstagram.com/v/t51...   2021년 8월 4일   \n",
       "\n",
       "         like                                                tag  \n",
       "1    좋아요 121개                                  테슬라모델3퍼포먼스 풀옵 슈퍼카  \n",
       "2  좋아요 1,291개                                        테슬라 모델3 승차감  \n",
       "3    좋아요 378개                                                     \n",
       "4  좋아요 8,722개                                           테슬라 테슬라x  \n",
       "5    좋아요 430개         테슬라 엠프 미러볼 라운딩 아일랜드cc 씨드느와골프웨어 씨드느와크루 씨드느와  \n",
       "6    좋아요 506개       테슬라 테슬라주식 미국주식 미국주식멘탈이전부다 주식스타그램 주식공부 투자 투자자  \n",
       "7    좋아요 361개   테슬라 테슬라주식 미국주식 미국주식멘탈이전부다 주식스타그램 주식고수 주식공부 주식...  \n",
       "8     좋아요 14개   instaseoul teslamodel3 igerskorea tesla model...  \n",
       "9     좋아요 13개   냉동실이름모를생선을구워 슬기로운음주생활 하이트진로 테라 참이슬 대구경북주부서포터즈...  "
      ]
     },
     "execution_count": 7,
     "metadata": {},
     "output_type": "execute_result"
    }
   ],
   "source": [
    "result_df"
   ]
  },
  {
   "cell_type": "code",
   "execution_count": 8,
   "metadata": {},
   "outputs": [
    {
     "data": {
      "text/plain": [
       "9"
      ]
     },
     "execution_count": 8,
     "metadata": {},
     "output_type": "execute_result"
    }
   ],
   "source": [
    "num_pic = len(result_df['picture'])\n",
    "num_pic"
   ]
  },
  {
   "cell_type": "markdown",
   "metadata": {},
   "source": [
    "### step 2. 이미지 저장"
   ]
  },
  {
   "cell_type": "code",
   "execution_count": 9,
   "metadata": {},
   "outputs": [],
   "source": [
    "# 이미지들 image_insta 폴더에 다운받기\n",
    "import os\n",
    "import urllib.request\n",
    "\n",
    "# 만약 폴더가 없으면 생성\n",
    "if not os.path.exists(\"image_insta_\"+keyword):  #if not () 없으면\n",
    "    os.makedirs(\"image_insta_\"+keyword)         # 생성\n",
    "\n",
    "# 이미지 저장\n",
    "for i in range(0, 50):\n",
    "    try:\n",
    "        index = result_df['picture'][i]\n",
    "        date = result_df['date'][i]\n",
    "        urllib.request.urlretrieve(index, \"image_insta_{0}/{1}_{2}.jpg\".format(keyword, i, date))        \n",
    "    except:\n",
    "        pass"
   ]
  },
  {
   "cell_type": "code",
   "execution_count": null,
   "metadata": {},
   "outputs": [],
   "source": []
  }
 ],
 "metadata": {
  "kernelspec": {
   "display_name": "Python 3",
   "language": "python",
   "name": "python3"
  },
  "language_info": {
   "codemirror_mode": {
    "name": "ipython",
    "version": 3
   },
   "file_extension": ".py",
   "mimetype": "text/x-python",
   "name": "python",
   "nbconvert_exporter": "python",
   "pygments_lexer": "ipython3",
   "version": "3.8.5"
  },
  "toc": {
   "base_numbering": 1,
   "nav_menu": {},
   "number_sections": true,
   "sideBar": true,
   "skip_h1_title": false,
   "title_cell": "Table of Contents",
   "title_sidebar": "Contents",
   "toc_cell": false,
   "toc_position": {},
   "toc_section_display": true,
   "toc_window_display": false
  },
  "varInspector": {
   "cols": {
    "lenName": 16,
    "lenType": 16,
    "lenVar": 40
   },
   "kernels_config": {
    "python": {
     "delete_cmd_postfix": "",
     "delete_cmd_prefix": "del ",
     "library": "var_list.py",
     "varRefreshCmd": "print(var_dic_list())"
    },
    "r": {
     "delete_cmd_postfix": ") ",
     "delete_cmd_prefix": "rm(",
     "library": "var_list.r",
     "varRefreshCmd": "cat(var_dic_list()) "
    }
   },
   "types_to_exclude": [
    "module",
    "function",
    "builtin_function_or_method",
    "instance",
    "_Feature"
   ],
   "window_display": false
  }
 },
 "nbformat": 4,
 "nbformat_minor": 2
}
