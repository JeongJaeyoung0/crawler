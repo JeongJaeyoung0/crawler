{
 "cells": [
  {
   "cell_type": "markdown",
   "metadata": {
    "id": "pCZaIO118sND"
   },
   "source": [
    "# crawling_dbpia"
   ]
  },
  {
   "cell_type": "markdown",
   "metadata": {},
   "source": [
    "### 수집: 제목, 저자, 년도, KCI등재여부"
   ]
  },
  {
   "cell_type": "markdown",
   "metadata": {
    "id": "ZR8pV7-68sNE"
   },
   "source": [
    "### step 0. 준비"
   ]
  },
  {
   "cell_type": "code",
   "execution_count": 2,
   "metadata": {
    "executionInfo": {
     "elapsed": 6,
     "status": "ok",
     "timestamp": 1629013577206,
     "user": {
      "displayName": "Jaeyoung Jeong",
      "photoUrl": "https://lh3.googleusercontent.com/a-/AOh14GhsK0gzIyCaqt3838rNBxCPlb10R9TN9Jlm1Cp3=s64",
      "userId": "14387671912167104849"
     },
     "user_tz": -540
    },
    "id": "AJ9Ifb9n904P"
   },
   "outputs": [],
   "source": [
    "import sys    # 시스템\n",
    "import os     # 시스템\n",
    "\n",
    "import pandas as pd    # 판다스 : 데이터분석 라이브러리\n",
    "import numpy as np     # 넘파이 : 숫자, 행렬 데이터 라이브러리\n",
    "\n",
    "from bs4 import BeautifulSoup     # html 데이터 전처리\n",
    "from selenium import webdriver    # 웹 브라우저 자동화\n",
    "import time                       # 시간 지연\n",
    "from tqdm import tqdm_notebook    # 진행상황 표시"
   ]
  },
  {
   "cell_type": "markdown",
   "metadata": {
    "id": "TvxvI9kZ8sNF"
   },
   "source": [
    "### step 1. 제목, 저자 크롤링"
   ]
  },
  {
   "cell_type": "code",
   "execution_count": 128,
   "metadata": {
    "colab": {
     "base_uri": "https://localhost:8080/"
    },
    "executionInfo": {
     "elapsed": 20218,
     "status": "ok",
     "timestamp": 1625708314584,
     "user": {
      "displayName": "Jaeyoung Jeong",
      "photoUrl": "https://lh3.googleusercontent.com/a-/AOh14GhsK0gzIyCaqt3838rNBxCPlb10R9TN9Jlm1Cp3=s64",
      "userId": "14387671912167104849"
     },
     "user_tz": -540
    },
    "id": "hGxCCaxy8sNF",
    "outputId": "97443219-447c-41db-ec92-a16181214db8"
   },
   "outputs": [
    {
     "name": "stdout",
     "output_type": "stream",
     "text": [
      "크롤링할 검색어 입력: 교사 and 통합교육효능감\n"
     ]
    }
   ],
   "source": [
    "# 크롤링 할 검색어\n",
    "keyword = input(\"크롤링할 검색어 입력: \")"
   ]
  },
  {
   "cell_type": "code",
   "execution_count": 129,
   "metadata": {},
   "outputs": [],
   "source": [
    "# 크롬 웹브라우저 실행\n",
    "driver = webdriver.Chrome(r\"./chromedriver/chromedriver.exe\")"
   ]
  },
  {
   "cell_type": "code",
   "execution_count": 130,
   "metadata": {},
   "outputs": [],
   "source": [
    "# 사이트 주소\n",
    "driver.get(\"https://www.dbpia.co.kr/search/topSearch?startCount=0&collection=ALL&range=A&searchField=ALL&sort=RANK&query=%s&srchOption=*&includeAr=false&searchOption=*\"%keyword)\n",
    "time.sleep(5)"
   ]
  },
  {
   "cell_type": "code",
   "execution_count": 88,
   "metadata": {},
   "outputs": [],
   "source": [
    "# 년도 수동 입력"
   ]
  },
  {
   "cell_type": "code",
   "execution_count": 131,
   "metadata": {
    "scrolled": true
   },
   "outputs": [
    {
     "name": "stdout",
     "output_type": "stream",
     "text": [
      "20 20 20 20\n",
      "40 40 40 40\n",
      "60 60 60 60\n",
      "80 80 80 80\n",
      "100 100 100 100\n",
      "102 102 102 102\n",
      "마지막 페이지\n"
     ]
    }
   ],
   "source": [
    "title_list = []\n",
    "name_list = []\n",
    "year_list = []\n",
    "kci_list = []\n",
    "\n",
    "for i in range(2,100):\n",
    "    # 10 페이지 일 경우 next\n",
    "    if i % 10 == 0:\n",
    "        try:\n",
    "            driver.find_element_by_css_selector(\"#next\").click()\n",
    "            time.sleep(5)\n",
    "        except:\n",
    "            print(\"next가 없음\")\n",
    "            break    \n",
    "            \n",
    "    # 제목 클롤링\n",
    "    titles = driver.find_elements_by_css_selector(\".titWrap\")\n",
    "    for tit in titles:\n",
    "        title = tit.text\n",
    "        title_list.append(title)\n",
    "    \n",
    "    infos = driver.find_elements_by_css_selector(\".info\")\n",
    "    # 인포\n",
    "    for inf in infos[0:-2]:\n",
    "        info = inf.text\n",
    "        info_spl = info.split('\\n')\n",
    "        \n",
    "        # 저자 크롤링\n",
    "        name = info_spl[0]\n",
    "        name_list.append(name)\n",
    "        \n",
    "        # KCI 크롤링\n",
    "        if 'KCI' in info_spl[-1]:\n",
    "            kci_list.append(info_spl[-1])\n",
    "        if 'KCI' not in info_spl[-1]:\n",
    "            kci_list.append('미등재')\n",
    "\n",
    "        # 날짜 크롤링\n",
    "        for in_sp in info_spl:\n",
    "            if '20' in in_sp and 'page' not in in_sp and '(' not in in_sp:\n",
    "                year_list.append(in_sp[0:4])\n",
    "        \n",
    "    print(len(title_list), len(name_list), len(kci_list), len(year_list))\n",
    "    \n",
    "    # 일의 자리가 1이 아닐 경우 페이지 넘기기\n",
    "    if i % 10 != 1:\n",
    "        try:\n",
    "            driver.find_element_by_css_selector(\"#pcPaging%s\"%i).click()\n",
    "            time.sleep(5)\n",
    "        except:\n",
    "            print(\"마지막 페이지\")\n",
    "            break\n",
    "# driver.close()"
   ]
  },
  {
   "cell_type": "code",
   "execution_count": 132,
   "metadata": {
    "scrolled": true
   },
   "outputs": [
    {
     "name": "stdout",
     "output_type": "stream",
     "text": [
      "크롤링 글 수 : 102\n"
     ]
    },
    {
     "data": {
      "text/html": [
       "<div>\n",
       "<style scoped>\n",
       "    .dataframe tbody tr th:only-of-type {\n",
       "        vertical-align: middle;\n",
       "    }\n",
       "\n",
       "    .dataframe tbody tr th {\n",
       "        vertical-align: top;\n",
       "    }\n",
       "\n",
       "    .dataframe thead th {\n",
       "        text-align: right;\n",
       "    }\n",
       "</style>\n",
       "<table border=\"1\" class=\"dataframe\">\n",
       "  <thead>\n",
       "    <tr style=\"text-align: right;\">\n",
       "      <th></th>\n",
       "      <th>저자</th>\n",
       "      <th>연도</th>\n",
       "      <th>논문제목</th>\n",
       "      <th>KCI 등재여부</th>\n",
       "    </tr>\n",
       "  </thead>\n",
       "  <tbody>\n",
       "    <tr>\n",
       "      <th>0</th>\n",
       "      <td>남숙, 곽승철</td>\n",
       "      <td>2020</td>\n",
       "      <td>통합교육 맥락에서 예비초등교사의 자기효능감 변화분석: 특수교육학개론 이수 전과 후</td>\n",
       "      <td>미등재</td>\n",
       "    </tr>\n",
       "    <tr>\n",
       "      <th>1</th>\n",
       "      <td>김성범</td>\n",
       "      <td>2020</td>\n",
       "      <td>통합상황에서 ADHD 아동을 교육하는 일반교사의 직무스트레스와 심리적소진의 관계에서...</td>\n",
       "      <td>미등재</td>\n",
       "    </tr>\n",
       "    <tr>\n",
       "      <th>2</th>\n",
       "      <td>서효정, 박윤정</td>\n",
       "      <td>2018</td>\n",
       "      <td>특수교육학개론 수업을 통한 예비 일반교사의 통합교육, 교수적 수정 실행, 교사 효능...</td>\n",
       "      <td>KCI등재</td>\n",
       "    </tr>\n",
       "    <tr>\n",
       "      <th>3</th>\n",
       "      <td>지덕영, 맹희주, 손연아</td>\n",
       "      <td>2019</td>\n",
       "      <td>지속가능발전교육과 과학교육의 통합에 대한 초·중등 과학교사들의 인식</td>\n",
       "      <td>KCI등재</td>\n",
       "    </tr>\n",
       "    <tr>\n",
       "      <th>4</th>\n",
       "      <td>김수진, 이미숙</td>\n",
       "      <td>2019</td>\n",
       "      <td>예비교사의 장애 및 통합교육 인식 변화를 위한 '문제중심학습(PBL)' 적용 효과 연구</td>\n",
       "      <td>KCI등재</td>\n",
       "    </tr>\n",
       "    <tr>\n",
       "      <th>...</th>\n",
       "      <td>...</td>\n",
       "      <td>...</td>\n",
       "      <td>...</td>\n",
       "      <td>...</td>\n",
       "    </tr>\n",
       "    <tr>\n",
       "      <th>97</th>\n",
       "      <td>한정규, 이동형</td>\n",
       "      <td>2018</td>\n",
       "      <td>초등학생의 학급풍토 관련변인에 대한 메타분석</td>\n",
       "      <td>KCI등재</td>\n",
       "    </tr>\n",
       "    <tr>\n",
       "      <th>98</th>\n",
       "      <td>배옥현</td>\n",
       "      <td>2017</td>\n",
       "      <td>경상북도 다문화가족자녀 역량강화를 위한 지원방안</td>\n",
       "      <td>미등재</td>\n",
       "    </tr>\n",
       "    <tr>\n",
       "      <th>99</th>\n",
       "      <td>박민애, 손원숙</td>\n",
       "      <td>2016</td>\n",
       "      <td>학습을 위한 평가 척도(AFL-Q)의 타당화</td>\n",
       "      <td>KCI등재</td>\n",
       "    </tr>\n",
       "    <tr>\n",
       "      <th>100</th>\n",
       "      <td>차영숙, 최정아</td>\n",
       "      <td>2015</td>\n",
       "      <td>유아 음악수업의 컨설팅 매뉴얼 개발을 위한 기초연구</td>\n",
       "      <td>KCI등재</td>\n",
       "    </tr>\n",
       "    <tr>\n",
       "      <th>101</th>\n",
       "      <td>이기용, 이건남</td>\n",
       "      <td>2013</td>\n",
       "      <td>국내 학술지에 게재된 초등 다문화교육 관련연구의 동향 분석</td>\n",
       "      <td>KCI등재</td>\n",
       "    </tr>\n",
       "  </tbody>\n",
       "</table>\n",
       "<p>102 rows × 4 columns</p>\n",
       "</div>"
      ],
      "text/plain": [
       "                저자    연도                                               논문제목  \\\n",
       "0          남숙, 곽승철  2020      통합교육 맥락에서 예비초등교사의 자기효능감 변화분석: 특수교육학개론 이수 전과 후   \n",
       "1              김성범  2020  통합상황에서 ADHD 아동을 교육하는 일반교사의 직무스트레스와 심리적소진의 관계에서...   \n",
       "2         서효정, 박윤정  2018  특수교육학개론 수업을 통한 예비 일반교사의 통합교육, 교수적 수정 실행, 교사 효능...   \n",
       "3    지덕영, 맹희주, 손연아  2019              지속가능발전교육과 과학교육의 통합에 대한 초·중등 과학교사들의 인식   \n",
       "4         김수진, 이미숙  2019   예비교사의 장애 및 통합교육 인식 변화를 위한 '문제중심학습(PBL)' 적용 효과 연구   \n",
       "..             ...   ...                                                ...   \n",
       "97        한정규, 이동형  2018                           초등학생의 학급풍토 관련변인에 대한 메타분석   \n",
       "98             배옥현  2017                         경상북도 다문화가족자녀 역량강화를 위한 지원방안   \n",
       "99        박민애, 손원숙  2016                           학습을 위한 평가 척도(AFL-Q)의 타당화   \n",
       "100       차영숙, 최정아  2015                       유아 음악수업의 컨설팅 매뉴얼 개발을 위한 기초연구   \n",
       "101       이기용, 이건남  2013                   국내 학술지에 게재된 초등 다문화교육 관련연구의 동향 분석   \n",
       "\n",
       "    KCI 등재여부  \n",
       "0        미등재  \n",
       "1        미등재  \n",
       "2      KCI등재  \n",
       "3      KCI등재  \n",
       "4      KCI등재  \n",
       "..       ...  \n",
       "97     KCI등재  \n",
       "98       미등재  \n",
       "99     KCI등재  \n",
       "100    KCI등재  \n",
       "101    KCI등재  \n",
       "\n",
       "[102 rows x 4 columns]"
      ]
     },
     "execution_count": 132,
     "metadata": {},
     "output_type": "execute_result"
    }
   ],
   "source": [
    "df = pd.DataFrame({'저자':name_list, '연도':year_list, '논문제목':title_list, 'KCI 등재여부':kci_list})\n",
    "df"
   ]
  },
  {
   "cell_type": "code",
   "execution_count": 133,
   "metadata": {},
   "outputs": [],
   "source": [
    "# 엑셀 저장\n",
    "df.to_excel(\"dbpia_%s.xlsx\"%keyword, encoding='utf-8-sig')"
   ]
  },
  {
   "cell_type": "code",
   "execution_count": null,
   "metadata": {},
   "outputs": [],
   "source": []
  }
 ],
 "metadata": {
  "colab": {
   "collapsed_sections": [],
   "name": "crawling_dbpia(colab).ipynb",
   "provenance": []
  },
  "kernelspec": {
   "display_name": "Python 3",
   "language": "python",
   "name": "python3"
  },
  "language_info": {
   "codemirror_mode": {
    "name": "ipython",
    "version": 3
   },
   "file_extension": ".py",
   "mimetype": "text/x-python",
   "name": "python",
   "nbconvert_exporter": "python",
   "pygments_lexer": "ipython3",
   "version": "3.8.5"
  },
  "toc": {
   "base_numbering": 1,
   "nav_menu": {},
   "number_sections": true,
   "sideBar": true,
   "skip_h1_title": false,
   "title_cell": "Table of Contents",
   "title_sidebar": "Contents",
   "toc_cell": false,
   "toc_position": {},
   "toc_section_display": true,
   "toc_window_display": false
  },
  "varInspector": {
   "cols": {
    "lenName": 16,
    "lenType": 16,
    "lenVar": 40
   },
   "kernels_config": {
    "python": {
     "delete_cmd_postfix": "",
     "delete_cmd_prefix": "del ",
     "library": "var_list.py",
     "varRefreshCmd": "print(var_dic_list())"
    },
    "r": {
     "delete_cmd_postfix": ") ",
     "delete_cmd_prefix": "rm(",
     "library": "var_list.r",
     "varRefreshCmd": "cat(var_dic_list()) "
    }
   },
   "types_to_exclude": [
    "module",
    "function",
    "builtin_function_or_method",
    "instance",
    "_Feature"
   ],
   "window_display": false
  }
 },
 "nbformat": 4,
 "nbformat_minor": 1
}
