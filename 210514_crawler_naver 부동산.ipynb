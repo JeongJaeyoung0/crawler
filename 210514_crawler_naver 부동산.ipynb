{
 "cells": [
  {
   "cell_type": "raw",
   "metadata": {},
   "source": [
    "2021.05.14"
   ]
  },
  {
   "cell_type": "markdown",
   "metadata": {},
   "source": [
    "# crawler_naver 부동산"
   ]
  },
  {
   "cell_type": "raw",
   "metadata": {},
   "source": [
    "step 1. 네이버 부동산 > 토지 > 매매 > 대지 형태, 가격, 면적 크롤링 > 판다스화 > 엑셀저장"
   ]
  },
  {
   "cell_type": "code",
   "execution_count": 1,
   "metadata": {},
   "outputs": [
    {
     "data": {
      "text/plain": [
       "'C:\\\\Users\\\\3\\\\Desktop\\\\정재영\\\\01_AI\\\\02_파이썬\\\\연습'"
      ]
     },
     "execution_count": 1,
     "metadata": {},
     "output_type": "execute_result"
    }
   ],
   "source": [
    "pwd"
   ]
  },
  {
   "cell_type": "markdown",
   "metadata": {},
   "source": [
    "### step 0. 준비"
   ]
  },
  {
   "cell_type": "code",
   "execution_count": 2,
   "metadata": {},
   "outputs": [],
   "source": [
    "import sys    # 시스템\n",
    "import os     # 시스템\n",
    "\n",
    "import pandas as pd    # 판다스 : 데이터분석 라이브러리\n",
    "import numpy as np     # 넘파이 : 숫자, 행렬 데이터 라이브러리\n",
    "\n",
    "from bs4 import BeautifulSoup     # html 데이터 전처리\n",
    "from selenium import webdriver    # 웹 브라우저 자동화\n",
    "import time                       # 시간 지연\n",
    "from tqdm import tqdm_notebook    # 진행상황 표시"
   ]
  },
  {
   "cell_type": "code",
   "execution_count": 3,
   "metadata": {},
   "outputs": [],
   "source": [
    "address_list = [] #주소\n",
    "text_list = [] # 대\n",
    "deal_list = [] # 거래 방식\n",
    "won_list = [] # 가격\n",
    "kind_list = [] # 토지\n",
    "area_list = [] # 면적"
   ]
  },
  {
   "cell_type": "markdown",
   "metadata": {},
   "source": [
    "### step 1. 부동산 크롤링"
   ]
  },
  {
   "cell_type": "code",
   "execution_count": 4,
   "metadata": {},
   "outputs": [],
   "source": [
    "# 크롬 웹브라우저 실행\n",
    "driver = webdriver.Chrome(r\"C:\\Users\\3\\Desktop\\정재영\\exe\\chromedriver.exe\")\n",
    "\n",
    "# 사이트 주소\n",
    "driver.get(\"https://new.land.naver.com/offices?ms=36.3615444,127.3784552,14&a=SG:SMS:GJCG:APTHGJ:GM:TJ&e=RETAIL\")\n",
    "time.sleep(2)\n",
    "\n",
    "# 토지 클릭\n",
    "driver.find_element_by_xpath(\"/html/body/div[2]/div/div[1]/a[4]/span/em[4]\").click()\n",
    "time.sleep(1)\n",
    "\n",
    "driver.find_element_by_css_selector(\".filter_btn_select\").click()\n",
    "driver.find_element_by_xpath(\"/html/body/div[2]/div/section/div[1]/div/div[1]/div/div[1]/div/ul/li[2]/label\").click()\n",
    "driver.find_element_by_css_selector(\".btn_close\").click()\n",
    "\n",
    "# 상가, 사무실, 공장/창고, 지식산업센터, 건물 클릭으로 해제\n",
    "driver.find_element_by_css_selector(\"#type0\").click()\n",
    "driver.find_element_by_css_selector(\"#type1\").click()\n",
    "driver.find_element_by_css_selector(\"#type2\").click()\n",
    "driver.find_element_by_css_selector(\"#type3\").click()\n",
    "driver.find_element_by_css_selector(\"#type4\").click()\n",
    "time.sleep(1)"
   ]
  },
  {
   "cell_type": "code",
   "execution_count": 5,
   "metadata": {},
   "outputs": [],
   "source": [
    "# 시 클릭\n",
    "driver.find_element_by_xpath(\"/html/body/div[2]/div/section/div[2]/div/div[1]/div/div/a/span[1]\").click()\n",
    "time.sleep(0.5)\n",
    "\n",
    "# 대전시 클릭\n",
    "driver.find_element_by_xpath(\"/html/body/div[2]/div/section/div[2]/div/div[1]/div/div/div/div[2]/ul/li[5]/label\").click()\n",
    "time.sleep(0.5)\n",
    "\n",
    "# 구 목록 가져오기\n",
    "address1 = driver.find_element_by_css_selector(\".area_list--district\").text.split()\n",
    "\n",
    "# 구 클릭\n",
    "for i1 in range(1, len(address1)+1):\n",
    "    time.sleep(0.5) \n",
    "    #element1 = \"/html/body/div[2]/div/section/div[2]/div[2]/div[1]/div/div/div/div[2]/ul/li[{}]/label\".format(i1)\n",
    "    element1 = \"/html/body/div[2]/div/section/div[2]/div/div[1]/div/div/div/div[2]/ul/li[{}]/label\".format(i1)\n",
    "    driver.find_element_by_xpath(element1).click()\n",
    "    time.sleep(0.5)\n",
    "    \n",
    "    # 동 목록 가져오기\n",
    "    address2 = driver.find_element_by_css_selector(\".area_list--district\").text.split()\n",
    "\n",
    "    # 동 클릭\n",
    "    for i2 in range(1, len(address2)+1):\n",
    "        #element2 = \"/html/body/div[2]/div/section/div[2]/div[2]/div[1]/div/div/div/div[2]/ul/li[{}]/label\".format(i2)\n",
    "        element2 = \"/html/body/div[2]/div/section/div[2]/div/div[1]/div/div/div/div[2]/ul/li[{}]/label\".format(i2)\n",
    "        driver.find_element_by_xpath(element2).click()\n",
    "        time.sleep(1)\n",
    "    \n",
    "        # 크롤링\n",
    "        item = driver.find_element_by_css_selector(\".item_list.item_list--article\").text\n",
    "\n",
    "        item_text = item.split('\\n')\n",
    "\n",
    "        ok_num = list(filter(lambda x: ('m²' in item_text[x]), range(len(item_text))))\n",
    "\n",
    "        # 대\n",
    "        for i in ok_num:\n",
    "            text_list.append(item_text[i-2])\n",
    "\n",
    "        # 거래 방식\n",
    "        for i in ok_num:\n",
    "            deal_list.append(item_text[i-1][0:2])\n",
    "\n",
    "        # 가격\n",
    "        for i in ok_num:\n",
    "            price = item_text[i-1][2:]\n",
    "            # 가격에 억 이하 단위가 없을 시 0000 삽입\n",
    "            if price[-1] =='억':\n",
    "                price = price + '0000'\n",
    "\n",
    "            # (억 , 띄워쓰기) 제거\n",
    "            won = ''.join( x for x in price if x not in '억, ')\n",
    "            # 원 단위로 변환\n",
    "            won += '0000'\n",
    "            won_list.append(int(won))\n",
    "\n",
    "        # 토지\n",
    "        for i in ok_num:\n",
    "            kind_list.append(item_text[i][0:2])\n",
    "\n",
    "        # 면적\n",
    "        for i in ok_num:\n",
    "            area = item_text[i][2:-2]\n",
    "            area_list.append(int(area))\n",
    "        \n",
    "        # 주소 저장\n",
    "        address = address1[i1-1], address2[i2-1]\n",
    "        for i in ok_num:\n",
    "            address_list.append(address)\n",
    "\n",
    "        print(address1[i1-1], address2[i2-1], len(address_list), len(text_list), len(deal_list), len(won_list), len(kind_list), len(area_list))\n",
    "    \n",
    "        driver.find_element_by_xpath(\"/html/body/div[2]/div/section/div[2]/div[2]/div[1]/div/div/a/span[3]\").click()\n",
    "        \n",
    "    time.sleep(0.5)\n",
    "    driver.find_element_by_xpath(\"/html/body/div[2]/div/section/div[2]/div[2]/div[1]/div/div/a/span[2]\").click()\n",
    "    time.sleep(0.5)\n",
    "    driver.find_element_by_xpath(\"/html/body/div[2]/div/section/div[2]/div[2]/div[1]/div/div/a/span[2]\").click()"
   ]
  },
  {
   "cell_type": "code",
   "execution_count": 7,
   "metadata": {},
   "outputs": [
    {
     "data": {
      "text/html": [
       "<div>\n",
       "<style scoped>\n",
       "    .dataframe tbody tr th:only-of-type {\n",
       "        vertical-align: middle;\n",
       "    }\n",
       "\n",
       "    .dataframe tbody tr th {\n",
       "        vertical-align: top;\n",
       "    }\n",
       "\n",
       "    .dataframe thead th {\n",
       "        text-align: right;\n",
       "    }\n",
       "</style>\n",
       "<table border=\"1\" class=\"dataframe\">\n",
       "  <thead>\n",
       "    <tr style=\"text-align: right;\">\n",
       "      <th></th>\n",
       "      <th>주소</th>\n",
       "      <th>구분</th>\n",
       "      <th>거래방식</th>\n",
       "      <th>가격</th>\n",
       "      <th>대지형태</th>\n",
       "      <th>면적</th>\n",
       "    </tr>\n",
       "  </thead>\n",
       "  <tbody>\n",
       "    <tr>\n",
       "      <th>0</th>\n",
       "      <td>(대덕구, 갈전동)</td>\n",
       "      <td>임야</td>\n",
       "      <td>매매</td>\n",
       "      <td>135000000</td>\n",
       "      <td>토지</td>\n",
       "      <td>7445</td>\n",
       "    </tr>\n",
       "    <tr>\n",
       "      <th>1</th>\n",
       "      <td>(대덕구, 갈전동)</td>\n",
       "      <td>임야</td>\n",
       "      <td>매매</td>\n",
       "      <td>220000000</td>\n",
       "      <td>토지</td>\n",
       "      <td>35519</td>\n",
       "    </tr>\n",
       "    <tr>\n",
       "      <th>2</th>\n",
       "      <td>(대덕구, 대화동)</td>\n",
       "      <td>대</td>\n",
       "      <td>매매</td>\n",
       "      <td>135000000</td>\n",
       "      <td>토지</td>\n",
       "      <td>89</td>\n",
       "    </tr>\n",
       "    <tr>\n",
       "      <th>3</th>\n",
       "      <td>(대덕구, 대화동)</td>\n",
       "      <td>대</td>\n",
       "      <td>매매</td>\n",
       "      <td>1320000000</td>\n",
       "      <td>토지</td>\n",
       "      <td>1148</td>\n",
       "    </tr>\n",
       "    <tr>\n",
       "      <th>4</th>\n",
       "      <td>(대덕구, 대화동)</td>\n",
       "      <td>대</td>\n",
       "      <td>매매</td>\n",
       "      <td>1320000000</td>\n",
       "      <td>토지</td>\n",
       "      <td>1148</td>\n",
       "    </tr>\n",
       "    <tr>\n",
       "      <th>...</th>\n",
       "      <td>...</td>\n",
       "      <td>...</td>\n",
       "      <td>...</td>\n",
       "      <td>...</td>\n",
       "      <td>...</td>\n",
       "      <td>...</td>\n",
       "    </tr>\n",
       "    <tr>\n",
       "      <th>1206</th>\n",
       "      <td>(중구, 태평동)</td>\n",
       "      <td>대</td>\n",
       "      <td>매매</td>\n",
       "      <td>4500000000</td>\n",
       "      <td>토지</td>\n",
       "      <td>731</td>\n",
       "    </tr>\n",
       "    <tr>\n",
       "      <th>1207</th>\n",
       "      <td>(중구, 태평동)</td>\n",
       "      <td>대</td>\n",
       "      <td>매매</td>\n",
       "      <td>4500000000</td>\n",
       "      <td>토지</td>\n",
       "      <td>1488</td>\n",
       "    </tr>\n",
       "    <tr>\n",
       "      <th>1208</th>\n",
       "      <td>(중구, 호동)</td>\n",
       "      <td>전</td>\n",
       "      <td>매매</td>\n",
       "      <td>142000000</td>\n",
       "      <td>토지</td>\n",
       "      <td>276</td>\n",
       "    </tr>\n",
       "    <tr>\n",
       "      <th>1209</th>\n",
       "      <td>(중구, 호동)</td>\n",
       "      <td>대</td>\n",
       "      <td>매매</td>\n",
       "      <td>550000000</td>\n",
       "      <td>토지</td>\n",
       "      <td>351</td>\n",
       "    </tr>\n",
       "    <tr>\n",
       "      <th>1210</th>\n",
       "      <td>(중구, 호동)</td>\n",
       "      <td>대</td>\n",
       "      <td>매매</td>\n",
       "      <td>627000000</td>\n",
       "      <td>토지</td>\n",
       "      <td>601</td>\n",
       "    </tr>\n",
       "  </tbody>\n",
       "</table>\n",
       "<p>1211 rows × 6 columns</p>\n",
       "</div>"
      ],
      "text/plain": [
       "              주소  구분 거래방식          가격 대지형태     면적\n",
       "0     (대덕구, 갈전동)  임야   매매   135000000   토지   7445\n",
       "1     (대덕구, 갈전동)  임야   매매   220000000   토지  35519\n",
       "2     (대덕구, 대화동)   대   매매   135000000   토지     89\n",
       "3     (대덕구, 대화동)   대   매매  1320000000   토지   1148\n",
       "4     (대덕구, 대화동)   대   매매  1320000000   토지   1148\n",
       "...          ...  ..  ...         ...  ...    ...\n",
       "1206   (중구, 태평동)   대   매매  4500000000   토지    731\n",
       "1207   (중구, 태평동)   대   매매  4500000000   토지   1488\n",
       "1208    (중구, 호동)   전   매매   142000000   토지    276\n",
       "1209    (중구, 호동)   대   매매   550000000   토지    351\n",
       "1210    (중구, 호동)   대   매매   627000000   토지    601\n",
       "\n",
       "[1211 rows x 6 columns]"
      ]
     },
     "execution_count": 7,
     "metadata": {},
     "output_type": "execute_result"
    }
   ],
   "source": [
    "df = pd.DataFrame({'주소':address_list, '구분':text_list, '거래방식':deal_list, '가격':won_list, '대지형태':kind_list, '면적':area_list})\n",
    "df"
   ]
  },
  {
   "cell_type": "code",
   "execution_count": 8,
   "metadata": {},
   "outputs": [
    {
     "name": "stdout",
     "output_type": "stream",
     "text": [
      "<class 'pandas.core.frame.DataFrame'>\n",
      "RangeIndex: 1211 entries, 0 to 1210\n",
      "Data columns (total 6 columns):\n",
      " #   Column  Non-Null Count  Dtype \n",
      "---  ------  --------------  ----- \n",
      " 0   주소      1211 non-null   object\n",
      " 1   구분      1211 non-null   object\n",
      " 2   거래방식    1211 non-null   object\n",
      " 3   가격      1211 non-null   int64 \n",
      " 4   대지형태    1211 non-null   object\n",
      " 5   면적      1211 non-null   int64 \n",
      "dtypes: int64(2), object(4)\n",
      "memory usage: 56.9+ KB\n"
     ]
    }
   ],
   "source": [
    "df.info()"
   ]
  },
  {
   "cell_type": "code",
   "execution_count": 9,
   "metadata": {},
   "outputs": [],
   "source": [
    "df.to_excel('crawler_naver 부동산.xlsx')"
   ]
  },
  {
   "cell_type": "code",
   "execution_count": null,
   "metadata": {},
   "outputs": [],
   "source": []
  }
 ],
 "metadata": {
  "kernelspec": {
   "display_name": "Python 3",
   "language": "python",
   "name": "python3"
  },
  "language_info": {
   "codemirror_mode": {
    "name": "ipython",
    "version": 3
   },
   "file_extension": ".py",
   "mimetype": "text/x-python",
   "name": "python",
   "nbconvert_exporter": "python",
   "pygments_lexer": "ipython3",
   "version": "3.8.5"
  },
  "toc": {
   "base_numbering": 1,
   "nav_menu": {},
   "number_sections": true,
   "sideBar": true,
   "skip_h1_title": false,
   "title_cell": "Table of Contents",
   "title_sidebar": "Contents",
   "toc_cell": false,
   "toc_position": {},
   "toc_section_display": true,
   "toc_window_display": false
  }
 },
 "nbformat": 4,
 "nbformat_minor": 4
}
