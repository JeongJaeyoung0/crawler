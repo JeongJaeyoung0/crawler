{
 "cells": [
  {
   "cell_type": "raw",
   "metadata": {},
   "source": [
    "2021.05.08"
   ]
  },
  {
   "cell_type": "markdown",
   "metadata": {},
   "source": [
    "# crawler_naver news"
   ]
  },
  {
   "cell_type": "raw",
   "metadata": {},
   "source": [
    "Step 1. 네이버 > 검색어 입력 > 뉴스> 네이버뉴스 url 수집 > 저장 (naver_news_url.xlsx)\n",
    "Step 2. naver_news_url.xlsx 불러오기 > 제목, 날짜, 댓글, 좋아요 크롤링 > 저장 (naver_news_keyword.xlsx)"
   ]
  },
  {
   "cell_type": "code",
   "execution_count": null,
   "metadata": {
    "scrolled": true
   },
   "outputs": [],
   "source": [
    "pwd"
   ]
  },
  {
   "cell_type": "markdown",
   "metadata": {},
   "source": [
    "### Step 0. 준비"
   ]
  },
  {
   "cell_type": "code",
   "execution_count": null,
   "metadata": {},
   "outputs": [],
   "source": [
    "import pandas as pd\n",
    "import numpy as np\n",
    "\n",
    "from selenium import webdriver\n",
    "from selenium.webdriver import ActionChains as AC  # 웹 브라우저 동작\n",
    "from tqdm import tqdm\n",
    "from tqdm.notebook import tqdm\n",
    "import re\n",
    "from time import sleep\n",
    "import time"
   ]
  },
  {
   "cell_type": "markdown",
   "metadata": {},
   "source": [
    "### Step 1. 크롤링할 뉴스들 url 수집"
   ]
  },
  {
   "cell_type": "code",
   "execution_count": null,
   "metadata": {},
   "outputs": [],
   "source": [
    "# 검색어\n",
    "keyword = input(\"크롤링할 키워드를 입력하세요: \")"
   ]
  },
  {
   "cell_type": "code",
   "execution_count": null,
   "metadata": {},
   "outputs": [],
   "source": [
    "# 크롬 웹브라우저 실행\n",
    "driver = webdriver.Chrome(r\"G:\\내 드라이브\\exe\\chromedriver.exe\")\n",
    "driver.get(\"https://search.naver.com/search.naver?where=news&sm=tab_jum&query={}\".format(keyword))\n",
    "time.sleep(2)"
   ]
  },
  {
   "cell_type": "code",
   "execution_count": null,
   "metadata": {},
   "outputs": [],
   "source": [
    "# page1에서 네이버뉴스 url 수집하기\n",
    "things = driver.find_elements_by_link_text('네이버뉴스')  \n",
    "\n",
    "url_list = []\n",
    "for thing in things:\n",
    "    url = thing.get_attribute('href')\n",
    "    url_list.append(url)\n",
    "\n",
    "print(len(url_list))\n",
    "url_list"
   ]
  },
  {
   "cell_type": "code",
   "execution_count": null,
   "metadata": {
    "scrolled": true
   },
   "outputs": [],
   "source": [
    "# url_list 저장\n",
    "df = pd.DataFrame({\"url\":url_list})\n",
    "df.to_excel('naver_news_urls.xlsx')"
   ]
  },
  {
   "cell_type": "markdown",
   "metadata": {},
   "source": [
    "### Step 2. 전체 기사 for문으로 데이터 수집"
   ]
  },
  {
   "cell_type": "code",
   "execution_count": null,
   "metadata": {},
   "outputs": [],
   "source": [
    "# 저장해둔 url 불러오기\n",
    "df = pd.read_csv('naver_news_urls.xlsx')\n",
    "print(len(df['url']))\n",
    "df['url']"
   ]
  },
  {
   "cell_type": "code",
   "execution_count": null,
   "metadata": {},
   "outputs": [],
   "source": [
    "number = len(df['url'])\n",
    "number"
   ]
  },
  {
   "cell_type": "code",
   "execution_count": null,
   "metadata": {},
   "outputs": [],
   "source": [
    "dict = {}\n",
    "\n",
    "# 페이지당 기사 수집\n",
    "for i in tqdm(range(0, number)):   # len(df['url'])\n",
    "    try:\n",
    "        # 뉴스 크롬창 띄우기\n",
    "        driver = webdriver.Chrome(r\"G:\\내 드라이브\\exe\\chromedriver.exe\")\n",
    "        driver.get(df['url'][i])\n",
    "        time.sleep(1)\n",
    "\n",
    "        # 기사 데이터 수집\n",
    "        title = driver.find_element_by_css_selector('.tts_head').text\n",
    "        date = driver.find_element_by_css_selector('.t11').text\n",
    "        up = driver.find_element_by_css_selector('.u_cnt._count').text\n",
    "        like = driver.find_element_by_css_selector(\".end_btn .u_likeit_list.good .u_likeit_list_count._count\").text\n",
    "        warm = driver.find_element_by_css_selector(\".end_btn .u_likeit_list.warm .u_likeit_list_count._count\").text\n",
    "        sad = driver.find_element_by_css_selector(\".end_btn .u_likeit_list.sad .u_likeit_list_count._count\").text\n",
    "        angry = driver.find_element_by_css_selector(\".end_btn .u_likeit_list.angry .u_likeit_list_count._count\").text\n",
    "        want = driver.find_element_by_css_selector(\".end_btn .u_likeit_list.want .u_likeit_list_count._count\").text\n",
    "\n",
    "        # 기사 댓글 갯수 \n",
    "        review_count = int(driver.find_element_by_css_selector(\".u_cbox_count\").text.replace(',', ''))\n",
    "\n",
    "        # 더보기 클릭 횟수\n",
    "        moreview_num = review_count//20\n",
    "\n",
    "        # 댓글 버튼 클릭\n",
    "        driver.find_element_by_css_selector(\".lo_txt\").click()\n",
    "        time.sleep(1)\n",
    "\n",
    "        # 더보기 버튼 여러번 클릭하기\n",
    "        k=0\n",
    "        while k <= moreview_num:  # 더보기 횟수만큼 반복 \n",
    "            try:\n",
    "                driver.find_element_by_css_selector(\".u_cbox_page_more\").click()  # 더보기 버튼 클릭\n",
    "                time.sleep(1)\n",
    "                k = k+1\n",
    "            except:        \n",
    "                break   # 에러나면 클릭 반복문을 빠져나가라\n",
    "\n",
    "        # review 수집하기\n",
    "        review_list = []\n",
    "        overlays1 = \".u_cbox_text_wrap\"\n",
    "        reviews = driver.find_elements_by_css_selector(overlays1)\n",
    "        for review in tqdm(reviews):    \n",
    "            review = review.text\n",
    "            review_list.append(review)\n",
    "\n",
    "        target_info = {}\n",
    "        target_info['기사명'] = title\n",
    "        target_info['날짜'] = date\n",
    "        target_info['추천수'] = up\n",
    "        target_info['좋아요'] = like\n",
    "        target_info['훈훈해요'] = warm\n",
    "        target_info['슬퍼요'] = sad\n",
    "        target_info['화나요'] = angry\n",
    "        target_info['후속기사 원해요'] = want\n",
    "        target_info['댓글 수'] = len(review_list)\n",
    "        target_info['댓글'] = review_list\n",
    "\n",
    "        dict[i] = target_info\n",
    "        \n",
    "        print(title, '( 댓글 수:', len(review_list),')')\n",
    "\n",
    "        driver.close()\n",
    "        time.sleep(1)\n",
    "        \n",
    "    except:\n",
    "        driver.close()\n",
    "        continue\n",
    "\n",
    "print(len(dict))\n",
    "dict"
   ]
  },
  {
   "cell_type": "code",
   "execution_count": null,
   "metadata": {},
   "outputs": [],
   "source": [
    "# 판다스화\n",
    "import pandas as pd\n",
    "result_df = pd.DataFrame.from_dict(dict, 'index')\n",
    "result_df"
   ]
  },
  {
   "cell_type": "code",
   "execution_count": null,
   "metadata": {},
   "outputs": [],
   "source": [
    "# 엑셀 저장\n",
    "result_df.to_excel(\"naver_news_({}).xlsx\".format(keyword))"
   ]
  },
  {
   "cell_type": "code",
   "execution_count": null,
   "metadata": {},
   "outputs": [],
   "source": []
  }
 ],
 "metadata": {
  "kernelspec": {
   "display_name": "Python 3",
   "language": "python",
   "name": "python3"
  },
  "language_info": {
   "codemirror_mode": {
    "name": "ipython",
    "version": 3
   },
   "file_extension": ".py",
   "mimetype": "text/x-python",
   "name": "python",
   "nbconvert_exporter": "python",
   "pygments_lexer": "ipython3",
   "version": "3.8.5"
  },
  "toc": {
   "base_numbering": 1,
   "nav_menu": {},
   "number_sections": true,
   "sideBar": true,
   "skip_h1_title": false,
   "title_cell": "Table of Contents",
   "title_sidebar": "Contents",
   "toc_cell": false,
   "toc_position": {},
   "toc_section_display": true,
   "toc_window_display": false
  },
  "varInspector": {
   "cols": {
    "lenName": 16,
    "lenType": 16,
    "lenVar": 40
   },
   "kernels_config": {
    "python": {
     "delete_cmd_postfix": "",
     "delete_cmd_prefix": "del ",
     "library": "var_list.py",
     "varRefreshCmd": "print(var_dic_list())"
    },
    "r": {
     "delete_cmd_postfix": ") ",
     "delete_cmd_prefix": "rm(",
     "library": "var_list.r",
     "varRefreshCmd": "cat(var_dic_list()) "
    }
   },
   "types_to_exclude": [
    "module",
    "function",
    "builtin_function_or_method",
    "instance",
    "_Feature"
   ],
   "window_display": false
  }
 },
 "nbformat": 4,
 "nbformat_minor": 2
}
