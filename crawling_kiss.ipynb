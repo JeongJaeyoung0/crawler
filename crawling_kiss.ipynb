{
 "cells": [
  {
   "cell_type": "markdown",
   "metadata": {
    "id": "pCZaIO118sND"
   },
   "source": [
    "# crawling_krss"
   ]
  },
  {
   "cell_type": "markdown",
   "metadata": {},
   "source": [
    "### 수집: 제목, 저자, 년도"
   ]
  },
  {
   "cell_type": "markdown",
   "metadata": {
    "id": "ZR8pV7-68sNE"
   },
   "source": [
    "### step 0. 준비"
   ]
  },
  {
   "cell_type": "code",
   "execution_count": 1,
   "metadata": {
    "executionInfo": {
     "elapsed": 6,
     "status": "ok",
     "timestamp": 1629013577206,
     "user": {
      "displayName": "Jaeyoung Jeong",
      "photoUrl": "https://lh3.googleusercontent.com/a-/AOh14GhsK0gzIyCaqt3838rNBxCPlb10R9TN9Jlm1Cp3=s64",
      "userId": "14387671912167104849"
     },
     "user_tz": -540
    },
    "id": "AJ9Ifb9n904P"
   },
   "outputs": [],
   "source": [
    "import sys    # 시스템\n",
    "import os     # 시스템\n",
    "\n",
    "import pandas as pd    # 판다스 : 데이터분석 라이브러리\n",
    "import numpy as np     # 넘파이 : 숫자, 행렬 데이터 라이브러리\n",
    "\n",
    "from bs4 import BeautifulSoup     # html 데이터 전처리\n",
    "from selenium import webdriver    # 웹 브라우저 자동화\n",
    "import time                       # 시간 지연\n",
    "from tqdm import tqdm_notebook    # 진행상황 표시"
   ]
  },
  {
   "cell_type": "markdown",
   "metadata": {
    "id": "TvxvI9kZ8sNF"
   },
   "source": [
    "### step 1. 제목, 저자 크롤링"
   ]
  },
  {
   "cell_type": "code",
   "execution_count": 127,
   "metadata": {
    "colab": {
     "base_uri": "https://localhost:8080/"
    },
    "executionInfo": {
     "elapsed": 20218,
     "status": "ok",
     "timestamp": 1625708314584,
     "user": {
      "displayName": "Jaeyoung Jeong",
      "photoUrl": "https://lh3.googleusercontent.com/a-/AOh14GhsK0gzIyCaqt3838rNBxCPlb10R9TN9Jlm1Cp3=s64",
      "userId": "14387671912167104849"
     },
     "user_tz": -540
    },
    "id": "hGxCCaxy8sNF",
    "outputId": "97443219-447c-41db-ec92-a16181214db8"
   },
   "outputs": [
    {
     "name": "stdout",
     "output_type": "stream",
     "text": [
      "크롤링할 검색어 입력: 교사 and 통합교육효능감\n"
     ]
    }
   ],
   "source": [
    "# 크롤링 할 검색어\n",
    "keyword = input(\"크롤링할 검색어 입력: \")"
   ]
  },
  {
   "cell_type": "code",
   "execution_count": 128,
   "metadata": {},
   "outputs": [],
   "source": [
    "# 크롬 웹브라우저 실행\n",
    "driver = webdriver.Chrome(r\"./chromedriver/chromedriver.exe\")"
   ]
  },
  {
   "cell_type": "code",
   "execution_count": 129,
   "metadata": {},
   "outputs": [],
   "source": [
    "# 사이트 주소\n",
    "driver.get(\"https://kiss.kstudy.com/search/sch-result.asp\")\n",
    "time.sleep(2)"
   ]
  },
  {
   "cell_type": "code",
   "execution_count": 88,
   "metadata": {},
   "outputs": [],
   "source": [
    "# 년도 수동 클릭"
   ]
  },
  {
   "cell_type": "code",
   "execution_count": 130,
   "metadata": {
    "scrolled": true
   },
   "outputs": [
    {
     "name": "stdout",
     "output_type": "stream",
     "text": [
      "20 20 20\n"
     ]
    }
   ],
   "source": [
    "title_list = []\n",
    "name_list = []\n",
    "year_list = []\n",
    "kci_list = []\n",
    "\n",
    "# 제목 클롤링\n",
    "titles = driver.find_elements_by_css_selector(\".thesis-info > h5 > a\")\n",
    "for number, tit in enumerate(titles):\n",
    "    title = tit.text\n",
    "    title_list.append(title[(len(str(number+1))):])\n",
    "\n",
    "# 인포\n",
    "infos = driver.find_elements_by_css_selector(\".thesis-info > p\")\n",
    "for inf in infos:\n",
    "    info = inf.text\n",
    "    # 저자 크롤링\n",
    "    if '저자 :' in info:\n",
    "        name_list.append(info[5:])\n",
    "    # 연도 크롤링\n",
    "    if '연도' in info:\n",
    "        info_split = info.split(' ')\n",
    "        for in_sp in info_split:\n",
    "            if '20' in in_sp and 'page' not in in_sp and '권' not in in_sp:\n",
    "                year_list.append(in_sp[0:4])\n",
    "\n",
    "print(len(title_list), len(name_list), len(year_list))\n",
    "\n",
    "# driver.close()"
   ]
  },
  {
   "cell_type": "code",
   "execution_count": 131,
   "metadata": {
    "scrolled": true
   },
   "outputs": [
    {
     "data": {
      "text/html": [
       "<div>\n",
       "<style scoped>\n",
       "    .dataframe tbody tr th:only-of-type {\n",
       "        vertical-align: middle;\n",
       "    }\n",
       "\n",
       "    .dataframe tbody tr th {\n",
       "        vertical-align: top;\n",
       "    }\n",
       "\n",
       "    .dataframe thead th {\n",
       "        text-align: right;\n",
       "    }\n",
       "</style>\n",
       "<table border=\"1\" class=\"dataframe\">\n",
       "  <thead>\n",
       "    <tr style=\"text-align: right;\">\n",
       "      <th></th>\n",
       "      <th>저자</th>\n",
       "      <th>연도</th>\n",
       "      <th>논문제목</th>\n",
       "    </tr>\n",
       "  </thead>\n",
       "  <tbody>\n",
       "    <tr>\n",
       "      <th>0</th>\n",
       "      <td>방명애 ( Bang Myong Ye ) , 임대섭 ( Dae Seop Lim )</td>\n",
       "      <td>2009</td>\n",
       "      <td>통합교육을 위한 교사협력과 교사효능감에 대한 특수교사와 통합학습교사의 인식</td>\n",
       "    </tr>\n",
       "    <tr>\n",
       "      <th>1</th>\n",
       "      <td>백상수 ( Baek Sang-su )</td>\n",
       "      <td>2017</td>\n",
       "      <td>예비과학교사의 통합교육 태도와 과학 교수효능감 연구</td>\n",
       "    </tr>\n",
       "    <tr>\n",
       "      <th>2</th>\n",
       "      <td>이혜민 ( Lee Hye Min ) , 강영심 ( Kang Young Sim ) ,...</td>\n",
       "      <td>2016</td>\n",
       "      <td>통합교육 경험이 있는 유아교육기관 교사의 장애유아 통합교육 효능감 수준과 영향요인</td>\n",
       "    </tr>\n",
       "    <tr>\n",
       "      <th>3</th>\n",
       "      <td>이선희 ( Lee Sun Hee ) , 김건희 ( Kim Keon Hee )</td>\n",
       "      <td>2014</td>\n",
       "      <td>유치원 통합학급 교사의 교사효능감과 교수적 수정</td>\n",
       "    </tr>\n",
       "    <tr>\n",
       "      <th>4</th>\n",
       "      <td>김영한 ( Kim Young Han ) , 서영 ( Seo Young )</td>\n",
       "      <td>2013</td>\n",
       "      <td>통합유치원 교사의 교직문화인식, 교수효능감 및 직무만족도의 관계 분석</td>\n",
       "    </tr>\n",
       "    <tr>\n",
       "      <th>5</th>\n",
       "      <td>유은영 ( Eun Young Yoo )</td>\n",
       "      <td>2011</td>\n",
       "      <td>컴퓨터 통합교육 정도와 관련된 유아교사의 내적 변인들 간의 구조모형 분석 -구성주의...</td>\n",
       "    </tr>\n",
       "    <tr>\n",
       "      <th>6</th>\n",
       "      <td>조은숙 ( Eun Suk Jo ) , 노진아 ( Jin A Noh )</td>\n",
       "      <td>2011</td>\n",
       "      <td>일반 및 통합 보육교사의 배경변인별 장애영유아 교육에 대한 교사효능감 연구</td>\n",
       "    </tr>\n",
       "    <tr>\n",
       "      <th>7</th>\n",
       "      <td>홍애진 ( Hong Ae Jin ) , 허유승 ( Hur Yoo Seung ) , ...</td>\n",
       "      <td>2009</td>\n",
       "      <td>발달지체유아 통합교육에 대한 유치원 교사의 신념과 효능감에 관한 연구</td>\n",
       "    </tr>\n",
       "    <tr>\n",
       "      <th>8</th>\n",
       "      <td>오원석 ( Won Seok Oh ) , 최성규 ( Sung Kyu Choi ) , ...</td>\n",
       "      <td>2009</td>\n",
       "      <td>통합학급 교사의 장애아동과 관계 인식, 자기 효능감 및 소진감 간의 관계 분석</td>\n",
       "    </tr>\n",
       "    <tr>\n",
       "      <th>9</th>\n",
       "      <td>이현주 ( Hyunjoo Lee ) , 최나리 ( Nari Choi )</td>\n",
       "      <td>2018</td>\n",
       "      <td>중등 예비교사의 통합교육 교수 효능감과 보편적 학습설계에 대한 인식</td>\n",
       "    </tr>\n",
       "    <tr>\n",
       "      <th>10</th>\n",
       "      <td>고영환 ( Koh Young Hwan )</td>\n",
       "      <td>2017</td>\n",
       "      <td>특수교육과목이 예비체육교사의 통합체육에 대한 자기효능감에 미치는 영향</td>\n",
       "    </tr>\n",
       "    <tr>\n",
       "      <th>11</th>\n",
       "      <td>김자경 ( Ja Kyung Kim ) , 강혜진 ( Hye Jin Kang ) , ...</td>\n",
       "      <td>2012</td>\n",
       "      <td>액션러닝을 활용한 장애아 통합교육 수업이 예비특수교사의 문제해결 능력과 교사 효능감...</td>\n",
       "    </tr>\n",
       "    <tr>\n",
       "      <th>12</th>\n",
       "      <td>박미화 ( Mi Hwa Park ) , 송명숙 ( Myong Suk Song )</td>\n",
       "      <td>2010</td>\n",
       "      <td>초등학교 통합학급 담임교사의 장애학생 지도에 대한 교사효능감과 수업의 질 향상을 위...</td>\n",
       "    </tr>\n",
       "    <tr>\n",
       "      <th>13</th>\n",
       "      <td>김주혜 ( Joo Hye Kim ) , 박은혜 ( Eun Hye Park )</td>\n",
       "      <td>2009</td>\n",
       "      <td>특수학급교사와의 협력을 통한 교사포트폴리오 제작이 통합학급교사의 교수수행능력과 교사...</td>\n",
       "    </tr>\n",
       "    <tr>\n",
       "      <th>14</th>\n",
       "      <td>신혜영 ( Shin He Young ) , 김자경 ( Kim Ja Kyoung ) ...</td>\n",
       "      <td>2007</td>\n",
       "      <td>중학교 교사의 장애학생에 대한 교사효능감과 통합교육에 대한 인식에 관한 연구</td>\n",
       "    </tr>\n",
       "    <tr>\n",
       "      <th>15</th>\n",
       "      <td>양진희 ( Jin Hee Yang )</td>\n",
       "      <td>2007</td>\n",
       "      <td>예비유아교사의 장애관련 동아리활동 경험이 장애유아 통합교육에 대한 태도와 교사효능감...</td>\n",
       "    </tr>\n",
       "    <tr>\n",
       "      <th>16</th>\n",
       "      <td>김현정 ( Hyun Jeong Kim ) , 홍혜경 ( Hae Kyung Hong )</td>\n",
       "      <td>2007</td>\n",
       "      <td>유아교사 요구에 기초한 장애유아 통합교육 연수프로그램이 교사효능감과 만족도에 미치는 효과</td>\n",
       "    </tr>\n",
       "    <tr>\n",
       "      <th>17</th>\n",
       "      <td>박은주 ( Eun Ju Park )</td>\n",
       "      <td>2015</td>\n",
       "      <td>탐색, 표현, 감상의 통합적 미술교사교육이 예비유아교사들의 미술교수효능감에 미치는 영향</td>\n",
       "    </tr>\n",
       "    <tr>\n",
       "      <th>18</th>\n",
       "      <td>김미정 ( Mi Jung Kim ) , 윤갑정 ( Gab Jung Yoon )</td>\n",
       "      <td>2014</td>\n",
       "      <td>장애유아통합교육 전문성지원환경과 교사의 개인적 변인이 보육교사의 통합교육 효능감에 ...</td>\n",
       "    </tr>\n",
       "    <tr>\n",
       "      <th>19</th>\n",
       "      <td>백경순 ( Kyoung Sun Baek ) , 이태훈 ( Tae Hoon Lee )</td>\n",
       "      <td>2012</td>\n",
       "      <td>보육교사의 장애관련 경험과 교사효능감이 통합보육태도에 미치는 영향</td>\n",
       "    </tr>\n",
       "  </tbody>\n",
       "</table>\n",
       "</div>"
      ],
      "text/plain": [
       "                                                   저자    연도  \\\n",
       "0        방명애 ( Bang Myong Ye ) , 임대섭 ( Dae Seop Lim )  2009   \n",
       "1                                백상수 ( Baek Sang-su )  2017   \n",
       "2   이혜민 ( Lee Hye Min ) , 강영심 ( Kang Young Sim ) ,...  2016   \n",
       "3          이선희 ( Lee Sun Hee ) , 김건희 ( Kim Keon Hee )  2014   \n",
       "4            김영한 ( Kim Young Han ) , 서영 ( Seo Young )  2013   \n",
       "5                               유은영 ( Eun Young Yoo )  2011   \n",
       "6              조은숙 ( Eun Suk Jo ) , 노진아 ( Jin A Noh )  2011   \n",
       "7   홍애진 ( Hong Ae Jin ) , 허유승 ( Hur Yoo Seung ) , ...  2009   \n",
       "8   오원석 ( Won Seok Oh ) , 최성규 ( Sung Kyu Choi ) , ...  2009   \n",
       "9             이현주 ( Hyunjoo Lee ) , 최나리 ( Nari Choi )  2018   \n",
       "10                             고영환 ( Koh Young Hwan )  2017   \n",
       "11  김자경 ( Ja Kyung Kim ) , 강혜진 ( Hye Jin Kang ) , ...  2012   \n",
       "12       박미화 ( Mi Hwa Park ) , 송명숙 ( Myong Suk Song )  2010   \n",
       "13         김주혜 ( Joo Hye Kim ) , 박은혜 ( Eun Hye Park )  2009   \n",
       "14  신혜영 ( Shin He Young ) , 김자경 ( Kim Ja Kyoung ) ...  2007   \n",
       "15                               양진희 ( Jin Hee Yang )  2007   \n",
       "16    김현정 ( Hyun Jeong Kim ) , 홍혜경 ( Hae Kyung Hong )  2007   \n",
       "17                                박은주 ( Eun Ju Park )  2015   \n",
       "18        김미정 ( Mi Jung Kim ) , 윤갑정 ( Gab Jung Yoon )  2014   \n",
       "19     백경순 ( Kyoung Sun Baek ) , 이태훈 ( Tae Hoon Lee )  2012   \n",
       "\n",
       "                                                 논문제목  \n",
       "0           통합교육을 위한 교사협력과 교사효능감에 대한 특수교사와 통합학습교사의 인식  \n",
       "1                        예비과학교사의 통합교육 태도와 과학 교수효능감 연구  \n",
       "2       통합교육 경험이 있는 유아교육기관 교사의 장애유아 통합교육 효능감 수준과 영향요인  \n",
       "3                          유치원 통합학급 교사의 교사효능감과 교수적 수정  \n",
       "4              통합유치원 교사의 교직문화인식, 교수효능감 및 직무만족도의 관계 분석  \n",
       "5   컴퓨터 통합교육 정도와 관련된 유아교사의 내적 변인들 간의 구조모형 분석 -구성주의...  \n",
       "6           일반 및 통합 보육교사의 배경변인별 장애영유아 교육에 대한 교사효능감 연구  \n",
       "7              발달지체유아 통합교육에 대한 유치원 교사의 신념과 효능감에 관한 연구  \n",
       "8         통합학급 교사의 장애아동과 관계 인식, 자기 효능감 및 소진감 간의 관계 분석  \n",
       "9               중등 예비교사의 통합교육 교수 효능감과 보편적 학습설계에 대한 인식  \n",
       "10             특수교육과목이 예비체육교사의 통합체육에 대한 자기효능감에 미치는 영향  \n",
       "11  액션러닝을 활용한 장애아 통합교육 수업이 예비특수교사의 문제해결 능력과 교사 효능감...  \n",
       "12  초등학교 통합학급 담임교사의 장애학생 지도에 대한 교사효능감과 수업의 질 향상을 위...  \n",
       "13  특수학급교사와의 협력을 통한 교사포트폴리오 제작이 통합학급교사의 교수수행능력과 교사...  \n",
       "14         중학교 교사의 장애학생에 대한 교사효능감과 통합교육에 대한 인식에 관한 연구  \n",
       "15  예비유아교사의 장애관련 동아리활동 경험이 장애유아 통합교육에 대한 태도와 교사효능감...  \n",
       "16  유아교사 요구에 기초한 장애유아 통합교육 연수프로그램이 교사효능감과 만족도에 미치는 효과  \n",
       "17   탐색, 표현, 감상의 통합적 미술교사교육이 예비유아교사들의 미술교수효능감에 미치는 영향  \n",
       "18  장애유아통합교육 전문성지원환경과 교사의 개인적 변인이 보육교사의 통합교육 효능감에 ...  \n",
       "19               보육교사의 장애관련 경험과 교사효능감이 통합보육태도에 미치는 영향  "
      ]
     },
     "execution_count": 131,
     "metadata": {},
     "output_type": "execute_result"
    }
   ],
   "source": [
    "df = pd.DataFrame({'저자':name_list, '연도':year_list, '논문제목':title_list})\n",
    "df"
   ]
  },
  {
   "cell_type": "code",
   "execution_count": 132,
   "metadata": {},
   "outputs": [],
   "source": [
    "# 엑셀 저장\n",
    "df.to_excel(\"kiss_%s.xlsx\"%keyword, encoding='utf-8-sig')"
   ]
  },
  {
   "cell_type": "code",
   "execution_count": null,
   "metadata": {},
   "outputs": [],
   "source": []
  }
 ],
 "metadata": {
  "colab": {
   "collapsed_sections": [],
   "name": "crawling_dbpia(colab).ipynb",
   "provenance": []
  },
  "kernelspec": {
   "display_name": "Python 3",
   "language": "python",
   "name": "python3"
  },
  "language_info": {
   "codemirror_mode": {
    "name": "ipython",
    "version": 3
   },
   "file_extension": ".py",
   "mimetype": "text/x-python",
   "name": "python",
   "nbconvert_exporter": "python",
   "pygments_lexer": "ipython3",
   "version": "3.8.8"
  },
  "toc": {
   "base_numbering": 1,
   "nav_menu": {},
   "number_sections": true,
   "sideBar": true,
   "skip_h1_title": false,
   "title_cell": "Table of Contents",
   "title_sidebar": "Contents",
   "toc_cell": false,
   "toc_position": {},
   "toc_section_display": true,
   "toc_window_display": false
  },
  "varInspector": {
   "cols": {
    "lenName": 16,
    "lenType": 16,
    "lenVar": 40
   },
   "kernels_config": {
    "python": {
     "delete_cmd_postfix": "",
     "delete_cmd_prefix": "del ",
     "library": "var_list.py",
     "varRefreshCmd": "print(var_dic_list())"
    },
    "r": {
     "delete_cmd_postfix": ") ",
     "delete_cmd_prefix": "rm(",
     "library": "var_list.r",
     "varRefreshCmd": "cat(var_dic_list()) "
    }
   },
   "types_to_exclude": [
    "module",
    "function",
    "builtin_function_or_method",
    "instance",
    "_Feature"
   ],
   "window_display": false
  }
 },
 "nbformat": 4,
 "nbformat_minor": 1
}
