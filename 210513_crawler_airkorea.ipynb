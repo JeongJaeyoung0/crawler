{
 "cells": [
  {
   "cell_type": "raw",
   "metadata": {},
   "source": [
    "2021.05.13"
   ]
  },
  {
   "cell_type": "markdown",
   "metadata": {},
   "source": [
    "# crawler_에어코리아 크롤링"
   ]
  },
  {
   "cell_type": "raw",
   "metadata": {},
   "source": [
    "step 1. 에어코리아 > 일평균, 년, 월, 대전 선택 > 검색 > 엑셀"
   ]
  },
  {
   "cell_type": "code",
   "execution_count": null,
   "metadata": {},
   "outputs": [],
   "source": [
    "pwd"
   ]
  },
  {
   "cell_type": "markdown",
   "metadata": {},
   "source": [
    "### step 0. 준비"
   ]
  },
  {
   "cell_type": "code",
   "execution_count": null,
   "metadata": {},
   "outputs": [],
   "source": [
    "import sys   # 시스템\n",
    "import os    # 시스템\n",
    "\n",
    "import pandas as pd   # 판다스 : 데이터분석 라이브러리\n",
    "import numpy as np    # 넘파이 : 숫자, 행렬 데이터 라이브러리\n",
    "\n",
    "from bs4 import BeautifulSoup   # html 데이터를 전처리\n",
    "from selenium import webdriver   # 웹 브라우저 자동화\n",
    "import time                      # 서버와 통신할 때 중간중간 시간 지연\n",
    "import datetime                  # 날짜 계산\n",
    "from tqdm import tqdm_notebook   # for문 돌릴 때 진행상황을 %게이지로 알려줌"
   ]
  },
  {
   "cell_type": "markdown",
   "metadata": {},
   "source": [
    "### step 1. 크롤링"
   ]
  },
  {
   "cell_type": "code",
   "execution_count": null,
   "metadata": {},
   "outputs": [],
   "source": [
    "driver = webdriver.Chrome(r\"G:\\내 드라이브\\exe\\chromedriver.exe\")\n",
    "\n",
    "# 사이트 주소\n",
    "driver.get(\"https://www.airkorea.or.kr/web/pmRelay?itemCode=11008&pMENU_NO=109\")\n",
    "time.sleep(2)"
   ]
  },
  {
   "cell_type": "code",
   "execution_count": null,
   "metadata": {},
   "outputs": [],
   "source": [
    "# 일평균 클릭\n",
    "driver.find_element_by_css_selector(\"#strDateDiv2\").click()"
   ]
  },
  {
   "cell_type": "code",
   "execution_count": null,
   "metadata": {},
   "outputs": [],
   "source": [
    "# 년도 선택\n",
    "#for i1 in range(1, len(yyyy)+1):\n",
    "# 20번 이상 검색하면 에러 발생, 그래서 1년단위로 함\n",
    "for i1 in [6]:   # 1=2021, 2=2020, 3=2019...\n",
    "    element1 = \"/html/body/div[4]/div[2]/div[2]/form/div/span[2]/select[1]/option[{}]\".format(i1)\n",
    "    driver.find_element_by_xpath(element1).click()\n",
    "    time.sleep(0.2)\n",
    "    \n",
    "    # 월 계산\n",
    "    mm = driver.find_element_by_css_selector(\"#searchDate_mm\").text.split()\n",
    "    mm = mm[1:13]\n",
    "    mm\n",
    "\n",
    "    # 월 선택\n",
    "    for i2 in range(2, len(mm)+2):\n",
    "        element2 = \"/html/body/div[4]/div[2]/div[2]/form/div/span[2]/select[2]/option[{}]\".format(i2)\n",
    "        driver.find_element_by_xpath(element2).click()\n",
    "        time.sleep(0.2)\n",
    "        \n",
    "        # 지역 선택\n",
    "        element3 = \"\"\"/*[@id=\"district\"]/option[6]\"\"\"\n",
    "        driver.find_element_by_xpath(element3).click()\n",
    "        \n",
    "        # 검색 클릭\n",
    "        driver.find_element_by_css_selector(\".search\").click()\n",
    "        time.sleep(12)\n",
    "        \n",
    "        # 엑셀 클릭\n",
    "        driver.find_element_by_css_selector(\".xls\").click()\n",
    "        time.sleep(3)"
   ]
  },
  {
   "cell_type": "code",
   "execution_count": null,
   "metadata": {},
   "outputs": [],
   "source": []
  }
 ],
 "metadata": {
  "kernelspec": {
   "display_name": "Python 3",
   "language": "python",
   "name": "python3"
  },
  "language_info": {
   "codemirror_mode": {
    "name": "ipython",
    "version": 3
   },
   "file_extension": ".py",
   "mimetype": "text/x-python",
   "name": "python",
   "nbconvert_exporter": "python",
   "pygments_lexer": "ipython3",
   "version": "3.8.5"
  },
  "toc": {
   "base_numbering": 1,
   "nav_menu": {},
   "number_sections": true,
   "sideBar": true,
   "skip_h1_title": false,
   "title_cell": "Table of Contents",
   "title_sidebar": "Contents",
   "toc_cell": false,
   "toc_position": {},
   "toc_section_display": true,
   "toc_window_display": false
  }
 },
 "nbformat": 4,
 "nbformat_minor": 4
}
