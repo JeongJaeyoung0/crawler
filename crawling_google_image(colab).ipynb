{
 "cells": [
  {
   "cell_type": "markdown",
   "metadata": {
    "id": "vHnFrWqmbNI2"
   },
   "source": [
    "<table align=\"left\">\n",
    "  <td>\n",
    "    <a target=\"_blank\" href=\"https://colab.research.google.com/github/JeongJaeyoung0/crawler/blob/main/210708_crawler_google_image(colab).ipynb\"><img src=\"https://www.tensorflow.org/images/colab_logo_32px.png\" />구글 코랩에서 실행하기</a>\n",
    "  </td>\n",
    "</table>"
   ]
  },
  {
   "cell_type": "code",
   "execution_count": null,
   "metadata": {
    "colab": {
     "base_uri": "https://localhost:8080/"
    },
    "executionInfo": {
     "elapsed": 7,
     "status": "ok",
     "timestamp": 1625706003983,
     "user": {
      "displayName": "Jaeyoung Jeong",
      "photoUrl": "https://lh3.googleusercontent.com/a-/AOh14GhsK0gzIyCaqt3838rNBxCPlb10R9TN9Jlm1Cp3=s64",
      "userId": "14387671912167104849"
     },
     "user_tz": -540
    },
    "id": "yoFRI7aN8639",
    "outputId": "6c23bcb8-e0b7-461b-c717-bb2781b11ec7"
   },
   "outputs": [
    {
     "name": "stdout",
     "output_type": "stream",
     "text": [
      "Drive already mounted at /content/drive; to attempt to forcibly remount, call drive.mount(\"/content/drive\", force_remount=True).\n"
     ]
    }
   ],
   "source": [
    "from google.colab import drive\n",
    "drive.mount('/content/drive')"
   ]
  },
  {
   "cell_type": "markdown",
   "metadata": {
    "id": "pCZaIO118sND"
   },
   "source": [
    "# crawling_google image(colab)"
   ]
  },
  {
   "cell_type": "markdown",
   "metadata": {
    "id": "ZR8pV7-68sNE"
   },
   "source": [
    "### step 0. 준비"
   ]
  },
  {
   "cell_type": "code",
   "execution_count": null,
   "metadata": {
    "id": "tHS8agaO9efx"
   },
   "outputs": [],
   "source": [
    "!pip install selenium\n",
    "!apt-get update\n",
    "!apt install chromium-chromedriver"
   ]
  },
  {
   "cell_type": "code",
   "execution_count": null,
   "metadata": {
    "id": "AJ9Ifb9n904P"
   },
   "outputs": [],
   "source": [
    "from selenium import webdriver\n",
    "import os\n",
    "from tqdm import tqdm\n",
    "import time"
   ]
  },
  {
   "cell_type": "markdown",
   "metadata": {
    "id": "TvxvI9kZ8sNF"
   },
   "source": [
    "### step 1. 이미지 크롤링"
   ]
  },
  {
   "cell_type": "code",
   "execution_count": null,
   "metadata": {
    "colab": {
     "base_uri": "https://localhost:8080/"
    },
    "executionInfo": {
     "elapsed": 20218,
     "status": "ok",
     "timestamp": 1625708314584,
     "user": {
      "displayName": "Jaeyoung Jeong",
      "photoUrl": "https://lh3.googleusercontent.com/a-/AOh14GhsK0gzIyCaqt3838rNBxCPlb10R9TN9Jlm1Cp3=s64",
      "userId": "14387671912167104849"
     },
     "user_tz": -540
    },
    "id": "hGxCCaxy8sNF",
    "outputId": "97443219-447c-41db-ec92-a16181214db8"
   },
   "outputs": [
    {
     "name": "stdout",
     "output_type": "stream",
     "text": [
      "크롤링할 검색어 입력: 우주 성운\n",
      "크롤링할 이미지 개수: 500\n"
     ]
    }
   ],
   "source": [
    "# 크롤링 할 검색어, 이미지 개수\n",
    "keyword = input(\"크롤링할 검색어 입력: \")\n",
    "image_num = int(input(\"크롤링할 이미지 개수: \"))"
   ]
  },
  {
   "cell_type": "code",
   "execution_count": null,
   "metadata": {
    "colab": {
     "base_uri": "https://localhost:8080/"
    },
    "executionInfo": {
     "elapsed": 149038,
     "status": "ok",
     "timestamp": 1625708464705,
     "user": {
      "displayName": "Jaeyoung Jeong",
      "photoUrl": "https://lh3.googleusercontent.com/a-/AOh14GhsK0gzIyCaqt3838rNBxCPlb10R9TN9Jlm1Cp3=s64",
      "userId": "14387671912167104849"
     },
     "user_tz": -540
    },
    "id": "TzZU5CLvz1TN",
    "outputId": "33b78618-07ca-4500-ec9f-bd90827bb3ec"
   },
   "outputs": [
    {
     "name": "stderr",
     "output_type": "stream",
     "text": [
      "/usr/local/lib/python3.7/dist-packages/ipykernel_launcher.py:6: DeprecationWarning: use options instead of chrome_options\n",
      "  \n",
      "100%|██████████| 500/500 [02:25<00:00,  3.43it/s]"
     ]
    },
    {
     "name": "stdout",
     "output_type": "stream",
     "text": [
      "수집된 url 개수 : 500\n"
     ]
    },
    {
     "name": "stderr",
     "output_type": "stream",
     "text": [
      "\n"
     ]
    }
   ],
   "source": [
    "# 크롬창 띄우기\n",
    "chrome_options = webdriver.ChromeOptions()\n",
    "chrome_options.add_argument('--headless')\n",
    "chrome_options.add_argument('--no-sandbox')\n",
    "chrome_options.add_argument('--disable-dev-shm-usage')\n",
    "driver = webdriver.Chrome('chromedriver', chrome_options=chrome_options)\n",
    "driver.get(\"https://www.google.com/search?q=%s&source=lnms&tbm=isch&sa=X&ved=2ahUKEwj_weCY6M7xAhUHhZQKHRgRDy0Q_AUoAXoECAEQAw&biw=1920&bih=937\"%keyword)\n",
    "time.sleep(1)\n",
    "\n",
    "# 첫 번째 사진 클릭\n",
    "driver.find_element_by_css_selector(\".rg_i.Q4LuWd\").click()\n",
    "time.sleep(1)\n",
    "\n",
    "# url 수집\n",
    "img_url = []\n",
    "for i in tqdm(range(image_num)):\n",
    "    # 이미지 url get\n",
    "    time.sleep(1)\n",
    "    url = driver.find_element_by_css_selector(\".n3VNCb\").get_attribute(\"src\")\n",
    "    if i != 0 and url == img_url[-1]:\n",
    "        print('\\n더이상 수집할 데이터가 없음')\n",
    "        break\n",
    "    img_url.append(url)\n",
    "\n",
    "    # 다음 이미지\n",
    "    if i == 0:\n",
    "        element = driver.find_element_by_css_selector(\".gvi3cf\")\n",
    "        driver.execute_script(\"arguments[0].click();\", element)\n",
    "    time.sleep(1)\n",
    "    element = driver.find_element_by_css_selector(\".gvi3cf\")\n",
    "    driver.execute_script(\"arguments[0].click();\", element)\n",
    "\n",
    "# 크롬창 종료\n",
    "driver.close()\n",
    "\n",
    "print('수집된 url 개수 :', len(img_url))"
   ]
  },
  {
   "cell_type": "code",
   "execution_count": null,
   "metadata": {
    "id": "5lXxo6WqlfDe"
   },
   "outputs": [],
   "source": [
    "# 저장된 이미지 제거\n",
    "#!rm -rf \"/content/images\" #다운로드 받은 이미지 폴더(base_dir의 주소) 전체 제거\n",
    "#!rm -rf \"/content/images/폴더명\" #다운로드 받은 이미지 폴더에서 \"폴더명\"에 해당하는 폴더 전체 제거"
   ]
  },
  {
   "cell_type": "code",
   "execution_count": null,
   "metadata": {
    "colab": {
     "base_uri": "https://localhost:8080/"
    },
    "executionInfo": {
     "elapsed": 73323,
     "status": "ok",
     "timestamp": 1625708538014,
     "user": {
      "displayName": "Jaeyoung Jeong",
      "photoUrl": "https://lh3.googleusercontent.com/a-/AOh14GhsK0gzIyCaqt3838rNBxCPlb10R9TN9Jlm1Cp3=s64",
      "userId": "14387671912167104849"
     },
     "user_tz": -540
    },
    "id": "aAyIY3QPTCbB",
    "outputId": "fb55253a-0c34-44da-bd9a-c5f6efa69516"
   },
   "outputs": [
    {
     "name": "stdout",
     "output_type": "stream",
     "text": [
      "50 / 500 개 완료\n",
      "100 / 500 개 완료\n",
      "150 / 500 개 완료\n",
      "200 / 500 개 완료\n",
      "250 / 500 개 완료\n",
      "300 / 500 개 완료\n",
      "350 / 500 개 완료\n",
      "400 / 500 개 완료\n",
      "450 / 500 개 완료\n",
      "\n",
      "저장된 이미지 개수 : 500 \n",
      "\n",
      "에러 이미지 URL:\n"
     ]
    }
   ],
   "source": [
    "# HTTP Error 403 해결\n",
    "import random\n",
    "import urllib.request\n",
    "\n",
    "opener=urllib.request.build_opener()\n",
    "opener.addheaders=[('User-Agent','Mozilla/5.0 (Windows NT 6.1; WOW64) AppleWebKit/537.36 (KHTML, like Gecko) Chrome/36.0.1941.0 Safari/537.36')]\n",
    "urllib.request.install_opener(opener)\n",
    "\n",
    "# 폴더 생성\n",
    "if not os.path.exists(\"images\"):\n",
    "    os.makedirs(\"images\")\n",
    "\n",
    "if not os.path.exists(\"./images/\"+keyword):\n",
    "    os.makedirs(\"./images/\"+keyword)\n",
    "\n",
    "# 이미지 저장\n",
    "count = 0\n",
    "err_img_url = []\n",
    "for n, i in enumerate(img_url):\n",
    "    try:\n",
    "        urllib.request.urlretrieve(i, \"./images/{0}/{0}_{1}.jpg\".format(keyword, count))\n",
    "        count += 1\n",
    "        if n!=0 and n%50==0:\n",
    "            print(n, \"/\", len(img_url), \"개 완료\")\n",
    "    except:\n",
    "        err_img_url.append(i)\n",
    "        print(\"error 발생으로 수집안됨 (번호: %d)\" % n)   # 주로 503 error, error 발생시 수동으로 이미지 저장 (  img_url[error No.]  )\n",
    "print('\\n저장된 이미지 개수 :', count, '\\n')\n",
    "print('에러 이미지 URL:')\n",
    "for i in err_img_url:\n",
    "    print(i)"
   ]
  },
  {
   "cell_type": "markdown",
   "metadata": {
    "id": "7DFM_XAIYGS7"
   },
   "source": [
    "### step 2. 저장"
   ]
  },
  {
   "cell_type": "code",
   "execution_count": null,
   "metadata": {
    "id": "sPe1Ss2uYLYC"
   },
   "outputs": [],
   "source": [
    "# 크롤링한 이미지 폴더 압축\n",
    "import zipfile\n",
    " \n",
    "fantasy_zip = zipfile.ZipFile('/content/crawler_google_image.zip', 'w') # 압축 후 저장 위치\n",
    "for folder, subfolders, files in os.walk('/content/images'): # 압축 할 폴더\n",
    "    for file in files:\n",
    "        if file.endswith('.jpg'): # 압축할 파일 확장자\n",
    "            fantasy_zip.write(os.path.join(folder, file), os.path.relpath(os.path.join(folder,file), '/content/images/'), compress_type = zipfile.ZIP_DEFLATED)\n",
    "fantasy_zip.close()"
   ]
  },
  {
   "cell_type": "code",
   "execution_count": null,
   "metadata": {
    "id": "hPMseaq8lyWZ"
   },
   "outputs": [],
   "source": [
    "# 압축 파일 구글 드라이브에 복사\n",
    "!cp '/content/crawler_google_image.zip' '/content/drive/MyDrive/Colab Notebooks/crawler_google_image.zip'"
   ]
  }
 ],
 "metadata": {
  "colab": {
   "collapsed_sections": [],
   "name": "210708_crawler_google_image(colab).ipynb",
   "provenance": []
  },
  "kernelspec": {
   "display_name": "Python 3",
   "language": "python",
   "name": "python3"
  },
  "language_info": {
   "codemirror_mode": {
    "name": "ipython",
    "version": 3
   },
   "file_extension": ".py",
   "mimetype": "text/x-python",
   "name": "python",
   "nbconvert_exporter": "python",
   "pygments_lexer": "ipython3",
   "version": "3.8.5"
  },
  "toc": {
   "base_numbering": 1,
   "nav_menu": {},
   "number_sections": true,
   "sideBar": true,
   "skip_h1_title": false,
   "title_cell": "Table of Contents",
   "title_sidebar": "Contents",
   "toc_cell": false,
   "toc_position": {},
   "toc_section_display": true,
   "toc_window_display": false
  },
  "varInspector": {
   "cols": {
    "lenName": 16,
    "lenType": 16,
    "lenVar": 40
   },
   "kernels_config": {
    "python": {
     "delete_cmd_postfix": "",
     "delete_cmd_prefix": "del ",
     "library": "var_list.py",
     "varRefreshCmd": "print(var_dic_list())"
    },
    "r": {
     "delete_cmd_postfix": ") ",
     "delete_cmd_prefix": "rm(",
     "library": "var_list.r",
     "varRefreshCmd": "cat(var_dic_list()) "
    }
   },
   "types_to_exclude": [
    "module",
    "function",
    "builtin_function_or_method",
    "instance",
    "_Feature"
   ],
   "window_display": false
  }
 },
 "nbformat": 4,
 "nbformat_minor": 1
}
