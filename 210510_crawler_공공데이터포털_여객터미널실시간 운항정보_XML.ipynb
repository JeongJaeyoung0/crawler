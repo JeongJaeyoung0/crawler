{
 "cells": [
  {
   "cell_type": "raw",
   "metadata": {},
   "source": [
    "2021.05.10"
   ]
  },
  {
   "cell_type": "markdown",
   "metadata": {},
   "source": [
    "# \"백령도\" 관련 여객정보 가져오기"
   ]
  },
  {
   "cell_type": "code",
   "execution_count": null,
   "metadata": {},
   "outputs": [],
   "source": [
    "pwd"
   ]
  },
  {
   "cell_type": "markdown",
   "metadata": {},
   "source": [
    "### Step 0. 준비"
   ]
  },
  {
   "cell_type": "code",
   "execution_count": null,
   "metadata": {},
   "outputs": [],
   "source": [
    "import requests  # 서버로 요청을 보내서 응답(데이터)을 받는 라이브러리\n",
    "import xmltodict # xml 데이터를 dictionary로 변환해줌"
   ]
  },
  {
   "cell_type": "markdown",
   "metadata": {},
   "source": [
    "### step1. \"url? + parameter(api_key)\" 정의하기"
   ]
  },
  {
   "cell_type": "code",
   "execution_count": null,
   "metadata": {},
   "outputs": [],
   "source": [
    "# \"url\" 입력\n",
    "url = \"https://opendata.icpa.or.kr/OpenAPI/service/ipaFerryNavigatInfo/getDmstcNvgList\" \n",
    "\n",
    "# 서비스키(api인증키) 디코딩(unquote)\n",
    "api_key = \"Encoding\" or \"Decoding\"\n",
    "api_key_decode = requests.utils.unquote(api_key)\n",
    "api_key_decode"
   ]
  },
  {
   "cell_type": "code",
   "execution_count": null,
   "metadata": {},
   "outputs": [],
   "source": [
    "# 파라미터 참고 : OpenAPI활용가이드\n",
    "parameters = {\"ServiceKey\":api_key_decode, \"numOfROws\":10, \"pageNo\":1}\n",
    "parameters"
   ]
  },
  {
   "cell_type": "markdown",
   "metadata": {},
   "source": [
    "### step2. xml 데이터 확보"
   ]
  },
  {
   "cell_type": "code",
   "execution_count": null,
   "metadata": {
    "scrolled": true
   },
   "outputs": [],
   "source": [
    "# get메소드(url, parameter 입력)로 xml 데이터 가져오기\n",
    "req = requests.get(url, params = parameters)\n",
    "req.text # -> xml 데이터 확보"
   ]
  },
  {
   "cell_type": "code",
   "execution_count": null,
   "metadata": {
    "scrolled": true
   },
   "outputs": [],
   "source": [
    "# 가져온 xml 데이터를 dictionary 형태로 바꾸기(xmltodict 이용)\n",
    "xml_data = xmltodict.parse(req.text)\n",
    "xml_data"
   ]
  },
  {
   "cell_type": "markdown",
   "metadata": {
    "scrolled": true
   },
   "source": [
    "### step3. xml 데이터에서 내용만 추출"
   ]
  },
  {
   "cell_type": "code",
   "execution_count": null,
   "metadata": {
    "scrolled": true
   },
   "outputs": [],
   "source": [
    "informations = xml_data['GetDmstcNvgListResponse']['body']['item']['GetDmstcNvgListVO']\n",
    "\n",
    "print(len(informations))\n",
    "print(type(informations))\n",
    "informations"
   ]
  },
  {
   "cell_type": "markdown",
   "metadata": {},
   "source": [
    "### step4. 필요한 정보만 추출"
   ]
  },
  {
   "cell_type": "code",
   "execution_count": null,
   "metadata": {},
   "outputs": [],
   "source": [
    "data = informations[0]['alocname']\n",
    "data"
   ]
  },
  {
   "cell_type": "code",
   "execution_count": null,
   "metadata": {},
   "outputs": [],
   "source": [
    "# \"백령도\" 관련된 정보만 가져오기\n",
    "for data in informations:\n",
    "    if data['alocname'] == '백령도':\n",
    "        print(\"기항지명: {}\".format(data['alocname']))\n",
    "        print(\"인천항 출발시간: {}\".format(data['starttime']))\n",
    "        print(\"기항지 도착시간: {}\".format(data['alocarvltime']))\n",
    "        print(\"기항지 출발시간: {}\".format(data['alocstarttime']))\n",
    "        print(\"인천항 도착시간: {}\".format(data['arvltime']))\n",
    "        print(\"운항정보: {}\".format(data['nvginfoname']))\n",
    "        print(\"항로명: {}\".format(data['ruteName']))\n",
    "        print(\"선명: {}\".format(data['shipname']))\n",
    "        print(\"선사명: {}\".format(data['wtorcmpname']))\n",
    "        print(\"\")"
   ]
  },
  {
   "cell_type": "code",
   "execution_count": null,
   "metadata": {},
   "outputs": [],
   "source": []
  }
 ],
 "metadata": {
  "kernelspec": {
   "display_name": "Python 3",
   "language": "python",
   "name": "python3"
  },
  "language_info": {
   "codemirror_mode": {
    "name": "ipython",
    "version": 3
   },
   "file_extension": ".py",
   "mimetype": "text/x-python",
   "name": "python",
   "nbconvert_exporter": "python",
   "pygments_lexer": "ipython3",
   "version": "3.8.5"
  },
  "varInspector": {
   "cols": {
    "lenName": 16,
    "lenType": 16,
    "lenVar": 40
   },
   "kernels_config": {
    "python": {
     "delete_cmd_postfix": "",
     "delete_cmd_prefix": "del ",
     "library": "var_list.py",
     "varRefreshCmd": "print(var_dic_list())"
    },
    "r": {
     "delete_cmd_postfix": ") ",
     "delete_cmd_prefix": "rm(",
     "library": "var_list.r",
     "varRefreshCmd": "cat(var_dic_list()) "
    }
   },
   "types_to_exclude": [
    "module",
    "function",
    "builtin_function_or_method",
    "instance",
    "_Feature"
   ],
   "window_display": false
  }
 },
 "nbformat": 4,
 "nbformat_minor": 4
}
