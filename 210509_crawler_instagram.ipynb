{
 "cells": [
  {
   "cell_type": "raw",
   "metadata": {},
   "source": [
    "2021.05.09"
   ]
  },
  {
   "cell_type": "markdown",
   "metadata": {},
   "source": [
    "# crawler_instagram"
   ]
  },
  {
   "cell_type": "raw",
   "metadata": {},
   "source": [
    "Step 1. 인스타 > 검색어 입력 > 첫번째 검색어 선택 > 사진 클릭 > 데이터 수집\n",
    "Step 2. 이미지 저장할 폴더 생성 > 이미지 저장"
   ]
  },
  {
   "cell_type": "code",
   "execution_count": null,
   "metadata": {},
   "outputs": [],
   "source": [
    "pwd"
   ]
  },
  {
   "cell_type": "markdown",
   "metadata": {},
   "source": [
    "### step 0. 준비"
   ]
  },
  {
   "cell_type": "code",
   "execution_count": null,
   "metadata": {},
   "outputs": [],
   "source": [
    "import pandas as pd\n",
    "import numpy as np\n",
    "\n",
    "from selenium import webdriver\n",
    "from selenium.webdriver import ActionChains as AC\n",
    "from tqdm import tqdm\n",
    "from tqdm import tqdm_notebook\n",
    "import re\n",
    "from time import sleep\n",
    "import time"
   ]
  },
  {
   "cell_type": "markdown",
   "metadata": {},
   "source": [
    "### step 1. 크롤링"
   ]
  },
  {
   "cell_type": "code",
   "execution_count": null,
   "metadata": {},
   "outputs": [],
   "source": [
    "# 검색어\n",
    "keyword = input(\"크롤링할 키워드를 입력하세요: \")\n",
    "len_insta = (\"크롤링할 글 수를 입력하세요: \")"
   ]
  },
  {
   "cell_type": "code",
   "execution_count": null,
   "metadata": {},
   "outputs": [],
   "source": [
    "# 크롬창 띄우기\n",
    "driver = webdriver.Chrome(r\"G:\\내 드라이브\\exe\\chromedriver.exe\")\n",
    "driver.get(\"https://www.instagram.com/\")\n",
    "time.sleep(2)"
   ]
  },
  {
   "cell_type": "raw",
   "metadata": {},
   "source": [
    "수동 로그인"
   ]
  },
  {
   "cell_type": "code",
   "execution_count": null,
   "metadata": {
    "scrolled": false
   },
   "outputs": [],
   "source": [
    "dict = {}   # 전체 데이터를 담을 딕셔너리 생성\n",
    "\n",
    "# 검색창에 커서 클릭\n",
    "element = driver.find_element_by_css_selector(\".pbgfb.Di7vw\")\n",
    "element.click()\n",
    "time.sleep(1)\n",
    "\n",
    "# 검색 창에 검색어 입력\n",
    "element = driver.find_element_by_css_selector(\".XTCLo.x3qfX\")\n",
    "element.send_keys(keyword)\n",
    "time.sleep(3)\n",
    "\n",
    "# 검색어 리스트 중 첫번째 검색어 클릭\n",
    "query_list = driver.find_elements_by_css_selector(\".-qQT3\")\n",
    "query_list[0].click()\n",
    "time.sleep(7)\n",
    "\n",
    "# 사진 클릭\n",
    "CSS_tran=\"div.Nnq7C.weEfm\"                                      # 사진 버튼 정의 \n",
    "tran_button = driver.find_element_by_css_selector(CSS_tran)     # 사진 버튼 찾기\n",
    "AC(driver).move_to_element(tran_button).click().perform()       # 사진 버튼 클릭\n",
    "time.sleep(1)\n",
    "\n",
    "# 크롤링 시작\n",
    "for i in tqdm_notebook(range(0, len_insta)):\n",
    "\n",
    "    target_info = {}                                            # 사진별 데이터를 담을 딕셔너리 생성\n",
    "\n",
    "    try:\n",
    "        # 사진(pic) 크롤링 시작\n",
    "        overlays1 = \"div._2dDPU.CkGkG .FFVAD\"                   # 사진창 속 사진   \n",
    "        img = driver.find_element_by_css_selector(overlays1)    # 사진 선택\n",
    "        pic = img.get_attribute('src')                          # 사진 url 크롤링 완료\n",
    "        target_info['picture'] = pic\n",
    "        # print(target_info)\n",
    "\n",
    "        # 날짜(date) 크롤링 시작\n",
    "        overlays2 = \"div._2dDPU.CkGkG .c-Yi7 > time\"                # 날짜 지정\n",
    "        datum2 = driver.find_element_by_css_selector(overlays2)     # 날짜 선택\n",
    "        date = datum2.get_attribute('title')\n",
    "        # get_attribute('title')                                    # 날짜 크롤링 완료\n",
    "        target_info['date'] = date\n",
    "        # print(target_info)\n",
    "        # print(datalist)\n",
    "\n",
    "        # 좋아요(like) 크롤링 시작\n",
    "        overlays3 = \".Nm9Fw\"                                        # 리뷰창 속 날짜\n",
    "        datum3 = driver.find_element_by_css_selector(overlays3)     # 리뷰 선택\n",
    "        like = datum3.text                                          # 좋아요 크롤링 완료\n",
    "        target_info['like'] = like\n",
    "        # print(target_info)\n",
    "\n",
    "        # 해시태그(tag) 크롤링 시작\n",
    "        overlays4 = \".C7I1f.X7jCj\"                                  # 태그 지정\n",
    "        datum3 = driver.find_element_by_css_selector(overlays4)     # 태그 선택\n",
    "        tag_raw = datum3.text\n",
    "        tags = re.findall('#[A-Za-z0-9가-힣]+', tag_raw)            # \"\"#OOO\"만 뽑아오기(OOO: 한글,숫자,영어,_)\n",
    "        tag = ''.join(tags).replace(\"#\",\" \")                        # \"#\" 제거\n",
    "        target_info['tag'] = tag\n",
    "        # print(target_info)\n",
    "\n",
    "        dict[i] = target_info            # 토탈 딕셔너리로 만들기\n",
    "\n",
    "        print(\"{0}\".format(i), tag)\n",
    "\n",
    "        # 다음장 클릭\n",
    "        CSS_tran2=\"a._65Bje.coreSpriteRightPaginationArrow\"             # 다음 버튼 정의\n",
    "        tran_button2 = driver.find_element_by_css_selector(CSS_tran2)  # 다음 버튼 find\n",
    "        AC(driver).move_to_element(tran_button2).click().perform()     # 다음 버튼 클릭\n",
    "        time.sleep(2)\n",
    "\n",
    "    except:  # 에러가 나면\n",
    "        # 다음장 클릭\n",
    "        CSS_tran2=\"a._65Bje.coreSpriteRightPaginationArrow\"             # 다음 버튼 정의\n",
    "        tran_button2 = driver.find_element_by_css_selector(CSS_tran2)  # 다음 버튼 find\n",
    "        AC(driver).move_to_element(tran_button2).click().perform()     # 다음 버튼 클릭\n",
    "        time.sleep(2)\n",
    "\n",
    "driver.close()\n",
    "\n",
    "print(dict)\n",
    "\n",
    "# 판다스화\n",
    "import pandas as pd\n",
    "result_df = pd.DataFrame.from_dict(dict, 'index')\n",
    "\n",
    "n = result_df['picture'].count()\n",
    "\n",
    "# 엑셀 저장\n",
    "result_df.to_excel(\"insta_({}).xlsx\".format(keyword), encoding='euc-kr')"
   ]
  },
  {
   "cell_type": "code",
   "execution_count": null,
   "metadata": {},
   "outputs": [],
   "source": [
    "result_df"
   ]
  },
  {
   "cell_type": "code",
   "execution_count": null,
   "metadata": {},
   "outputs": [],
   "source": [
    "num_pic = len(result_df['picture'])\n",
    "num_pic"
   ]
  },
  {
   "cell_type": "markdown",
   "metadata": {},
   "source": [
    "### step 2. 이미지 저장"
   ]
  },
  {
   "cell_type": "code",
   "execution_count": null,
   "metadata": {},
   "outputs": [],
   "source": [
    "# 이미지들 image_insta 폴더에 다운받기\n",
    "import os\n",
    "import urllib.request\n",
    "\n",
    "# 만약 폴더가 없으면 생성\n",
    "if not os.path.exists(\"image_insta_\"+keyword):  #if not () 없으면\n",
    "    os.makedirs(\"image_insta_\"+keyword)         # 생성\n",
    "\n",
    "# 이미지 저장\n",
    "for i in range(0, 50):\n",
    "    try:\n",
    "        index = result_df['picture'][i]\n",
    "        date = result_df['date'][i]\n",
    "        urllib.request.urlretrieve(index, \"image_insta_{0}/{1}_{2}.jpg\".format(keyword, i, date))        \n",
    "    except:\n",
    "        pass"
   ]
  },
  {
   "cell_type": "code",
   "execution_count": null,
   "metadata": {},
   "outputs": [],
   "source": []
  }
 ],
 "metadata": {
  "kernelspec": {
   "display_name": "Python 3",
   "language": "python",
   "name": "python3"
  },
  "language_info": {
   "codemirror_mode": {
    "name": "ipython",
    "version": 3
   },
   "file_extension": ".py",
   "mimetype": "text/x-python",
   "name": "python",
   "nbconvert_exporter": "python",
   "pygments_lexer": "ipython3",
   "version": "3.8.5"
  },
  "toc": {
   "base_numbering": 1,
   "nav_menu": {},
   "number_sections": true,
   "sideBar": true,
   "skip_h1_title": false,
   "title_cell": "Table of Contents",
   "title_sidebar": "Contents",
   "toc_cell": false,
   "toc_position": {},
   "toc_section_display": true,
   "toc_window_display": false
  },
  "varInspector": {
   "cols": {
    "lenName": 16,
    "lenType": 16,
    "lenVar": 40
   },
   "kernels_config": {
    "python": {
     "delete_cmd_postfix": "",
     "delete_cmd_prefix": "del ",
     "library": "var_list.py",
     "varRefreshCmd": "print(var_dic_list())"
    },
    "r": {
     "delete_cmd_postfix": ") ",
     "delete_cmd_prefix": "rm(",
     "library": "var_list.r",
     "varRefreshCmd": "cat(var_dic_list()) "
    }
   },
   "types_to_exclude": [
    "module",
    "function",
    "builtin_function_or_method",
    "instance",
    "_Feature"
   ],
   "window_display": false
  }
 },
 "nbformat": 4,
 "nbformat_minor": 2
}
