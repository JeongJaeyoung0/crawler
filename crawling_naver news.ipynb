{
 "cells": [
  {
   "cell_type": "raw",
   "metadata": {},
   "source": [
    "2021.08.04"
   ]
  },
  {
   "cell_type": "markdown",
   "metadata": {},
   "source": [
    "# crawling_naver news"
   ]
  },
  {
   "cell_type": "raw",
   "metadata": {},
   "source": [
    "Step 1. 네이버 > 검색어 입력 > 뉴스> 네이버뉴스 url 수집 > 저장 (naver_news_url.xlsx)\n",
    "Step 2. naver_news_url.xlsx 불러오기 > 제목, 날짜, 댓글, 좋아요 크롤링 > 저장 (naver_news_keyword.xlsx)"
   ]
  },
  {
   "cell_type": "code",
   "execution_count": 1,
   "metadata": {
    "scrolled": true
   },
   "outputs": [
    {
     "data": {
      "text/plain": [
       "'G:\\\\내 드라이브\\\\Colab Notebooks\\\\00_python\\\\01_crawling'"
      ]
     },
     "execution_count": 1,
     "metadata": {},
     "output_type": "execute_result"
    }
   ],
   "source": [
    "pwd"
   ]
  },
  {
   "cell_type": "markdown",
   "metadata": {},
   "source": [
    "### Step 0. 준비"
   ]
  },
  {
   "cell_type": "code",
   "execution_count": 2,
   "metadata": {},
   "outputs": [],
   "source": [
    "import pandas as pd\n",
    "import numpy as np\n",
    "\n",
    "from selenium import webdriver\n",
    "from selenium.webdriver import ActionChains as AC  # 웹 브라우저 동작\n",
    "from tqdm import tqdm\n",
    "from tqdm.notebook import tqdm\n",
    "import re\n",
    "from time import sleep\n",
    "import time"
   ]
  },
  {
   "cell_type": "markdown",
   "metadata": {},
   "source": [
    "### Step 1. 크롤링할 뉴스들 url 수집"
   ]
  },
  {
   "cell_type": "code",
   "execution_count": 3,
   "metadata": {},
   "outputs": [
    {
     "name": "stdout",
     "output_type": "stream",
     "text": [
      "크롤링할 키워드를 입력하세요: 테슬라\n"
     ]
    }
   ],
   "source": [
    "# 검색어\n",
    "keyword = input(\"크롤링할 키워드를 입력하세요: \")"
   ]
  },
  {
   "cell_type": "code",
   "execution_count": 4,
   "metadata": {},
   "outputs": [],
   "source": [
    "# 크롬 웹브라우저 실행\n",
    "driver = webdriver.Chrome(r\"./chromedriver/chromedriver.exe\")\n",
    "driver.get(\"https://search.naver.com/search.naver?where=news&sm=tab_jum&query={}\".format(keyword))\n",
    "time.sleep(2)"
   ]
  },
  {
   "cell_type": "code",
   "execution_count": 5,
   "metadata": {},
   "outputs": [
    {
     "name": "stdout",
     "output_type": "stream",
     "text": [
      "26\n"
     ]
    },
    {
     "data": {
      "text/plain": [
       "['https://news.naver.com/main/read.naver?mode=LSD&mid=sec&sid1=103&oid=030&aid=0002961270',\n",
       " 'https://news.naver.com/main/read.naver?mode=LSD&mid=sec&sid1=101&oid=003&aid=0010645653',\n",
       " 'https://news.naver.com/main/read.naver?mode=LSD&mid=sec&sid1=101&oid=003&aid=0010645419',\n",
       " 'https://news.naver.com/main/read.naver?mode=LSD&mid=sec&sid1=101&oid=001&aid=0012574350',\n",
       " 'https://news.naver.com/main/read.naver?mode=LSD&mid=sec&sid1=102&oid=025&aid=0003123935',\n",
       " 'https://news.naver.com/main/read.naver?mode=LSD&mid=sec&sid1=102&oid=008&aid=0004625860',\n",
       " 'https://news.naver.com/main/read.naver?mode=LSD&mid=sec&sid1=102&oid=009&aid=0004833181',\n",
       " 'https://news.naver.com/main/read.naver?mode=LSD&mid=sec&sid1=102&oid=421&aid=0005520374',\n",
       " 'https://news.naver.com/main/read.naver?mode=LSD&mid=sec&sid1=102&oid=018&aid=0005002083',\n",
       " 'https://news.naver.com/main/read.naver?mode=LSD&mid=sec&sid1=101&oid=014&aid=0004685815',\n",
       " 'https://news.naver.com/main/read.naver?mode=LSD&mid=sec&sid1=104&oid=001&aid=0012573674',\n",
       " 'https://news.naver.com/main/read.naver?mode=LSD&mid=sec&sid1=104&oid=005&aid=0001461809',\n",
       " 'https://news.naver.com/main/read.naver?mode=LSD&mid=sec&sid1=104&oid=015&aid=0004586984',\n",
       " 'https://news.naver.com/main/read.naver?mode=LSD&mid=sec&sid1=101&oid=018&aid=0005001940',\n",
       " 'https://news.naver.com/main/read.naver?mode=LSD&mid=sec&sid1=104&oid=366&aid=0000751543',\n",
       " 'https://news.naver.com/main/read.naver?mode=LSD&mid=sec&sid1=101&oid=215&aid=0000975759',\n",
       " 'https://news.naver.com/main/read.naver?mode=LSD&mid=sec&sid1=101&oid=366&aid=0000751457',\n",
       " 'https://news.naver.com/main/read.naver?mode=LSD&mid=sec&sid1=101&oid=015&aid=0004587652',\n",
       " 'https://news.naver.com/main/read.naver?mode=LSD&mid=sec&sid1=102&oid=422&aid=0000498079',\n",
       " 'https://news.naver.com/main/read.naver?mode=LSD&mid=sec&sid1=102&oid=008&aid=0004626093',\n",
       " 'https://news.naver.com/main/read.naver?mode=LSD&mid=sec&sid1=101&oid=016&aid=0001870535',\n",
       " 'https://news.naver.com/main/read.naver?mode=LSD&mid=sec&sid1=101&oid=016&aid=0001870611',\n",
       " 'https://news.naver.com/main/read.naver?mode=LSD&mid=sec&sid1=104&oid=022&aid=0003606364',\n",
       " 'https://news.naver.com/main/read.naver?mode=LSD&mid=sec&sid1=104&oid=015&aid=0004586817',\n",
       " 'https://news.naver.com/main/read.naver?mode=LSD&mid=sec&sid1=104&oid=015&aid=0004587201',\n",
       " 'https://news.naver.com/main/read.naver?mode=LSD&mid=sec&sid1=101&oid=008&aid=0004626625']"
      ]
     },
     "execution_count": 5,
     "metadata": {},
     "output_type": "execute_result"
    }
   ],
   "source": [
    "# page1에서 네이버뉴스 url 수집하기\n",
    "things = driver.find_elements_by_link_text('네이버뉴스')  \n",
    "\n",
    "url_list = []\n",
    "for thing in things:\n",
    "    url = thing.get_attribute('href')\n",
    "    url_list.append(url)\n",
    "\n",
    "print(len(url_list))\n",
    "url_list"
   ]
  },
  {
   "cell_type": "code",
   "execution_count": 6,
   "metadata": {
    "scrolled": true
   },
   "outputs": [],
   "source": [
    "# url_list 저장\n",
    "df = pd.DataFrame({\"url\":url_list})\n",
    "df.to_excel('naver_news_urls.xlsx')"
   ]
  },
  {
   "cell_type": "markdown",
   "metadata": {},
   "source": [
    "### Step 2. 전체 기사 for문으로 데이터 수집"
   ]
  },
  {
   "cell_type": "code",
   "execution_count": 7,
   "metadata": {},
   "outputs": [
    {
     "name": "stdout",
     "output_type": "stream",
     "text": [
      "26\n"
     ]
    },
    {
     "data": {
      "text/plain": [
       "0     https://news.naver.com/main/read.naver?mode=LS...\n",
       "1     https://news.naver.com/main/read.naver?mode=LS...\n",
       "2     https://news.naver.com/main/read.naver?mode=LS...\n",
       "3     https://news.naver.com/main/read.naver?mode=LS...\n",
       "4     https://news.naver.com/main/read.naver?mode=LS...\n",
       "5     https://news.naver.com/main/read.naver?mode=LS...\n",
       "6     https://news.naver.com/main/read.naver?mode=LS...\n",
       "7     https://news.naver.com/main/read.naver?mode=LS...\n",
       "8     https://news.naver.com/main/read.naver?mode=LS...\n",
       "9     https://news.naver.com/main/read.naver?mode=LS...\n",
       "10    https://news.naver.com/main/read.naver?mode=LS...\n",
       "11    https://news.naver.com/main/read.naver?mode=LS...\n",
       "12    https://news.naver.com/main/read.naver?mode=LS...\n",
       "13    https://news.naver.com/main/read.naver?mode=LS...\n",
       "14    https://news.naver.com/main/read.naver?mode=LS...\n",
       "15    https://news.naver.com/main/read.naver?mode=LS...\n",
       "16    https://news.naver.com/main/read.naver?mode=LS...\n",
       "17    https://news.naver.com/main/read.naver?mode=LS...\n",
       "18    https://news.naver.com/main/read.naver?mode=LS...\n",
       "19    https://news.naver.com/main/read.naver?mode=LS...\n",
       "20    https://news.naver.com/main/read.naver?mode=LS...\n",
       "21    https://news.naver.com/main/read.naver?mode=LS...\n",
       "22    https://news.naver.com/main/read.naver?mode=LS...\n",
       "23    https://news.naver.com/main/read.naver?mode=LS...\n",
       "24    https://news.naver.com/main/read.naver?mode=LS...\n",
       "25    https://news.naver.com/main/read.naver?mode=LS...\n",
       "Name: url, dtype: object"
      ]
     },
     "execution_count": 7,
     "metadata": {},
     "output_type": "execute_result"
    }
   ],
   "source": [
    "# 저장해둔 url 불러오기\n",
    "df = pd.read_excel('naver_news_urls.xlsx')\n",
    "print(len(df['url']))\n",
    "df['url']"
   ]
  },
  {
   "cell_type": "code",
   "execution_count": 8,
   "metadata": {},
   "outputs": [
    {
     "data": {
      "text/plain": [
       "26"
      ]
     },
     "execution_count": 8,
     "metadata": {},
     "output_type": "execute_result"
    }
   ],
   "source": [
    "number = len(df['url'])\n",
    "number"
   ]
  },
  {
   "cell_type": "code",
   "execution_count": 9,
   "metadata": {},
   "outputs": [
    {
     "data": {
      "application/vnd.jupyter.widget-view+json": {
       "model_id": "55a7c823e42b4ea5b964311594c40996",
       "version_major": 2,
       "version_minor": 0
      },
      "text/plain": [
       "HBox(children=(HTML(value=''), FloatProgress(value=0.0, max=26.0), HTML(value='')))"
      ]
     },
     "metadata": {},
     "output_type": "display_data"
    },
    {
     "data": {
      "application/vnd.jupyter.widget-view+json": {
       "model_id": "9bf2497c88144b39b037da6f742ce8f8",
       "version_major": 2,
       "version_minor": 0
      },
      "text/plain": [
       "HBox(children=(HTML(value=''), FloatProgress(value=0.0, max=36.0), HTML(value='')))"
      ]
     },
     "metadata": {},
     "output_type": "display_data"
    },
    {
     "name": "stdout",
     "output_type": "stream",
     "text": [
      "\n",
      "벤츠 E클래스, 7월 '수입차 1위' 탈환…테슬라는 물량 급감 ( 댓글 수: 36 )\n"
     ]
    },
    {
     "data": {
      "application/vnd.jupyter.widget-view+json": {
       "model_id": "f13cb8774a7d401984fed7d9d6171862",
       "version_major": 2,
       "version_minor": 0
      },
      "text/plain": [
       "HBox(children=(HTML(value=''), FloatProgress(value=0.0, max=21.0), HTML(value='')))"
      ]
     },
     "metadata": {},
     "output_type": "display_data"
    },
    {
     "name": "stdout",
     "output_type": "stream",
     "text": [
      "\n",
      "테슬라 7월 판매 22대로 급감…'벤츠 E클래스' 2567대로 1위(종합) ( 댓글 수: 21 )\n"
     ]
    },
    {
     "data": {
      "application/vnd.jupyter.widget-view+json": {
       "model_id": "e5a192d7a98740678a3e511b64221cf7",
       "version_major": 2,
       "version_minor": 0
      },
      "text/plain": [
       "HBox(children=(HTML(value=''), FloatProgress(value=0.0, max=1.0), HTML(value='')))"
      ]
     },
     "metadata": {},
     "output_type": "display_data"
    },
    {
     "name": "stdout",
     "output_type": "stream",
     "text": [
      "\n",
      "지난달 수입차 판매 1위는 '벤츠 E클래스'…테슬라는 부진 왜 ( 댓글 수: 1 )\n"
     ]
    },
    {
     "data": {
      "application/vnd.jupyter.widget-view+json": {
       "model_id": "bd2a1f5181ea4296948d58454e7cc290",
       "version_major": 2,
       "version_minor": 0
      },
      "text/plain": [
       "HBox(children=(HTML(value=''), FloatProgress(value=0.0, max=1.0), HTML(value='')))"
      ]
     },
     "metadata": {},
     "output_type": "display_data"
    },
    {
     "name": "stdout",
     "output_type": "stream",
     "text": [
      "\n",
      "테슬라 주춤한 사이 벤츠 날았다…7월에도 수입차 질주 여전 ( 댓글 수: 1 )\n"
     ]
    },
    {
     "data": {
      "application/vnd.jupyter.widget-view+json": {
       "model_id": "e0e023c91efa4686a7de0a3f9387dc59",
       "version_major": 2,
       "version_minor": 0
      },
      "text/plain": [
       "HBox(children=(HTML(value=''), FloatProgress(value=0.0, max=16.0), HTML(value='')))"
      ]
     },
     "metadata": {},
     "output_type": "display_data"
    },
    {
     "name": "stdout",
     "output_type": "stream",
     "text": [
      "\n",
      "테슬라 문 안 열려 '중대결함'…머스크 서울서 고발당했다 ( 댓글 수: 16 )\n"
     ]
    },
    {
     "data": {
      "application/vnd.jupyter.widget-view+json": {
       "model_id": "0ad0d25e7f9a4ad6b9f83543b8a9ff70",
       "version_major": 2,
       "version_minor": 0
      },
      "text/plain": [
       "HBox(children=(HTML(value=''), FloatProgress(value=0.0, max=44.0), HTML(value='')))"
      ]
     },
     "metadata": {},
     "output_type": "display_data"
    },
    {
     "name": "stdout",
     "output_type": "stream",
     "text": [
      "\n",
      "[단독]'테슬라 중대결함' 시민단체가 머스크 고발...경찰 수사 나선다 ( 댓글 수: 44 )\n"
     ]
    },
    {
     "data": {
      "application/vnd.jupyter.widget-view+json": {
       "model_id": "1cbf5818172a4c07a4469bea4d2bd861",
       "version_major": 2,
       "version_minor": 0
      },
      "text/plain": [
       "HBox(children=(HTML(value=''), FloatProgress(value=0.0, max=4.0), HTML(value='')))"
      ]
     },
     "metadata": {},
     "output_type": "display_data"
    },
    {
     "name": "stdout",
     "output_type": "stream",
     "text": [
      "\n",
      "경찰, '테슬라 중대결함' 머스크 고발 수사 착수 ( 댓글 수: 4 )\n"
     ]
    },
    {
     "data": {
      "application/vnd.jupyter.widget-view+json": {
       "model_id": "d459b14a867445ba9832baa7eef19d8b",
       "version_major": 2,
       "version_minor": 0
      },
      "text/plain": [
       "HBox(children=(HTML(value=''), FloatProgress(value=1.0, bar_style='info', layout=Layout(width='20px'), max=1.0…"
      ]
     },
     "metadata": {},
     "output_type": "display_data"
    },
    {
     "name": "stdout",
     "output_type": "stream",
     "text": [
      "\n",
      "\"테슬라 중대 결함 속이고 판매\"…일론 머스크 고발 사건 경찰이 수사 ( 댓글 수: 0 )\n"
     ]
    },
    {
     "data": {
      "application/vnd.jupyter.widget-view+json": {
       "model_id": "56de0af8207240fcb4a3a3ef57265f8a",
       "version_major": 2,
       "version_minor": 0
      },
      "text/plain": [
       "HBox(children=(HTML(value=''), FloatProgress(value=0.0, max=2.0), HTML(value='')))"
      ]
     },
     "metadata": {},
     "output_type": "display_data"
    },
    {
     "name": "stdout",
     "output_type": "stream",
     "text": [
      "\n",
      "'테슬라 중대결함'…일론 머스크 고발 件 서울경찰이 수사 ( 댓글 수: 2 )\n"
     ]
    },
    {
     "data": {
      "application/vnd.jupyter.widget-view+json": {
       "model_id": "20515f4c280448868f67072eeb18ad7b",
       "version_major": 2,
       "version_minor": 0
      },
      "text/plain": [
       "HBox(children=(HTML(value=''), FloatProgress(value=0.0, max=2.0), HTML(value='')))"
      ]
     },
     "metadata": {},
     "output_type": "display_data"
    },
    {
     "name": "stdout",
     "output_type": "stream",
     "text": [
      "\n",
      "濠 테슬라 메가팩 배터리 화재 진화에만 나흘 걸려 ( 댓글 수: 2 )\n"
     ]
    },
    {
     "data": {
      "application/vnd.jupyter.widget-view+json": {
       "model_id": "2f3df3733c884c0bb96c6fda231de6cd",
       "version_major": 2,
       "version_minor": 0
      },
      "text/plain": [
       "HBox(children=(HTML(value=''), FloatProgress(value=0.0, max=5.0), HTML(value='')))"
      ]
     },
     "metadata": {},
     "output_type": "display_data"
    },
    {
     "name": "stdout",
     "output_type": "stream",
     "text": [
      "\n",
      "테슬라 13t 대형 배터리 화재…불 끄는데 꼬박 나흘 ( 댓글 수: 5 )\n"
     ]
    },
    {
     "data": {
      "application/vnd.jupyter.widget-view+json": {
       "model_id": "f8b29db03f034972b060992872ec4197",
       "version_major": 2,
       "version_minor": 0
      },
      "text/plain": [
       "HBox(children=(HTML(value=''), FloatProgress(value=0.0, max=3.0), HTML(value='')))"
      ]
     },
     "metadata": {},
     "output_type": "display_data"
    },
    {
     "name": "stdout",
     "output_type": "stream",
     "text": [
      "\n",
      "호주 테슬라 13t 배터리에 붙은 불…진화에 4일 걸렸다 ( 댓글 수: 3 )\n"
     ]
    },
    {
     "data": {
      "application/vnd.jupyter.widget-view+json": {
       "model_id": "833cf364b36f492f9b0330a1c4767a45",
       "version_major": 2,
       "version_minor": 0
      },
      "text/plain": [
       "HBox(children=(HTML(value=''), FloatProgress(value=1.0, bar_style='info', layout=Layout(width='20px'), max=1.0…"
      ]
     },
     "metadata": {},
     "output_type": "display_data"
    },
    {
     "name": "stdout",
     "output_type": "stream",
     "text": [
      "\n",
      "테슬라 에너지, 13t 규모 대형 배터리에 불 '진압만 3박4일' ( 댓글 수: 0 )\n"
     ]
    },
    {
     "data": {
      "application/vnd.jupyter.widget-view+json": {
       "model_id": "5ba4a6682904499383dcbb5c64c3150d",
       "version_major": 2,
       "version_minor": 0
      },
      "text/plain": [
       "HBox(children=(HTML(value=''), FloatProgress(value=0.0, max=5.0), HTML(value='')))"
      ]
     },
     "metadata": {},
     "output_type": "display_data"
    },
    {
     "name": "stdout",
     "output_type": "stream",
     "text": [
      "\n",
      "테슬라 13t '메가팩' 배터리서 화재…나흘 걸려 진화 ( 댓글 수: 5 )\n"
     ]
    },
    {
     "data": {
      "application/vnd.jupyter.widget-view+json": {
       "model_id": "389fcdeddc3a4e528b05c1ecb2d23f51",
       "version_major": 2,
       "version_minor": 0
      },
      "text/plain": [
       "HBox(children=(HTML(value=''), FloatProgress(value=0.0, max=5.0), HTML(value='')))"
      ]
     },
     "metadata": {},
     "output_type": "display_data"
    },
    {
     "name": "stdout",
     "output_type": "stream",
     "text": [
      "\n",
      "“테슬라 주가 랠리는 中 전기차 시장 강세 덕분” ( 댓글 수: 5 )\n"
     ]
    },
    {
     "data": {
      "application/vnd.jupyter.widget-view+json": {
       "model_id": "367b7aeaa4d945e09c5121680734f8fd",
       "version_major": 2,
       "version_minor": 0
      },
      "text/plain": [
       "HBox(children=(HTML(value=''), FloatProgress(value=0.0, max=13.0), HTML(value='')))"
      ]
     },
     "metadata": {},
     "output_type": "display_data"
    },
    {
     "name": "stdout",
     "output_type": "stream",
     "text": [
      "\n",
      "\"테슬라 주가 상승 랠리…中 전기차 시장 강세 덕분\" ( 댓글 수: 13 )\n"
     ]
    },
    {
     "data": {
      "application/vnd.jupyter.widget-view+json": {
       "model_id": "32329d92770d48a18d731fd76292b500",
       "version_major": 2,
       "version_minor": 0
      },
      "text/plain": [
       "HBox(children=(HTML(value=''), FloatProgress(value=0.0, max=19.0), HTML(value='')))"
      ]
     },
     "metadata": {},
     "output_type": "display_data"
    },
    {
     "name": "stdout",
     "output_type": "stream",
     "text": [
      "\n",
      "서학개미가 사랑하는 테슬라… 하반기 주가, 고성능 배터리‧전기트럭에 달렸다 ( 댓글 수: 19 )\n"
     ]
    },
    {
     "data": {
      "application/vnd.jupyter.widget-view+json": {
       "model_id": "87a94e4292964b548254098c76a3ab15",
       "version_major": 2,
       "version_minor": 0
      },
      "text/plain": [
       "HBox(children=(HTML(value=''), FloatProgress(value=0.0, max=3.0), HTML(value='')))"
      ]
     },
     "metadata": {},
     "output_type": "display_data"
    },
    {
     "name": "stdout",
     "output_type": "stream",
     "text": [
      "\n",
      "테슬라 10조·애플 4.6조 보유한 서학개미…요즘은 ETF에 꽂혔다 ( 댓글 수: 3 )\n"
     ]
    },
    {
     "data": {
      "application/vnd.jupyter.widget-view+json": {
       "model_id": "ad876769f21f49aa96e850249cf6d735",
       "version_major": 2,
       "version_minor": 0
      },
      "text/plain": [
       "HBox(children=(HTML(value=''), FloatProgress(value=0.0, max=61.0), HTML(value='')))"
      ]
     },
     "metadata": {},
     "output_type": "display_data"
    },
    {
     "name": "stdout",
     "output_type": "stream",
     "text": [
      "\n",
      "\"테슬라 중대결함\" 고발…경찰, 수사 착수 ( 댓글 수: 61 )\n"
     ]
    },
    {
     "data": {
      "application/vnd.jupyter.widget-view+json": {
       "model_id": "42691494570540089152784900eccca5",
       "version_major": 2,
       "version_minor": 0
      },
      "text/plain": [
       "HBox(children=(HTML(value=''), FloatProgress(value=0.0, max=8.0), HTML(value='')))"
      ]
     },
     "metadata": {},
     "output_type": "display_data"
    },
    {
     "name": "stdout",
     "output_type": "stream",
     "text": [
      "\n",
      "[단독] '테슬라 중대결함' 일론 머스크 고발 사건...경찰 수사 착수 ( 댓글 수: 8 )\n"
     ]
    },
    {
     "data": {
      "application/vnd.jupyter.widget-view+json": {
       "model_id": "fdc0d84c91fe407a819984b2b225353c",
       "version_major": 2,
       "version_minor": 0
      },
      "text/plain": [
       "HBox(children=(HTML(value=''), FloatProgress(value=0.0, max=17.0), HTML(value='')))"
      ]
     },
     "metadata": {},
     "output_type": "display_data"
    },
    {
     "name": "stdout",
     "output_type": "stream",
     "text": [
      "\n",
      "테슬라·中전기차 질주...한국만 ‘공회전’ ( 댓글 수: 17 )\n"
     ]
    },
    {
     "data": {
      "application/vnd.jupyter.widget-view+json": {
       "model_id": "56309c8e1f5d42d79fc2b5efb173d69f",
       "version_major": 2,
       "version_minor": 0
      },
      "text/plain": [
       "HBox(children=(HTML(value=''), FloatProgress(value=0.0, max=7.0), HTML(value='')))"
      ]
     },
     "metadata": {},
     "output_type": "display_data"
    },
    {
     "name": "stdout",
     "output_type": "stream",
     "text": [
      "\n",
      "테슬라 뛰고 中 전기차 나는데…한국만 지지부진[株포트라이트] ( 댓글 수: 7 )\n"
     ]
    },
    {
     "data": {
      "application/vnd.jupyter.widget-view+json": {
       "model_id": "c10e101ae89c4390b987958749d78c87",
       "version_major": 2,
       "version_minor": 0
      },
      "text/plain": [
       "HBox(children=(HTML(value=''), FloatProgress(value=0.0, max=10.0), HTML(value='')))"
      ]
     },
     "metadata": {},
     "output_type": "display_data"
    },
    {
     "name": "stdout",
     "output_type": "stream",
     "text": [
      "\n",
      "팀 쿡 “테슬라 팔아라” 머스크 “애플 CEO 넘기면” ( 댓글 수: 10 )\n"
     ]
    },
    {
     "data": {
      "application/vnd.jupyter.widget-view+json": {
       "model_id": "9fefd5166298450c977b8c8f1d9ee9cb",
       "version_major": 2,
       "version_minor": 0
      },
      "text/plain": [
       "HBox(children=(HTML(value=''), FloatProgress(value=0.0, max=7.0), HTML(value='')))"
      ]
     },
     "metadata": {},
     "output_type": "display_data"
    },
    {
     "name": "stdout",
     "output_type": "stream",
     "text": [
      "\n",
      "테슬라 설립 뒤 확보한 모든 특허 뜯어봤더니… [정영효의 일본산업 분석] ( 댓글 수: 7 )\n"
     ]
    },
    {
     "data": {
      "application/vnd.jupyter.widget-view+json": {
       "model_id": "d1cd2446e2a9441481d7fad7804d6d9c",
       "version_major": 2,
       "version_minor": 0
      },
      "text/plain": [
       "HBox(children=(HTML(value=''), FloatProgress(value=0.0, max=2.0), HTML(value='')))"
      ]
     },
     "metadata": {},
     "output_type": "display_data"
    },
    {
     "name": "stdout",
     "output_type": "stream",
     "text": [
      "\n",
      "3년간 60건…'AI 특허' 공들인 테슬라 ( 댓글 수: 2 )\n"
     ]
    },
    {
     "data": {
      "application/vnd.jupyter.widget-view+json": {
       "model_id": "08f9eb8f25bb494fafdb6ded3d586e1f",
       "version_major": 2,
       "version_minor": 0
      },
      "text/plain": [
       "HBox(children=(HTML(value=''), FloatProgress(value=0.0, max=2.0), HTML(value='')))"
      ]
     },
     "metadata": {},
     "output_type": "display_data"
    },
    {
     "name": "stdout",
     "output_type": "stream",
     "text": [
      "\n",
      "넥스트 테슬라? 메타버스株 스치기만 해도 오른다 ( 댓글 수: 2 )\n",
      "\n",
      "26\n"
     ]
    },
    {
     "data": {
      "text/plain": [
       "{0: {'기사명': \"벤츠 E클래스, 7월 '수입차 1위' 탈환…테슬라는 물량 급감\",\n",
       "  '날짜': '2021.08.03. 오후 3:29',\n",
       "  '추천수': '534',\n",
       "  '좋아요': '10',\n",
       "  '훈훈해요': '1',\n",
       "  '슬퍼요': '2',\n",
       "  '화나요': '16',\n",
       "  '후속기사 원해요': '3',\n",
       "  '댓글 수': 36,\n",
       "  '댓글': ['한국내 벤츠 생산 공장을 만드는게 좋을듯 함. 물량도 되고 부품공급사들도 포진해있고..벤츠를 사랑하는 로열 고객 많고 품질도 더 좋아질수 있고 등등',\n",
       "   '내돈내산 왜 욕하는지 왤케 열등감 쩔어 사는 애들이 많냐...',\n",
       "   '결국 테슬라가 물량만 확보되면 1위라는 얘기.',\n",
       "   '승차감, 정숙성, 가성비따위는 필요없다. 단지 벤츠이기에 벤츠를 타는거다.',\n",
       "   '판매량 집계할땐 제네시스도 현대차, 기아차는 별도로 ㅎ',\n",
       "   '테슬라는 수요를 못따라가는 겁니다. 판매가 저조한게 아니라...ㅎㅎㅎ',\n",
       "   '쌍용차가 르노나 지엠보다 많이 팔렸네?',\n",
       "   'E클래스 좋은가요?',\n",
       "   '테슬라를 타고부터벤츠는 안녕...',\n",
       "   '전기차만 아니면 된다',\n",
       "   '테슬라!딱히 내장도 매력없고,외관은 밋밋하고 그렇다고 자동차 명가이미지도 없고 즉 브랜드력이 없고 그렇다고 자율주행이 완전 수준높은 레벨도 아니고 차라리 국산 제네시스 전기차나 벤츠의 전기자동차 타는게 훨씬 매력있는 선택!특히 명품가방처럼 중국보다 비싸게 한국소비자를 호갱으로 보는 나쁜 정책가진 테슬라는 국내에서 완전 추방시켜버려야',\n",
       "   '전기차 많아지는데 굳이 테슬라 살까.. 나도 테슬라 패싱히느라 버티는 중.',\n",
       "   '클린봇이 부적절한 표현을 감지한 댓글입니다.',\n",
       "   '민노총 망하라고 벤즈 구입했다',\n",
       "   '노조가 밥말아 먹는다 지들배만 부르면 만사땡',\n",
       "   '국내만이자나 전세계인줄 어그로',\n",
       "   '코로나고 나발이고. 당하는사람만 당하는거지',\n",
       "   '삼각별 하나에 다 포기해도 좋다',\n",
       "   '작성자에 의해 삭제된 댓글입니다.',\n",
       "   '작성자에 의해 삭제된 댓글입니다.',\n",
       "   '먼~~ 개소리야 ^~^',\n",
       "   '작성자에 의해 삭제된 댓글입니다.',\n",
       "   '작성자에 의해 삭제된 댓글입니다.',\n",
       "   '작성자에 의해 삭제된 댓글입니다.',\n",
       "   '그럼 국산차만 타요??? 그게 애국임?ㅋ 라면먹고 월세내면서 6000천만원짜리 벤츠 타는건 지 사정이지 그냥',\n",
       "   '작성자에 의해 삭제된 댓글입니다.',\n",
       "   '차는 무조건 벤츠지..',\n",
       "   '테슬라는 차가 없어서 못 팔 뿐 실질적 1위는 벤츠가 아니고 테슬라다.',\n",
       "   '디자인이 10창 나도 오빵이들은 울애기가 제일 좋아하는 벤츠를 타야돼^-^',\n",
       "   '명품에 미친나라죠..개나소나 벤츠...집은 없어도 차는 벤츠..편의점 라면 먹어도 12개월 할부로 구찌빽 루이비통 빽....이게다 문재인때문이다',\n",
       "   'E클 너무 비싸',\n",
       "   '여지없이 강남 소나타 이클.',\n",
       "   '짱깨자본 짱츠',\n",
       "   '소나개나 다타는차 내주위에 구멍가게세입자 월세 살면서 남자벤츠 여자 bnw 타고다님ㅡㅡ쥐뿔도없는..보기가..별로',\n",
       "   '소나개나다타는 벤츠 ...별로',\n",
       "   '타소배출 문제로 유럽과 미국등은 내연기관 차를 억제하는 와중에 내연기관 벤츠가 국내 판매 1위라고 한다.이런 상황에서 탄소배출 억제 정상회의를 한국에서 개최한다는 건 말도 안되는 일이다.정부의 탄소배출 규제는 공염불이다. 외국의 정상이 이상황을 알았다면 우리나라를 얼마나 한심한 나라라고 생각하겠는가!']},\n",
       " 1: {'기사명': \"테슬라 7월 판매 22대로 급감…'벤츠 E클래스' 2567대로 1위(종합)\",\n",
       "  '날짜': '2021.08.03. 오후 8:09',\n",
       "  '추천수': '207',\n",
       "  '좋아요': '3',\n",
       "  '훈훈해요': '2',\n",
       "  '슬퍼요': '0',\n",
       "  '화나요': '8',\n",
       "  '후속기사 원해요': '0',\n",
       "  '댓글 수': 21,\n",
       "  '댓글': ['야 이제 이런 조작 기사도 지겹다 ㅋㅋㅋㅋ 걍 연단위로 보자. 연 외제차 수입 톱 테슬라 모델3, 모델Y',\n",
       "   '전기차보조금이 소진될 것 같으면 그냥 출고 자체를 안 한단다 기자야. 멍청한 척 하는 건지..',\n",
       "   '모델3 롱레인지 품절되서 내년까지 주문도 안됨...',\n",
       "   '기레기야 분기첫달은 원래 그래. 테슬라는 분기막달에 다 밀어넣는거 아직도 모르니. 미국도 이제 이런기가 잘 안나온다. 재발 조사좀하고 기사써라.',\n",
       "   'ㅋㅋㅋㅋㅋㅋ 제목 어그로 봐라. 없어서 못사고 있는데 마치 잘안팔리는것처럼 적어놨나..ㅋㅋ',\n",
       "   '내년 바라보고 주문버튼 누르는게 테슬라팬덤이다.... 기사 제목보소 ㅋㅋ',\n",
       "   '중국 5백만원차 수입 좀 해라',\n",
       "   '징글징글한 국뽕 기사.. 또 현기차 사주 받았냐? ㅋㅋㅋ 한국 전기차 시장 비중 얼마나 한다고 ㅋㅋㅋㅋ 요새 테슬라 주가 잘만 오르네.. 비트코인도 김프 빠지고 한국인들 빠지니까 오르고 테슬라 주식도 그렇고.... 어차피 전기차 시장 5월을 저점으로 해서 중국 전기차 3인방을 비롯해서 테슬라 같이 잘 오르고 있으니까 기자야 걱정마라.. 탄소배출권으로만 수익도 안내고 말이다 ㅋㅋㅋㅋ',\n",
       "   '테슬라까는 기레기들보다 일본차 사는사람이 더 싫다.',\n",
       "   '아이고 테슬람들 난리 낫네 ㅋㅋㅋㅋㅋㅋㅋㅋㅋㅋㅋㅋㅋㅋㅋㅋㅋㅋㅋㅋㅋㅋㅋㅋㅋㅋㅋㅋ',\n",
       "   '테슬라가 우리나라에서만 파나?',\n",
       "   '아직도 주구 장창 일본차 사는 국제적 개돼지들 많구나 ㅋㅋ',\n",
       "   '가쟈야너 와 그러니ㅎㅎ',\n",
       "   '테슬라 주문 안되요.... 그냥 5개월 주문 안받겠다 이거임 수요 넘처나서',\n",
       "   '전기충전 귀찮고 답답다 하브살란다',\n",
       "   '작성자에 의해 삭제된 댓글입니다.',\n",
       "   '작성자에 의해 삭제된 댓글입니다.',\n",
       "   '일본은 한국차를 안사는 데 왜 한국은 일본차를 저리 많이 사주는가? 그러니까 일본이 한국을 만만히 보는 것.',\n",
       "   '아직도 일본차 수입이 5위라니, 일본 애들은 우리나라차 거들떠보지 않을정도로 아주 오래전부터 한국산 불매운동 하고 있는데',\n",
       "   '테슬라 이제 누가 사냐? ㅋㅋㅋ 자율주행도 사기라는데 댓글 수준들이 ㅋㅋ 전부 테슬라 주주넘들만 댓글달고있네 ㅋㅋ',\n",
       "   '테슬라 주식 사라는 얘기구나']},\n",
       " 2: {'기사명': \"지난달 수입차 판매 1위는 '벤츠 E클래스'…테슬라는 부진 왜\",\n",
       "  '날짜': '2021.08.03. 오후 5:04',\n",
       "  '추천수': '207',\n",
       "  '좋아요': '1',\n",
       "  '훈훈해요': '0',\n",
       "  '슬퍼요': '1',\n",
       "  '화나요': '0',\n",
       "  '후속기사 원해요': '0',\n",
       "  '댓글 수': 1,\n",
       "  '댓글': ['벤츠는 점점 못생겨 가냐.']},\n",
       " 3: {'기사명': '테슬라 주춤한 사이 벤츠 날았다…7월에도 수입차 질주 여전',\n",
       "  '날짜': '2021.08.03. 오후 1:21',\n",
       "  '추천수': '1,332',\n",
       "  '좋아요': '0',\n",
       "  '훈훈해요': '0',\n",
       "  '슬퍼요': '0',\n",
       "  '화나요': '1',\n",
       "  '후속기사 원해요': '0',\n",
       "  '댓글 수': 1,\n",
       "  '댓글': ['결론은 테슬라는 한국에 들어오데로 다 팔려서 물량이 부족하다는거네. 없어서 못파는것도 부진이라고 하나?']},\n",
       " 4: {'기사명': \"테슬라 문 안 열려 '중대결함'…머스크 서울서 고발당했다\",\n",
       "  '날짜': '2021.08.03. 오후 3:37',\n",
       "  '추천수': '2,234',\n",
       "  '좋아요': '12',\n",
       "  '훈훈해요': '1',\n",
       "  '슬퍼요': '0',\n",
       "  '화나요': '6',\n",
       "  '후속기사 원해요': '0',\n",
       "  '댓글 수': 16,\n",
       "  '댓글': ['응 테슬라 주가 영향 1도없죠~',\n",
       "   '아무도 사지마라',\n",
       "   '테슬라 고발할때 롤린춤추는거 모르나',\n",
       "   '사용자문제',\n",
       "   '어!! 테슬라가 말 안했지만 기본 옵션인데.. 충돌 화재시 쾌속 화장기능',\n",
       "   '저 시민단체 조종한 배후 밝혀라 누가 입금하고 지시 했는데 가장 이득 보는자가 범인이지 그럼 흉기!!!',\n",
       "   '일론은 그냥 한국에는 최첨단 자율주행전기차 팔지마라.툭하면 소송남발,언론퍼나르기하는 이런 나라에 테슬라차량 주지마라!',\n",
       "   '그래서 한국에도 징벌적손배제도와 집단소송제를 속히 도입해서 BMW화재와 같은 저런 못된기업들 발 붙이지 못하도록해야',\n",
       "   '이거보니 중국 그 짱 개 여자 생각나네.',\n",
       "   '사기꾼 시키한테 걸려든거지, 테슬라를 뭐하러사노',\n",
       "   '이래서 외제차를 사야함. 국가가 나서 주잖아. 미쓰비시 흉기 사면 국가가 흉토부가 알아서 보호 해줌. 일본차 사면 딱이야. 왜냐 바로 결함 나오서 이슈화 하면 반일 단체와 좌배드림이 난리 쳐서 바로 해결해줌. 요즘 미쓰비시 흉기도 비싸져서 외제차 샤는게 낫다. 품질이 좋아서 흉기차 5번 고장 날거 한번 고장 난다고 생각 하면 된다.',\n",
       "   '같은 여자 만날가십다 징그럽구겁난다세상에좋았으면 끝까지 가슴에 묻어라창피하지도 않나세상에때어나 헌신짝처럼 내 딩구나~~애고 만~~',\n",
       "   '클린봇이 부적절한 표현을 감지한 댓글입니다.',\n",
       "   '테슬라가 쫄았을까 안쫄았을까',\n",
       "   '방법.국산차타면됨.',\n",
       "   '보자. 과연 그경찰은. 얼마나갈지. 그냥 종결치겠지']},\n",
       " 5: {'기사명': \"[단독]'테슬라 중대결함' 시민단체가 머스크 고발...경찰 수사 나선다\",\n",
       "  '날짜': '2021.08.03. 오후 2:24',\n",
       "  '추천수': '8',\n",
       "  '좋아요': '13',\n",
       "  '훈훈해요': '2',\n",
       "  '슬퍼요': '0',\n",
       "  '화나요': '32',\n",
       "  '후속기사 원해요': '1',\n",
       "  '댓글 수': 44,\n",
       "  '댓글': ['클린봇이 부적절한 표현을 감지한 댓글입니다.',\n",
       "   \"소말리아의 한 시민단체가 한국 삼성본사를 대상으로 스마트폰에 치명적 결함이 있다며 소말리아 법원에 소송을 걸었다 소말리아 경찰은 이'사건을 담당하기로 했다\",\n",
       "   '기술이 못쫓아가니 돈 ㅈㄴ 해쌋네ㅋㅋㅋ 흉기 답다',\n",
       "   '이놈들 숏걸었나보네 ㅉㅉ',\n",
       "   '작성자에 의해 삭제된 댓글입니다.',\n",
       "   'ㅋㅋㅋ. 뒤에 현기?',\n",
       "   '시민단체 일원들 도지 800층 주민으로 밝혀져.......',\n",
       "   '더 무서운건 자율주행인데요... 아직 우리나라에서는 인정 안하고있는데 제 친구는 자율주행 하더라고요...',\n",
       "   '현대는 안해주자나? 왜?경찰에가면되는거였어?엔진오일 줄고있어! 차환불해줘!경찰이였어! 고고',\n",
       "   '왜 찌질해 보이지',\n",
       "   '저 시민단체 누가 월급주나?',\n",
       "   '소프트웨어 업데이트가 불법이라면 현기차는 시간이 갈수록 뒤쳐지겠네',\n",
       "   '현대가 시키드나',\n",
       "   '작성자에 의해 삭제된 댓글입니다.',\n",
       "   '참 시대에 뒤떨어진다. 휴대폰 안드로이드 업데이트도 삼성전자 서비스센터 찾아가서 하시지요?',\n",
       "   '저 인간들 결함은 어디다 고발하지.....?',\n",
       "   '할일없다',\n",
       "   'OTA가 불법이라 하면 안된다고 하다니... 니들은 그냥 달구지나 타고 다녀라',\n",
       "   '현기꺼나 먼저 해라.',\n",
       "   '아 진짜 시대에 뒤쳐지고 쪽팔린다 OTA 때문에 정비소 망할까바 그러냐???',\n",
       "   '클린봇이 부적절한 표현을 감지한 댓글입니다.',\n",
       "   '요즘 듣보잡 시민단체들 자기들 본연의 설립취지가 아닌 의심이 가는 비상식적인 고소 고발이 남발되고 있는 느낌이 무척든다 많이든다',\n",
       "   '신경도 안쓸듯 ㅋㅋㅋ',\n",
       "   '? 현기 네비 무선 업데이트는? 그건 괜찮은건가? 시민단체? 사주받은거겠지.ㅋㅋ',\n",
       "   'ㅋㅋ 개웃겨. . . 현기는',\n",
       "   'ㅎㅎ 무슨소리하는겨? 애플,삼성도 고발해라',\n",
       "   '정비업체 직원들인가?',\n",
       "   '원하는게 뭐냐 이런것도 브로커가 고소하라고 꼬시나',\n",
       "   '웬만하면 댓글안다는데 코미디넼ㅋㅋㅋㅋㅋ',\n",
       "   'ㅋㅋㅋㅋ말같지도 않네 기계적 구조정비랑 소프트웨어 업스레이랑 같ㄴㅑ 자동차관리법 ㅋㅋㅋ어느 업체가 뒤에서 종용했을지 눈에 보이네',\n",
       "   '테슬라가 이 시민단체에서 협찬 운운 요청했는데 개 무시하듯 거절했나보내. 그런데 어쩌냐 테슬라 눈도 껌벅 안할 것 같은다',\n",
       "   'ㅋㅋㅋ 이래서 코미디 뉴스본다니까 ㅋㅋㅋ 정치부만 코미디가아니야 ㅋㅋㅋ',\n",
       "   '작성자에 의해 삭제된 댓글입니다.',\n",
       "   '경...경찰이 수사한다고?',\n",
       "   '머스크가 존 웃것다 ㅋㅋ 도지코인이나 고소해라',\n",
       "   '작성자에 의해 삭제된 댓글입니다.',\n",
       "   '전기차는 테슬라인데 이게 뭔 거지같은 짓거리들이야???',\n",
       "   '전기로 움직이는 손잡이가 전기가 끊기면 안 움직인다는 사실을 “숨겼다”고? 이것들은 지능이 거머리 수준인가.',\n",
       "   '클린봇이 부적절한 표현을 감지한 댓글입니다.',\n",
       "   '흉기차가 시켰드냐. 그래도 전기차는 뭐니뭐니해도 테슬라지!!',\n",
       "   '작성자에 의해 삭제된 댓글입니다.',\n",
       "   'ota기능이 불법 정비행위란다..ㅋㅋ',\n",
       "   '테슬라는 참 이것저것 마니도 걸리네',\n",
       "   '의선이가 시키드나?']},\n",
       " 6: {'기사명': \"경찰, '테슬라 중대결함' 머스크 고발 수사 착수\",\n",
       "  '날짜': '2021.08.03. 오후 3:20',\n",
       "  '추천수': '769',\n",
       "  '좋아요': '0',\n",
       "  '훈훈해요': '0',\n",
       "  '슬퍼요': '0',\n",
       "  '화나요': '3',\n",
       "  '후속기사 원해요': '0',\n",
       "  '댓글 수': 4,\n",
       "  '댓글': ['흠... 과연,,',\n",
       "   'ㅋㅋ현다이는?ㅋㅋ',\n",
       "   '소비자를 기만하는 기업의 악덕행위는 없어져야한다철저한 조사를 바랍니다',\n",
       "   '과연 견찰은 영어를 잘해서 기소를 할것인가...... 내 생각은 무혐의 처리할것 같다. 지난번 호날강도 때처럼 외국인이라서 수사하기 귀찮아서무혐의 가능성 100%']},\n",
       " 7: {'기사명': '\"테슬라 중대 결함 속이고 판매\"…일론 머스크 고발 사건 경찰이 수사',\n",
       "  '날짜': '2021.08.03. 오후 4:53',\n",
       "  '추천수': '2,614',\n",
       "  '좋아요': '1',\n",
       "  '훈훈해요': '0',\n",
       "  '슬퍼요': '0',\n",
       "  '화나요': '1',\n",
       "  '후속기사 원해요': '0',\n",
       "  '댓글 수': 0,\n",
       "  '댓글': []},\n",
       " 8: {'기사명': \"'테슬라 중대결함'…일론 머스크 고발 件 서울경찰이 수사\",\n",
       "  '날짜': '2021.08.03. 오후 4:18',\n",
       "  '추천수': '',\n",
       "  '좋아요': '0',\n",
       "  '훈훈해요': '0',\n",
       "  '슬퍼요': '0',\n",
       "  '화나요': '0',\n",
       "  '후속기사 원해요': '0',\n",
       "  '댓글 수': 2,\n",
       "  '댓글': ['몇년전부터 문제있다고 나왔던 시스템같은데.. 이것도 소비자 단체에서 고발하는군요. 결과나오기가진 또 몇년이 걸릴지.. 이런 현실이 안타깝습니다.',\n",
       "   '현기는?ㅋㅋㅋㅋ']},\n",
       " 9: {'기사명': '濠 테슬라 메가팩 배터리 화재 진화에만 나흘 걸려',\n",
       "  '날짜': '2021.08.03. 오전 9:12',\n",
       "  '추천수': '228',\n",
       "  '좋아요': '0',\n",
       "  '훈훈해요': '0',\n",
       "  '슬퍼요': '0',\n",
       "  '화나요': '3',\n",
       "  '후속기사 원해요': '1',\n",
       "  '댓글 수': 2,\n",
       "  '댓글': ['ㅈ 되었네. 안그래도 사고 자주 나는 테슬라인데 이 사건 계기로 시장 점유율 더 떨어지겠네.',\n",
       "   '빠떼리는 한국꺼써라 안전하게']},\n",
       " 10: {'기사명': '테슬라 13t 대형 배터리 화재…불 끄는데 꼬박 나흘',\n",
       "  '날짜': '2021.08.03. 오전 10:33',\n",
       "  '추천수': '229',\n",
       "  '좋아요': '4',\n",
       "  '훈훈해요': '1',\n",
       "  '슬퍼요': '0',\n",
       "  '화나요': '4',\n",
       "  '후속기사 원해요': '1',\n",
       "  '댓글 수': 5,\n",
       "  '댓글': ['불을 끈게 아니고 다 타서 쓰진거겠지. 사흘동안 탔으면',\n",
       "   '저건 발전소 배터리 자나...발전소 불 나서 몇일 동안 진화하면 발전소 위험하다고 할래?',\n",
       "   '이거 테스트중이던거고 가혹한 조건 테스트중엔 불은 언제나 날수있는데 그런 언급조차 없는 악의적인 기사임.기자 왜이러냐 ㅋㅋㅋ',\n",
       "   '그냥 둬도 불나는 테슬라 배터리ㅋㅋ 차에 넣으면???',\n",
       "   '겨울에는 더 쥐약인거 알고있지?']},\n",
       " 11: {'기사명': '호주 테슬라 13t 배터리에 붙은 불…진화에 4일 걸렸다',\n",
       "  '날짜': '2021.08.03. 오전 11:19',\n",
       "  '추천수': '445',\n",
       "  '좋아요': '1',\n",
       "  '훈훈해요': '0',\n",
       "  '슬퍼요': '0',\n",
       "  '화나요': '0',\n",
       "  '후속기사 원해요': '1',\n",
       "  '댓글 수': 3,\n",
       "  '댓글': ['납축전지 세대로 돌아가야 하나.ㅡㅡ',\n",
       "   '저거 진짜 문제라던데 베터리 불나면 진화해도 다시 불이살아나고 진짜 쉽게진화가 안된다던데 아직도 방법이 없다는게 더문제',\n",
       "   '작성자에 의해 삭제된 댓글입니다.']},\n",
       " 12: {'기사명': \"테슬라 에너지, 13t 규모 대형 배터리에 불 '진압만 3박4일'\",\n",
       "  '날짜': '2021.08.03. 오후 1:30',\n",
       "  '추천수': '1,773',\n",
       "  '좋아요': '0',\n",
       "  '훈훈해요': '0',\n",
       "  '슬퍼요': '1',\n",
       "  '화나요': '0',\n",
       "  '후속기사 원해요': '0',\n",
       "  '댓글 수': 0,\n",
       "  '댓글': []},\n",
       " 13: {'기사명': \"테슬라 13t '메가팩' 배터리서 화재…나흘 걸려 진화\",\n",
       "  '날짜': '2021.08.03. 오후 2:27',\n",
       "  '추천수': '',\n",
       "  '좋아요': '0',\n",
       "  '훈훈해요': '0',\n",
       "  '슬퍼요': '0',\n",
       "  '화나요': '2',\n",
       "  '후속기사 원해요': '1',\n",
       "  '댓글 수': 5,\n",
       "  '댓글': ['아니 7시간 동안 10 ℓ 면 누가 7시간 동안 입으로 물을 뿜은 건가요?',\n",
       "   '마지막 문장에 \"소방관들은 배터리의 불을 끄기 위해 7시간동안 10ℓ에 달하는 물을 뿌렸다고 보도한 바 있다.\" 10리터가 맞는 건가요? ㅎ',\n",
       "   '소변으로 불껐나?',\n",
       "   '이게 친환경이냐?',\n",
       "   '작성자에 의해 삭제된 댓글입니다.']},\n",
       " 14: {'기사명': '“테슬라 주가 랠리는 中 전기차 시장 강세 덕분”',\n",
       "  '날짜': '2021.08.03. 오전 11:21',\n",
       "  '추천수': '',\n",
       "  '좋아요': '5',\n",
       "  '훈훈해요': '0',\n",
       "  '슬퍼요': '0',\n",
       "  '화나요': '3',\n",
       "  '후속기사 원해요': '0',\n",
       "  '댓글 수': 5,\n",
       "  '댓글': ['테슬라가 잘 될수밖에 없는이유하드웨어와 소프트웨어를 같이 만든다마소와 애플이 그랬다',\n",
       "   '테슬라가 일대일로 도로에 충전기 세우는 아부 덕이다. 삼성도 연변대 장학금으로 되겠냐.',\n",
       "   '결국 저것도 한 때라는 거지. 중국놈들이 잘도 냅두겠다. 산업 스파이 심고 퇴직자나 현역들 스카웃 해서 기술 복제하면서 어느정도 됐다 싶으면 온갖 핑계 대면서 토사구팽 하겠지 ㅋㅋㅋ. 솔직히 자율주행은 결국 하드웨어 보다는 소프트웨어가 중요한거고, 소프트웨어는 배끼기 훨씬 쉬움. 심지어 배낀 다음 테슬라가 업뎃하면 그 업뎃도 배끼는게 가능 ㅋㅋ.',\n",
       "   '보조금 잔치 덕분이라는 소리네... 사회주의니까 당 마음대로 보조금 듬뿍듬뿍 가능하지...',\n",
       "   '멍멍멍?']},\n",
       " 15: {'기사명': '\"테슬라 주가 상승 랠리…中 전기차 시장 강세 덕분\"',\n",
       "  '날짜': '2021.08.03. 오전 8:33',\n",
       "  '추천수': '3',\n",
       "  '좋아요': '15',\n",
       "  '훈훈해요': '0',\n",
       "  '슬퍼요': '1',\n",
       "  '화나요': '2',\n",
       "  '후속기사 원해요': '1',\n",
       "  '댓글 수': 13,\n",
       "  '댓글': ['흉기차패 테슬라 승',\n",
       "   '중국이 그렇지 뭐. 불매쇼하면서 결국 미국제품 사지. 나이키도 죽죽 가잖아. 이미 자본주의의 브랜드의 노예야',\n",
       "   '한국언론에서 아무리 현기빨아봤자 테슬라못이김ㅋㅋ',\n",
       "   '중국 전기차 시장때문에 테슬라가 승승장구 한다고치면 왜 다른 메이커들은 중국시장에서 망하냐.. 특히 폭스바겐..ㅋㅋㅋ ID4 테슬라킬러니 그렇게 광고하더니 몇대 팔렸냐??',\n",
       "   '미국하고 치고박고 해도 테슬 라가 좋아',\n",
       "   '아직도 테슬라 주식 안샀는가? 시대의 흐름이다.',\n",
       "   '작성자에 의해 삭제된 댓글입니다.',\n",
       "   '나도 테슬라타고싶은 1인인데완전자율주행을 보조자율주행으로풀세이프도 보조세이프로 바꾸는게 낮지않을까',\n",
       "   '전기차가 도로위에 눈에띄게 늘어나고있음',\n",
       "   '전기차가 대세긴 하다',\n",
       "   '작성자에 의해 삭제된 댓글입니다.',\n",
       "   '작성자에 의해 삭제된 댓글입니다.',\n",
       "   '완전자율같은 소리하고 자빠졌네 ㅋㅋㅋ 달을 신호등으로 인식해서 밤에 가다가 차가 슨단다 ㅋㅋㅋ그러다 뒤진다']},\n",
       " 16: {'기사명': '서학개미가 사랑하는 테슬라… 하반기 주가, 고성능 배터리‧전기트럭에 달렸다',\n",
       "  '날짜': '2021.08.03. 오전 6:01',\n",
       "  '추천수': '123',\n",
       "  '좋아요': '12',\n",
       "  '훈훈해요': '1',\n",
       "  '슬퍼요': '0',\n",
       "  '화나요': '9',\n",
       "  '후속기사 원해요': '2',\n",
       "  '댓글 수': 19,\n",
       "  '댓글': ['코인도 아니고 해외 주식을 8개월 밖에 안했으면서 벌써 팔려고 고민중인갑네...저사람은 주식으로 돈 못벌듯',\n",
       "   '저도 가진거 없는 초서민이지만 테슬라는 120주 들고있습니다 평단490달러.. 최소 5년보고 들고갈 주식이죠',\n",
       "   '주식 사서 1년도 못들고 갈 정도면..... 조선일보 알바로 벌어먹고 사는게 훨 낫지',\n",
       "   '4년뒤 3000이상 보고 매집중입니다!!테슬라나 미국주식은 장기로 보고 꾸준히 모아가야요~일희일비하다간 돈 못벌어요.',\n",
       "   '샀으면 기본 2,3년은 들고가라;;',\n",
       "   '기가베를린 기가텍사스 생산 올해 말부터 돌아감 / 현재까진 모델3과 Y만 판매했는데 작년 실적들 갈아엎었는데 이제 모델X/S도 판매시작함 / 사이버트럭 세미트럭 모델2(소형차) 라인업 늘어날 예정 / FSD 월 구매로 구독경제 시작 / 이것만 봐도 대단한데 자율주행 에너지 태양광 등등 우리가 모르는 분야에도 테슬라가 선두기업이야 900고점이라 생각하면 700 언더는 무조건 매수지',\n",
       "   '테슬라가 잘 될수밖에 없는이유 하드웨어와 소프트웨어를 같이만든다 마소와 애플처럼..이미 미국의 혁신기업이 되었다',\n",
       "   '작성자에 의해 삭제된 댓글입니다.',\n",
       "   '세미나오고 도조만 나오면 끝이다.이커머스까지 냠냠',\n",
       "   '해외선물 법인계좌\\u3000검색해봐 개미들 또 통수맞으려고 생각이 없어도 너무 없다',\n",
       "   '해외주식 꼴랑 10주는 그냥 아무말 안하는게 나아요.',\n",
       "   '대학생 이모씨는 이 글쓴 기자 아니야 ?ㅋㅋㅋ',\n",
       "   '테슬라는 앞으로 잘 되겠지 하지만 주가는 선반영되어있는거 같음 저기서 더 오른다기보단 탄탄하게 저 주가를 유지하게되지 않을까',\n",
       "   '이베스트해외선물\\u3000검색해서 수수료인하해서 거래하세요',\n",
       "   '양산빠떼리로 서울 부산 왔다갔다 할때쯤은 되야혀~',\n",
       "   '올해말부터 떡락시작이다. 내부자들 계속판다 돈나무누나도 팔기시작햇어',\n",
       "   '머스크는 도지코인도 $2 이상으로 띄우겠지? 미국에선 $75 갈거라는 사람들도 있던데',\n",
       "   '기존 메이커 본격 진입해서 치킨게임가면 위태로운 회사',\n",
       "   '댓글 과관이네.. 장투론자들 다 튀나왓네.. 대응이란 개나 줘버리고 무조건 장투 ㅋㅋ 쓴맛좀 봐야 할텐데.. 계속오르네.. 아쉽네.. 큰 숏 한번 기다립니다.. ^^/ 나락 부탁드려요..']},\n",
       " 17: {'기사명': '테슬라 10조·애플 4.6조 보유한 서학개미…요즘은 ETF에 꽂혔다',\n",
       "  '날짜': '2021.08.04. 오후 5:36',\n",
       "  '추천수': '228',\n",
       "  '좋아요': '0',\n",
       "  '훈훈해요': '0',\n",
       "  '슬퍼요': '0',\n",
       "  '화나요': '0',\n",
       "  '후속기사 원해요': '0',\n",
       "  '댓글 수': 3,\n",
       "  '댓글': ['세금 걷기에 혈안이 된 문정권.....국내주식 실현소득에 과세....1인당 년 5천만원까지 비과세 해서 문제가 없다는 문제적 정부....큰손과 외국인들은 과세 대상이 되는데 국내 증권시장이 매력적인 것도 아니고 국내주식 팔고 이익 더 좋은 곳으로 떠나면 되지요. 수요와 유동성이 축소되는 국내증시는 하락이 예견되네요. 국내증시에서 외국인 먼저 떠나고 똑똑한 서학개미들 떠나고....주가 하락되면 국산 개미들은 5천만원 이익 실현이 아니라 쪽박차겠죠. 국민연금도 국내 주식 투자비율이 20%도 안된답니다. 국내증시가 덜 안정적이니...',\n",
       "   '작성자에 의해 삭제된 댓글입니다.',\n",
       "   '서학리조트..태백에 서학골..']},\n",
       " 18: {'기사명': '\"테슬라 중대결함\" 고발…경찰, 수사 착수',\n",
       "  '날짜': '2021.08.04. 오전 7:37',\n",
       "  '추천수': '10',\n",
       "  '좋아요': '28',\n",
       "  '훈훈해요': '0',\n",
       "  '슬퍼요': '2',\n",
       "  '화나요': '36',\n",
       "  '후속기사 원해요': '6',\n",
       "  '댓글 수': 61,\n",
       "  '댓글': ['미국 기업 못잡아 먹어서 난리네 기자야 중대결함이 뭔지는 취재하고 기사 써야 할거아냐 그냥 뜬구름 잡듯이 디스하네 흉기한테 입금 받았냐',\n",
       "   '현대 기아 중대결함은 조사 못하나???',\n",
       "   '시민없는 라도식 시민단체~',\n",
       "   '어처구니없구나...국내 시민단체명을 밝혀라...이건 뭐... 국내 자동차 추종 단체 아니면.... 이런 행동을 할 수 있을까....? 도대체...중대결함이 뭔데...? 주주로써.... 중대결함이 뭔지? 그리고..국내 시민단체가 어디인지....분명히 밝혀야 한다.......그냥....700을 올라가니...별~~~',\n",
       "   '이 집 사장님은..믿음이 안 가..',\n",
       "   '흉기자동차 특대결함은 조사안하나?',\n",
       "   '무슨 결함이냐 좀 알자 머하자는거냐 알맹이가 엄냐',\n",
       "   '현,기 타는 분들도 결함 많다더만 해봐요몇대 안되도 하시는구만 우리나라는 고소도 안되나요 g80 gv80 그랜져,k7 2.5 쏘렌토 등엄청난 결함숫자일텐데 뉴스에 나오다 말고차주분들 동호회나 유튜브보면 나오드만고소를 해도 100 번은 더하셧겟네요답답하네요 피해자일텐데 당하고 계시네요',\n",
       "   '국내 현기는? 냄새나는데?',\n",
       "   '내수용 외수용 다르게 만드는 현기차나 고발하시길^^',\n",
       "   '그래서 어떤중대결함인데',\n",
       "   '국내 대기업 자동차 중대결함이나 밝혀라. 수십년을 사람이 죽고 급발진이 일어나도 아무일 없는듯 껍데기만 바꿔 지금도 폭탄으로 달리는 차들이 많다. 누가 고발일까. 아마도 그놈이겠지. 시민단체라는 가면뒤에서',\n",
       "   '완벽찬 차라서 개~~진상 ㅋㅋㅋ. 흉기차 하수인들 ㅋㅋㅋ 테슬라 승 흉기차 패',\n",
       "   '현대 스마트스트림 엔진 결함은 왜 조용하고 코나ev화재는?',\n",
       "   '미국이라면...큰처벌을 받지만..대한민국에선 모르고 산 놈이 바보...이러면 끝인데..대한민국을 뭘로보고 고발한건지.',\n",
       "   '대통령 중대결함 이겠지 홍어셋기들아ㅋㅋㅋㅋㅋ',\n",
       "   '그래서 결함이 뭔데?',\n",
       "   '고발 내용도 없이 이대로 보도하나?',\n",
       "   '난 또 미국에서 고발당한줄 ㅋㅋㅋ 내용도 없고 할일 없는 시민단체가 또 난리피는구나',\n",
       "   '이딴갓도 기사라고 썻냐? 중대결함리 뭔지를 말해야 될 것 아냐?',\n",
       "   '테슬라 타봐라국내 전기차와의 차이를 시승해보고 댓글 단다. 시승도 안해보고 욕하는 쓰레기들이 없기를',\n",
       "   '대깨들 광우뻥처럼 또 반미선동 시위할려고 자세잡고다.이거네',\n",
       "   '테슬라 10년뒤 애플 처럼 될꺼다 주식 미리 사두셈',\n",
       "   '쓰레기 뉴스',\n",
       "   '손잡이 안나와서 문안열리는 위급 상황이면 창문 깨뜨려야 하는거 아님?',\n",
       "   '시민단체 ㅋㅋㅋ',\n",
       "   '시민단체 이름도 가리고 전세계가 모르는 사실은 지들이 아네?',\n",
       "   '이게 기사입니까?',\n",
       "   '미국 기업이니 모든 가능했지 차자체로만 보면 이걸 비싼돈 주고 왜살까 싶다',\n",
       "   'ㅋㅋㅋㅋㅋㅋ 시민단체명이라도 올리던가ㅋㅋ이것도 기사라고..쯧',\n",
       "   '작성자에 의해 삭제된 댓글입니다.',\n",
       "   '테슬라 무늬만 미국기업이지 중국산 아니냐고 중대결함은 불보듯 뻔한사실 아니냐고 ㅋㅋㅋ',\n",
       "   '시민단체 이름은?무슨 결함?기사 내용이 좀 거시기 하네요..',\n",
       "   '개 웃긴게 여기 가보면 현기에대한 내용은 지워지는건지 뭔지 아예없네 ㅉㅉㅉ 믿거',\n",
       "   '테슬라 오토파일럿은 허위광고라고 해외에서 판결받은바 있습니다. 레벨5 자율주행차를 판매하겠다는 시점도 이미 지났구요. 약속한 많은것들이 지켜지지 않고 있죠. 신뢰를 잃어가는 테슬라...',\n",
       "   '결합이 뭐냐',\n",
       "   '요즘 기사쓰기 참쉽네ㅋㅋ나도 기자나 할까',\n",
       "   '결함내용 없는 가짜뉴스..',\n",
       "   '중대 결함이 뭐지. 전기 다 떨어지면 악셀을 밟아도 차가 안나간다 이런건가',\n",
       "   '니는 머스크한테서 뭐받았노?',\n",
       "   '알맹이 없는 이 기사가 중대결함이다',\n",
       "   '중대결함이 무엇 인지는 밝혀야 기사라고 할 수 있지',\n",
       "   '미국파이팅 한미우호파이팅',\n",
       "   '클린봇이 부적절한 표현을 감지한 댓글입니다.',\n",
       "   'ㅋㅋㅋ기사같은 기사를 써라. 중대한 결함은 니가 있는듯.',\n",
       "   '중대결함 ?ㅇㅇ차는 안나오는겨 미국에서 소송준비한다던디근디 국내에선 8천이상이던데 미국에서는 왜 6천에 팔까,...?',\n",
       "   '중대 결함이 뭔대요?',\n",
       "   '시민단체구성원: 사회서 도태된 거지들이 주류, 세금 도둑질하려 소송질이 주 업무, 도움하나도 않되는 분쟁만 만드는 거지집단',\n",
       "   '테슬라 잡자',\n",
       "   '머스크 형. 한국에서 고발 당한거야?',\n",
       "   '작성자에 의해 삭제된 댓글입니다.',\n",
       "   '클린봇이 부적절한 표현을 감지한 댓글입니다.',\n",
       "   '이거 뭐지??',\n",
       "   '테슬라중대결함 촛불시위시작해ㅋㅋㅋㅋㅋ 짜요짜요',\n",
       "   '세계최초로 뭐 발견한거 아니면 그냥 트집잡기인데',\n",
       "   '작성자에 의해 삭제된 댓글입니다.',\n",
       "   '똥차의 마지막 질주ᆢᆢ꽝',\n",
       "   '댓글 흐신분들 소유자?ㅋ',\n",
       "   '비트코인에 푹 빠져사는 한심한 머스크가 만든 차가, 제대로 된 차일까?',\n",
       "   '현기차에서 아이오닉과 곧 제네시스 전기차 기아Ev6등 곧 대거 출시하니깐 가장강력한 경쟁업체인테슬라까는구나 ㅋㅋ솔직히 현기차가 실내인테리어빼고는 테슬라와 비교한다는거 자체가 웃기지 현기차자율주행과 테슬라 자율주행 비교만해도 현기차는 반자율급이고 테슬라 오토파일럿이 진짜 자율주행급이지 성능 스펙은 더차이가크고 전비 마력 토크 주행성능 안전성 비교가되냐 그러니 이런걸로 언플하는거지',\n",
       "   '작성자에 의해 삭제된 댓글입니다.']},\n",
       " 19: {'기사명': \"[단독] '테슬라 중대결함' 일론 머스크 고발 사건...경찰 수사 착수\",\n",
       "  '날짜': '2021.08.04. 오전 5:00',\n",
       "  '추천수': '8',\n",
       "  '좋아요': '2',\n",
       "  '훈훈해요': '0',\n",
       "  '슬퍼요': '0',\n",
       "  '화나요': '4',\n",
       "  '후속기사 원해요': '1',\n",
       "  '댓글 수': 8,\n",
       "  '댓글': ['작성자에 의해 삭제된 댓글입니다.',\n",
       "   '지라르 한다 지라르 해',\n",
       "   '애플도 소프트웨어 업데이트하면 불법인가요?ㅋㅋㅋㅋ',\n",
       "   '테슬라가 차량을 기계가 아닌 디바이스로 바꾸는 혁신을 지속하는데 무선 업데이트가 불법이라는 게 우습지 않나',\n",
       "   '할일이 없나보다 흉기는 기술 자체가 딸리자나..ㅉㅉ',\n",
       "   '소지자주권? 매연소비자만 챙기기냐?',\n",
       "   '흉기의 반격? 근데 흉기는 결함 덩어리에 고객에게 다덮어씌우기까지 하자나 저 시민단체 조종한 세력 밝혀라',\n",
       "   '이상한 놈들이네.안사면 되는 걸ㆍㆍ괜히 시비거네.']},\n",
       " 20: {'기사명': '테슬라·中전기차 질주...한국만 ‘공회전’',\n",
       "  '날짜': '2021.08.04. 오전 11:48',\n",
       "  '추천수': '582',\n",
       "  '좋아요': '3',\n",
       "  '훈훈해요': '1',\n",
       "  '슬퍼요': '2',\n",
       "  '화나요': '0',\n",
       "  '후속기사 원해요': '1',\n",
       "  '댓글 수': 17,\n",
       "  '댓글': ['노조가 1등공신이엇지ㅋ 노조없엇으면 같이 질주햇을껀데',\n",
       "   '작성자에 의해 삭제된 댓글입니다.',\n",
       "   '전기차 인프라 조성할 이익금가지고 삼성동 부동산 했지. 그까잇 테슬라 중국보다 더큰 이익을 봤구먼. 충전 시설이야 국토부가 알아서 국민 세금으로 큰그림 없이 중구난방 설치해 댈꺼고. 이래서 국매 시장 점유율 88%의 현기차 호재가 될테니 뭐가 걱정인가.',\n",
       "   '정부가 허튼데다가 돈쓰지말고, 이런 미래산업을 위한 인프라 확장에 좀 돈 써라. 공무원 증원, 시민단체 지원하느라 돈 다 써버리고 후세대는 뭘 먹고 사나?',\n",
       "   '공매도 때리는데 개미보고 사라는거냐???',\n",
       "   '작성자에 의해 삭제된 댓글입니다.',\n",
       "   '이게다 누구때문? 느그 누규~ 고무줄 맘대로',\n",
       "   '기술력은 테슬라에 딸리고 ㅋ 가격은 중국에 밀리고 노조는 화이팅 이고 ㅋ 안망 하고 잘 나가는게 더 이상타',\n",
       "   '현대차 연간 차트를 봐라. 제일 수익률이 좋지. 서반영했잖아 바보야.',\n",
       "   '흉기차는 강성 노조 때문에 절대 먼저 앞으로 치고 나갈수없다...',\n",
       "   '내욘기관 쫭',\n",
       "   '작성자에 의해 삭제된 댓글입니다.',\n",
       "   '해외선물 법인계좌\\u3000검색해봐 이제야 빛을 보는건가',\n",
       "   '현대 기아는 노조 때문에 망하게 되어있어',\n",
       "   '현대는 내연차 가 주력....',\n",
       "   '흉기차 타는것들이 한심하지',\n",
       "   '소비자를 호구로 아는데 !누가 사주겠냐 전기차 시대로 가는 문턲에서 !현기차는 스스히 망해갈듯 !']},\n",
       " 21: {'기사명': '테슬라 뛰고 中 전기차 나는데…한국만 지지부진[株포트라이트]',\n",
       "  '날짜': '2021.08.04. 오후 1:56',\n",
       "  '추천수': '582',\n",
       "  '좋아요': '1',\n",
       "  '훈훈해요': '0',\n",
       "  '슬퍼요': '1',\n",
       "  '화나요': '1',\n",
       "  '후속기사 원해요': '1',\n",
       "  '댓글 수': 7,\n",
       "  '댓글': ['공매도 때문이야. 공매도 상환 날짜를 정해야. 올라간다.',\n",
       "   '중국은 빼야지~ 지들 자국내에서만 북치고 장구치는데',\n",
       "   '일단 회장이 자동차 사업보다는 경영승계에만 혈안이 되 있으므로…',\n",
       "   '전기차는 현대 기아가 내놓은게 테슬라와는 10년 차이.. 하물며 중국 니오 샤오펑과도 수년 차이가 난다는게 업계의 정설',\n",
       "   '정책이 틀린거지. 4천만원하는 스텍 경제성도 없고 내구성도 없는 수소차가 미래라는데... 10년 후엔 팔릴 수도 있겠지 스텍 500만원 이라로 떨어지면... 도요다랑 현기랑 누가 덜 떨어졌는지 경쟁하는 듯...',\n",
       "   '전고점에서 떨어진걸로 계산해봐라 현대가 제일 선방이다. 기자양반 왜 이럴까',\n",
       "   '작성자에 의해 삭제된 댓글입니다.']},\n",
       " 22: {'기사명': '팀 쿡 “테슬라 팔아라” 머스크 “애플 CEO 넘기면”',\n",
       "  '날짜': '2021.08.03. 오전 6:04',\n",
       "  '추천수': '17',\n",
       "  '좋아요': '5',\n",
       "  '훈훈해요': '0',\n",
       "  '슬퍼요': '0',\n",
       "  '화나요': '2',\n",
       "  '후속기사 원해요': '1',\n",
       "  '댓글 수': 10,\n",
       "  '댓글': ['역시 머슼 똘아이긴한듯, 실화같음ㅋㅋ',\n",
       "   '사실무근이라쟈나 그저께난 기사 또우려먹냐 기레기야',\n",
       "   '애플라?',\n",
       "   '서로 그런적없다고 트윗으로 글남겼음 사실무근~ ㅉㅉ 기자들 또 헛소리한다',\n",
       "   '작성자에 의해 삭제된 댓글입니다.',\n",
       "   '머스크도 문제지만 팀쿡은 더 문제.. 벙어리도 아니고 쫌팽이 처럼 구는게... 군대로 치면 딱 고문관 스타일인데.. 잡스아니었으면 아무것도 아닌존재..',\n",
       "   '그레기들 할짓 드럽게 없나보네. 별것도 아닌 기사를 왜 이렇게 퍼나르는지...',\n",
       "   \"' 팀 쿡 ' 이 거절한 것은 잘헌일 .. ' 머스크 ' 가 ' 애플 ' ceo 됐음 ' 애플 ' 진짜 하늘을 날아다닐 ' 어질어질 :) ~!!~ '\",\n",
       "   '일론이 애플까지 먹으면 그냥 국가 초월하는 힘 갖을듯',\n",
       "   '왓떠 애플과 테슬라가 합친다면 진짜가 나타나는거다 게임오버 자동차 항공 AI 우주까지']},\n",
       " 23: {'기사명': '테슬라 설립 뒤 확보한 모든 특허 뜯어봤더니… [정영효의 일본산업 분석]',\n",
       "  '날짜': '2021.08.03. 오전 8:54',\n",
       "  '추천수': '1,819',\n",
       "  '좋아요': '16',\n",
       "  '훈훈해요': '0',\n",
       "  '슬퍼요': '0',\n",
       "  '화나요': '2',\n",
       "  '후속기사 원해요': '1',\n",
       "  '댓글 수': 7,\n",
       "  '댓글': ['역시 테슬라!!',\n",
       "   '열심히 준비하는 자가 미래를 장악한다 라는걸 보여주는 테슬라',\n",
       "   '테슬라는 생태계를 보고 투자 한다.우리가 영화에서나 보던 미래를 구현하는기업이 아닐까?',\n",
       "   '5년 후 10년 후 기대되는 기업',\n",
       "   '모델2 나오면 싼맛에 사서 막 타고 다녀야지',\n",
       "   '다 맘에 들지만 단차특허는 왜 안낸겨?',\n",
       "   '응 안사']},\n",
       " 24: {'기사명': \"3년간 60건…'AI 특허' 공들인 테슬라\",\n",
       "  '날짜': '2021.08.03. 오후 5:56',\n",
       "  '추천수': '1,819',\n",
       "  '좋아요': '3',\n",
       "  '훈훈해요': '0',\n",
       "  '슬퍼요': '0',\n",
       "  '화나요': '0',\n",
       "  '후속기사 원해요': '0',\n",
       "  '댓글 수': 2,\n",
       "  '댓글': ['테슬라주가 오늘 떡상',\n",
       "   '그 결과 0-60mph 1.98이 나오게 되었지. AI day에 머가 나와도 우매한 중생들은 별거 없다고 얘기하다 가까운 미래에 자율주행 확대되면 그제서야 아 테슬라가 ai 기업이었네 하겠지']},\n",
       " 25: {'기사명': '넥스트 테슬라? 메타버스株 스치기만 해도 오른다',\n",
       "  '날짜': '2021.08.04. 오후 8:09',\n",
       "  '추천수': '582',\n",
       "  '좋아요': '0',\n",
       "  '훈훈해요': '0',\n",
       "  '슬퍼요': '0',\n",
       "  '화나요': '0',\n",
       "  '후속기사 원해요': '0',\n",
       "  '댓글 수': 2,\n",
       "  '댓글': ['.', '온통 메타버스 기사네 ㄷㄷ 내일은 빠지겠네']}}"
      ]
     },
     "execution_count": 9,
     "metadata": {},
     "output_type": "execute_result"
    }
   ],
   "source": [
    "dict = {}\n",
    "\n",
    "# 페이지당 기사 수집\n",
    "for i in tqdm(range(0, number)):   # len(df['url'])\n",
    "    try:\n",
    "        # 뉴스 크롬창 띄우기\n",
    "        driver = webdriver.Chrome(r\"./chromedriver/chromedriver.exe\")\n",
    "        driver.get(df['url'][i])\n",
    "        time.sleep(1)\n",
    "\n",
    "        # 기사 데이터 수집\n",
    "        title = driver.find_element_by_css_selector('.tts_head').text\n",
    "        date = driver.find_element_by_css_selector('.t11').text\n",
    "        up = driver.find_element_by_css_selector('.u_cnt._count').text\n",
    "        like = driver.find_element_by_css_selector(\".end_btn .u_likeit_list.good .u_likeit_list_count._count\").text\n",
    "        warm = driver.find_element_by_css_selector(\".end_btn .u_likeit_list.warm .u_likeit_list_count._count\").text\n",
    "        sad = driver.find_element_by_css_selector(\".end_btn .u_likeit_list.sad .u_likeit_list_count._count\").text\n",
    "        angry = driver.find_element_by_css_selector(\".end_btn .u_likeit_list.angry .u_likeit_list_count._count\").text\n",
    "        want = driver.find_element_by_css_selector(\".end_btn .u_likeit_list.want .u_likeit_list_count._count\").text\n",
    "\n",
    "        # 기사 댓글 갯수 \n",
    "        review_count = int(driver.find_element_by_css_selector(\".u_cbox_count\").text.replace(',', ''))\n",
    "\n",
    "        # 더보기 클릭 횟수\n",
    "        moreview_num = review_count//20\n",
    "\n",
    "        # 댓글 버튼 클릭\n",
    "        driver.find_element_by_css_selector(\".lo_txt\").click()\n",
    "        time.sleep(1)\n",
    "\n",
    "        # 더보기 버튼 여러번 클릭하기\n",
    "        k=0\n",
    "        while k <= moreview_num:  # 더보기 횟수만큼 반복 \n",
    "            try:\n",
    "                driver.find_element_by_css_selector(\".u_cbox_page_more\").click()  # 더보기 버튼 클릭\n",
    "                time.sleep(1)\n",
    "                k = k+1\n",
    "            except:        \n",
    "                break   # 에러나면 클릭 반복문을 빠져나가라\n",
    "\n",
    "        # review 수집하기\n",
    "        review_list = []\n",
    "        overlays1 = \".u_cbox_text_wrap\"\n",
    "        reviews = driver.find_elements_by_css_selector(overlays1)\n",
    "        for review in tqdm(reviews):    \n",
    "            review = review.text\n",
    "            review_list.append(review)\n",
    "\n",
    "        target_info = {}\n",
    "        target_info['기사명'] = title\n",
    "        target_info['날짜'] = date\n",
    "        target_info['추천수'] = up\n",
    "        target_info['좋아요'] = like\n",
    "        target_info['훈훈해요'] = warm\n",
    "        target_info['슬퍼요'] = sad\n",
    "        target_info['화나요'] = angry\n",
    "        target_info['후속기사 원해요'] = want\n",
    "        target_info['댓글 수'] = len(review_list)\n",
    "        target_info['댓글'] = review_list\n",
    "\n",
    "        dict[i] = target_info\n",
    "        \n",
    "        print(title, '( 댓글 수:', len(review_list),')')\n",
    "\n",
    "        driver.close()\n",
    "        time.sleep(1)\n",
    "        \n",
    "    except:\n",
    "        driver.close()\n",
    "        continue\n",
    "\n",
    "print(len(dict))\n",
    "dict"
   ]
  },
  {
   "cell_type": "code",
   "execution_count": 10,
   "metadata": {},
   "outputs": [
    {
     "data": {
      "text/html": [
       "<div>\n",
       "<style scoped>\n",
       "    .dataframe tbody tr th:only-of-type {\n",
       "        vertical-align: middle;\n",
       "    }\n",
       "\n",
       "    .dataframe tbody tr th {\n",
       "        vertical-align: top;\n",
       "    }\n",
       "\n",
       "    .dataframe thead th {\n",
       "        text-align: right;\n",
       "    }\n",
       "</style>\n",
       "<table border=\"1\" class=\"dataframe\">\n",
       "  <thead>\n",
       "    <tr style=\"text-align: right;\">\n",
       "      <th></th>\n",
       "      <th>기사명</th>\n",
       "      <th>날짜</th>\n",
       "      <th>추천수</th>\n",
       "      <th>좋아요</th>\n",
       "      <th>훈훈해요</th>\n",
       "      <th>슬퍼요</th>\n",
       "      <th>화나요</th>\n",
       "      <th>후속기사 원해요</th>\n",
       "      <th>댓글 수</th>\n",
       "      <th>댓글</th>\n",
       "    </tr>\n",
       "  </thead>\n",
       "  <tbody>\n",
       "    <tr>\n",
       "      <th>0</th>\n",
       "      <td>벤츠 E클래스, 7월 '수입차 1위' 탈환…테슬라는 물량 급감</td>\n",
       "      <td>2021.08.03. 오후 3:29</td>\n",
       "      <td>534</td>\n",
       "      <td>10</td>\n",
       "      <td>1</td>\n",
       "      <td>2</td>\n",
       "      <td>16</td>\n",
       "      <td>3</td>\n",
       "      <td>36</td>\n",
       "      <td>[한국내 벤츠 생산 공장을 만드는게 좋을듯 함. 물량도 되고 부품공급사들도 포진해있...</td>\n",
       "    </tr>\n",
       "    <tr>\n",
       "      <th>1</th>\n",
       "      <td>테슬라 7월 판매 22대로 급감…'벤츠 E클래스' 2567대로 1위(종합)</td>\n",
       "      <td>2021.08.03. 오후 8:09</td>\n",
       "      <td>207</td>\n",
       "      <td>3</td>\n",
       "      <td>2</td>\n",
       "      <td>0</td>\n",
       "      <td>8</td>\n",
       "      <td>0</td>\n",
       "      <td>21</td>\n",
       "      <td>[야 이제 이런 조작 기사도 지겹다 ㅋㅋㅋㅋ 걍 연단위로 보자. 연 외제차 수입 톱...</td>\n",
       "    </tr>\n",
       "    <tr>\n",
       "      <th>2</th>\n",
       "      <td>지난달 수입차 판매 1위는 '벤츠 E클래스'…테슬라는 부진 왜</td>\n",
       "      <td>2021.08.03. 오후 5:04</td>\n",
       "      <td>207</td>\n",
       "      <td>1</td>\n",
       "      <td>0</td>\n",
       "      <td>1</td>\n",
       "      <td>0</td>\n",
       "      <td>0</td>\n",
       "      <td>1</td>\n",
       "      <td>[벤츠는 점점 못생겨 가냐.]</td>\n",
       "    </tr>\n",
       "    <tr>\n",
       "      <th>3</th>\n",
       "      <td>테슬라 주춤한 사이 벤츠 날았다…7월에도 수입차 질주 여전</td>\n",
       "      <td>2021.08.03. 오후 1:21</td>\n",
       "      <td>1,332</td>\n",
       "      <td>0</td>\n",
       "      <td>0</td>\n",
       "      <td>0</td>\n",
       "      <td>1</td>\n",
       "      <td>0</td>\n",
       "      <td>1</td>\n",
       "      <td>[결론은 테슬라는 한국에 들어오데로 다 팔려서 물량이 부족하다는거네. 없어서 못파는...</td>\n",
       "    </tr>\n",
       "    <tr>\n",
       "      <th>4</th>\n",
       "      <td>테슬라 문 안 열려 '중대결함'…머스크 서울서 고발당했다</td>\n",
       "      <td>2021.08.03. 오후 3:37</td>\n",
       "      <td>2,234</td>\n",
       "      <td>12</td>\n",
       "      <td>1</td>\n",
       "      <td>0</td>\n",
       "      <td>6</td>\n",
       "      <td>0</td>\n",
       "      <td>16</td>\n",
       "      <td>[응 테슬라 주가 영향 1도없죠~, 아무도 사지마라, 테슬라 고발할때 롤린춤추는거 ...</td>\n",
       "    </tr>\n",
       "    <tr>\n",
       "      <th>5</th>\n",
       "      <td>[단독]'테슬라 중대결함' 시민단체가 머스크 고발...경찰 수사 나선다</td>\n",
       "      <td>2021.08.03. 오후 2:24</td>\n",
       "      <td>8</td>\n",
       "      <td>13</td>\n",
       "      <td>2</td>\n",
       "      <td>0</td>\n",
       "      <td>32</td>\n",
       "      <td>1</td>\n",
       "      <td>44</td>\n",
       "      <td>[클린봇이 부적절한 표현을 감지한 댓글입니다., 소말리아의 한 시민단체가 한국 삼성...</td>\n",
       "    </tr>\n",
       "    <tr>\n",
       "      <th>6</th>\n",
       "      <td>경찰, '테슬라 중대결함' 머스크 고발 수사 착수</td>\n",
       "      <td>2021.08.03. 오후 3:20</td>\n",
       "      <td>769</td>\n",
       "      <td>0</td>\n",
       "      <td>0</td>\n",
       "      <td>0</td>\n",
       "      <td>3</td>\n",
       "      <td>0</td>\n",
       "      <td>4</td>\n",
       "      <td>[흠... 과연,,, ㅋㅋ현다이는?ㅋㅋ, 소비자를 기만하는 기업의 악덕행위는 없어져...</td>\n",
       "    </tr>\n",
       "    <tr>\n",
       "      <th>7</th>\n",
       "      <td>\"테슬라 중대 결함 속이고 판매\"…일론 머스크 고발 사건 경찰이 수사</td>\n",
       "      <td>2021.08.03. 오후 4:53</td>\n",
       "      <td>2,614</td>\n",
       "      <td>1</td>\n",
       "      <td>0</td>\n",
       "      <td>0</td>\n",
       "      <td>1</td>\n",
       "      <td>0</td>\n",
       "      <td>0</td>\n",
       "      <td>[]</td>\n",
       "    </tr>\n",
       "    <tr>\n",
       "      <th>8</th>\n",
       "      <td>'테슬라 중대결함'…일론 머스크 고발 件 서울경찰이 수사</td>\n",
       "      <td>2021.08.03. 오후 4:18</td>\n",
       "      <td></td>\n",
       "      <td>0</td>\n",
       "      <td>0</td>\n",
       "      <td>0</td>\n",
       "      <td>0</td>\n",
       "      <td>0</td>\n",
       "      <td>2</td>\n",
       "      <td>[몇년전부터 문제있다고 나왔던 시스템같은데.. 이것도 소비자 단체에서 고발하는군요....</td>\n",
       "    </tr>\n",
       "    <tr>\n",
       "      <th>9</th>\n",
       "      <td>濠 테슬라 메가팩 배터리 화재 진화에만 나흘 걸려</td>\n",
       "      <td>2021.08.03. 오전 9:12</td>\n",
       "      <td>228</td>\n",
       "      <td>0</td>\n",
       "      <td>0</td>\n",
       "      <td>0</td>\n",
       "      <td>3</td>\n",
       "      <td>1</td>\n",
       "      <td>2</td>\n",
       "      <td>[ㅈ 되었네. 안그래도 사고 자주 나는 테슬라인데 이 사건 계기로 시장 점유율 더 ...</td>\n",
       "    </tr>\n",
       "    <tr>\n",
       "      <th>10</th>\n",
       "      <td>테슬라 13t 대형 배터리 화재…불 끄는데 꼬박 나흘</td>\n",
       "      <td>2021.08.03. 오전 10:33</td>\n",
       "      <td>229</td>\n",
       "      <td>4</td>\n",
       "      <td>1</td>\n",
       "      <td>0</td>\n",
       "      <td>4</td>\n",
       "      <td>1</td>\n",
       "      <td>5</td>\n",
       "      <td>[불을 끈게 아니고 다 타서 쓰진거겠지. 사흘동안 탔으면, 저건 발전소 배터리 자나...</td>\n",
       "    </tr>\n",
       "    <tr>\n",
       "      <th>11</th>\n",
       "      <td>호주 테슬라 13t 배터리에 붙은 불…진화에 4일 걸렸다</td>\n",
       "      <td>2021.08.03. 오전 11:19</td>\n",
       "      <td>445</td>\n",
       "      <td>1</td>\n",
       "      <td>0</td>\n",
       "      <td>0</td>\n",
       "      <td>0</td>\n",
       "      <td>1</td>\n",
       "      <td>3</td>\n",
       "      <td>[납축전지 세대로 돌아가야 하나.ㅡㅡ, 저거 진짜 문제라던데 베터리 불나면 진화해도...</td>\n",
       "    </tr>\n",
       "    <tr>\n",
       "      <th>12</th>\n",
       "      <td>테슬라 에너지, 13t 규모 대형 배터리에 불 '진압만 3박4일'</td>\n",
       "      <td>2021.08.03. 오후 1:30</td>\n",
       "      <td>1,773</td>\n",
       "      <td>0</td>\n",
       "      <td>0</td>\n",
       "      <td>1</td>\n",
       "      <td>0</td>\n",
       "      <td>0</td>\n",
       "      <td>0</td>\n",
       "      <td>[]</td>\n",
       "    </tr>\n",
       "    <tr>\n",
       "      <th>13</th>\n",
       "      <td>테슬라 13t '메가팩' 배터리서 화재…나흘 걸려 진화</td>\n",
       "      <td>2021.08.03. 오후 2:27</td>\n",
       "      <td></td>\n",
       "      <td>0</td>\n",
       "      <td>0</td>\n",
       "      <td>0</td>\n",
       "      <td>2</td>\n",
       "      <td>1</td>\n",
       "      <td>5</td>\n",
       "      <td>[아니 7시간 동안 10 ℓ 면 누가 7시간 동안 입으로 물을 뿜은 건가요?, 마지...</td>\n",
       "    </tr>\n",
       "    <tr>\n",
       "      <th>14</th>\n",
       "      <td>“테슬라 주가 랠리는 中 전기차 시장 강세 덕분”</td>\n",
       "      <td>2021.08.03. 오전 11:21</td>\n",
       "      <td></td>\n",
       "      <td>5</td>\n",
       "      <td>0</td>\n",
       "      <td>0</td>\n",
       "      <td>3</td>\n",
       "      <td>0</td>\n",
       "      <td>5</td>\n",
       "      <td>[테슬라가 잘 될수밖에 없는이유하드웨어와 소프트웨어를 같이 만든다마소와 애플이 그랬...</td>\n",
       "    </tr>\n",
       "    <tr>\n",
       "      <th>15</th>\n",
       "      <td>\"테슬라 주가 상승 랠리…中 전기차 시장 강세 덕분\"</td>\n",
       "      <td>2021.08.03. 오전 8:33</td>\n",
       "      <td>3</td>\n",
       "      <td>15</td>\n",
       "      <td>0</td>\n",
       "      <td>1</td>\n",
       "      <td>2</td>\n",
       "      <td>1</td>\n",
       "      <td>13</td>\n",
       "      <td>[흉기차패 테슬라 승, 중국이 그렇지 뭐. 불매쇼하면서 결국 미국제품 사지. 나이키...</td>\n",
       "    </tr>\n",
       "    <tr>\n",
       "      <th>16</th>\n",
       "      <td>서학개미가 사랑하는 테슬라… 하반기 주가, 고성능 배터리‧전기트럭에 달렸다</td>\n",
       "      <td>2021.08.03. 오전 6:01</td>\n",
       "      <td>123</td>\n",
       "      <td>12</td>\n",
       "      <td>1</td>\n",
       "      <td>0</td>\n",
       "      <td>9</td>\n",
       "      <td>2</td>\n",
       "      <td>19</td>\n",
       "      <td>[코인도 아니고 해외 주식을 8개월 밖에 안했으면서 벌써 팔려고 고민중인갑네...저...</td>\n",
       "    </tr>\n",
       "    <tr>\n",
       "      <th>17</th>\n",
       "      <td>테슬라 10조·애플 4.6조 보유한 서학개미…요즘은 ETF에 꽂혔다</td>\n",
       "      <td>2021.08.04. 오후 5:36</td>\n",
       "      <td>228</td>\n",
       "      <td>0</td>\n",
       "      <td>0</td>\n",
       "      <td>0</td>\n",
       "      <td>0</td>\n",
       "      <td>0</td>\n",
       "      <td>3</td>\n",
       "      <td>[세금 걷기에 혈안이 된 문정권.....국내주식 실현소득에 과세....1인당 년 5...</td>\n",
       "    </tr>\n",
       "    <tr>\n",
       "      <th>18</th>\n",
       "      <td>\"테슬라 중대결함\" 고발…경찰, 수사 착수</td>\n",
       "      <td>2021.08.04. 오전 7:37</td>\n",
       "      <td>10</td>\n",
       "      <td>28</td>\n",
       "      <td>0</td>\n",
       "      <td>2</td>\n",
       "      <td>36</td>\n",
       "      <td>6</td>\n",
       "      <td>61</td>\n",
       "      <td>[미국 기업 못잡아 먹어서 난리네 기자야 중대결함이 뭔지는 취재하고 기사 써야 할거...</td>\n",
       "    </tr>\n",
       "    <tr>\n",
       "      <th>19</th>\n",
       "      <td>[단독] '테슬라 중대결함' 일론 머스크 고발 사건...경찰 수사 착수</td>\n",
       "      <td>2021.08.04. 오전 5:00</td>\n",
       "      <td>8</td>\n",
       "      <td>2</td>\n",
       "      <td>0</td>\n",
       "      <td>0</td>\n",
       "      <td>4</td>\n",
       "      <td>1</td>\n",
       "      <td>8</td>\n",
       "      <td>[작성자에 의해 삭제된 댓글입니다., 지라르 한다 지라르 해, 애플도 소프트웨어 업...</td>\n",
       "    </tr>\n",
       "    <tr>\n",
       "      <th>20</th>\n",
       "      <td>테슬라·中전기차 질주...한국만 ‘공회전’</td>\n",
       "      <td>2021.08.04. 오전 11:48</td>\n",
       "      <td>582</td>\n",
       "      <td>3</td>\n",
       "      <td>1</td>\n",
       "      <td>2</td>\n",
       "      <td>0</td>\n",
       "      <td>1</td>\n",
       "      <td>17</td>\n",
       "      <td>[노조가 1등공신이엇지ㅋ 노조없엇으면 같이 질주햇을껀데, 작성자에 의해 삭제된 댓글...</td>\n",
       "    </tr>\n",
       "    <tr>\n",
       "      <th>21</th>\n",
       "      <td>테슬라 뛰고 中 전기차 나는데…한국만 지지부진[株포트라이트]</td>\n",
       "      <td>2021.08.04. 오후 1:56</td>\n",
       "      <td>582</td>\n",
       "      <td>1</td>\n",
       "      <td>0</td>\n",
       "      <td>1</td>\n",
       "      <td>1</td>\n",
       "      <td>1</td>\n",
       "      <td>7</td>\n",
       "      <td>[공매도 때문이야. 공매도 상환 날짜를 정해야. 올라간다., 중국은 빼야지~ 지들 ...</td>\n",
       "    </tr>\n",
       "    <tr>\n",
       "      <th>22</th>\n",
       "      <td>팀 쿡 “테슬라 팔아라” 머스크 “애플 CEO 넘기면”</td>\n",
       "      <td>2021.08.03. 오전 6:04</td>\n",
       "      <td>17</td>\n",
       "      <td>5</td>\n",
       "      <td>0</td>\n",
       "      <td>0</td>\n",
       "      <td>2</td>\n",
       "      <td>1</td>\n",
       "      <td>10</td>\n",
       "      <td>[역시 머슼 똘아이긴한듯, 실화같음ㅋㅋ, 사실무근이라쟈나 그저께난 기사 또우려먹냐 ...</td>\n",
       "    </tr>\n",
       "    <tr>\n",
       "      <th>23</th>\n",
       "      <td>테슬라 설립 뒤 확보한 모든 특허 뜯어봤더니… [정영효의 일본산업 분석]</td>\n",
       "      <td>2021.08.03. 오전 8:54</td>\n",
       "      <td>1,819</td>\n",
       "      <td>16</td>\n",
       "      <td>0</td>\n",
       "      <td>0</td>\n",
       "      <td>2</td>\n",
       "      <td>1</td>\n",
       "      <td>7</td>\n",
       "      <td>[역시 테슬라!!, 열심히 준비하는 자가 미래를 장악한다 라는걸 보여주는 테슬라, ...</td>\n",
       "    </tr>\n",
       "    <tr>\n",
       "      <th>24</th>\n",
       "      <td>3년간 60건…'AI 특허' 공들인 테슬라</td>\n",
       "      <td>2021.08.03. 오후 5:56</td>\n",
       "      <td>1,819</td>\n",
       "      <td>3</td>\n",
       "      <td>0</td>\n",
       "      <td>0</td>\n",
       "      <td>0</td>\n",
       "      <td>0</td>\n",
       "      <td>2</td>\n",
       "      <td>[테슬라주가 오늘 떡상, 그 결과 0-60mph 1.98이 나오게 되었지. AI d...</td>\n",
       "    </tr>\n",
       "    <tr>\n",
       "      <th>25</th>\n",
       "      <td>넥스트 테슬라? 메타버스株 스치기만 해도 오른다</td>\n",
       "      <td>2021.08.04. 오후 8:09</td>\n",
       "      <td>582</td>\n",
       "      <td>0</td>\n",
       "      <td>0</td>\n",
       "      <td>0</td>\n",
       "      <td>0</td>\n",
       "      <td>0</td>\n",
       "      <td>2</td>\n",
       "      <td>[., 온통 메타버스 기사네 ㄷㄷ 내일은 빠지겠네]</td>\n",
       "    </tr>\n",
       "  </tbody>\n",
       "</table>\n",
       "</div>"
      ],
      "text/plain": [
       "                                          기사명                    날짜    추천수  \\\n",
       "0          벤츠 E클래스, 7월 '수입차 1위' 탈환…테슬라는 물량 급감   2021.08.03. 오후 3:29    534   \n",
       "1   테슬라 7월 판매 22대로 급감…'벤츠 E클래스' 2567대로 1위(종합)   2021.08.03. 오후 8:09    207   \n",
       "2          지난달 수입차 판매 1위는 '벤츠 E클래스'…테슬라는 부진 왜   2021.08.03. 오후 5:04    207   \n",
       "3            테슬라 주춤한 사이 벤츠 날았다…7월에도 수입차 질주 여전   2021.08.03. 오후 1:21  1,332   \n",
       "4             테슬라 문 안 열려 '중대결함'…머스크 서울서 고발당했다   2021.08.03. 오후 3:37  2,234   \n",
       "5     [단독]'테슬라 중대결함' 시민단체가 머스크 고발...경찰 수사 나선다   2021.08.03. 오후 2:24      8   \n",
       "6                 경찰, '테슬라 중대결함' 머스크 고발 수사 착수   2021.08.03. 오후 3:20    769   \n",
       "7      \"테슬라 중대 결함 속이고 판매\"…일론 머스크 고발 사건 경찰이 수사   2021.08.03. 오후 4:53  2,614   \n",
       "8             '테슬라 중대결함'…일론 머스크 고발 件 서울경찰이 수사   2021.08.03. 오후 4:18          \n",
       "9                 濠 테슬라 메가팩 배터리 화재 진화에만 나흘 걸려   2021.08.03. 오전 9:12    228   \n",
       "10              테슬라 13t 대형 배터리 화재…불 끄는데 꼬박 나흘  2021.08.03. 오전 10:33    229   \n",
       "11            호주 테슬라 13t 배터리에 붙은 불…진화에 4일 걸렸다  2021.08.03. 오전 11:19    445   \n",
       "12       테슬라 에너지, 13t 규모 대형 배터리에 불 '진압만 3박4일'   2021.08.03. 오후 1:30  1,773   \n",
       "13             테슬라 13t '메가팩' 배터리서 화재…나흘 걸려 진화   2021.08.03. 오후 2:27          \n",
       "14                “테슬라 주가 랠리는 中 전기차 시장 강세 덕분”  2021.08.03. 오전 11:21          \n",
       "15              \"테슬라 주가 상승 랠리…中 전기차 시장 강세 덕분\"   2021.08.03. 오전 8:33      3   \n",
       "16  서학개미가 사랑하는 테슬라… 하반기 주가, 고성능 배터리‧전기트럭에 달렸다   2021.08.03. 오전 6:01    123   \n",
       "17      테슬라 10조·애플 4.6조 보유한 서학개미…요즘은 ETF에 꽂혔다   2021.08.04. 오후 5:36    228   \n",
       "18                    \"테슬라 중대결함\" 고발…경찰, 수사 착수   2021.08.04. 오전 7:37     10   \n",
       "19    [단독] '테슬라 중대결함' 일론 머스크 고발 사건...경찰 수사 착수   2021.08.04. 오전 5:00      8   \n",
       "20                    테슬라·中전기차 질주...한국만 ‘공회전’  2021.08.04. 오전 11:48    582   \n",
       "21          테슬라 뛰고 中 전기차 나는데…한국만 지지부진[株포트라이트]   2021.08.04. 오후 1:56    582   \n",
       "22             팀 쿡 “테슬라 팔아라” 머스크 “애플 CEO 넘기면”   2021.08.03. 오전 6:04     17   \n",
       "23   테슬라 설립 뒤 확보한 모든 특허 뜯어봤더니… [정영효의 일본산업 분석]   2021.08.03. 오전 8:54  1,819   \n",
       "24                    3년간 60건…'AI 특허' 공들인 테슬라   2021.08.03. 오후 5:56  1,819   \n",
       "25                 넥스트 테슬라? 메타버스株 스치기만 해도 오른다   2021.08.04. 오후 8:09    582   \n",
       "\n",
       "   좋아요 훈훈해요 슬퍼요 화나요 후속기사 원해요  댓글 수  \\\n",
       "0   10    1   2  16        3    36   \n",
       "1    3    2   0   8        0    21   \n",
       "2    1    0   1   0        0     1   \n",
       "3    0    0   0   1        0     1   \n",
       "4   12    1   0   6        0    16   \n",
       "5   13    2   0  32        1    44   \n",
       "6    0    0   0   3        0     4   \n",
       "7    1    0   0   1        0     0   \n",
       "8    0    0   0   0        0     2   \n",
       "9    0    0   0   3        1     2   \n",
       "10   4    1   0   4        1     5   \n",
       "11   1    0   0   0        1     3   \n",
       "12   0    0   1   0        0     0   \n",
       "13   0    0   0   2        1     5   \n",
       "14   5    0   0   3        0     5   \n",
       "15  15    0   1   2        1    13   \n",
       "16  12    1   0   9        2    19   \n",
       "17   0    0   0   0        0     3   \n",
       "18  28    0   2  36        6    61   \n",
       "19   2    0   0   4        1     8   \n",
       "20   3    1   2   0        1    17   \n",
       "21   1    0   1   1        1     7   \n",
       "22   5    0   0   2        1    10   \n",
       "23  16    0   0   2        1     7   \n",
       "24   3    0   0   0        0     2   \n",
       "25   0    0   0   0        0     2   \n",
       "\n",
       "                                                   댓글  \n",
       "0   [한국내 벤츠 생산 공장을 만드는게 좋을듯 함. 물량도 되고 부품공급사들도 포진해있...  \n",
       "1   [야 이제 이런 조작 기사도 지겹다 ㅋㅋㅋㅋ 걍 연단위로 보자. 연 외제차 수입 톱...  \n",
       "2                                    [벤츠는 점점 못생겨 가냐.]  \n",
       "3   [결론은 테슬라는 한국에 들어오데로 다 팔려서 물량이 부족하다는거네. 없어서 못파는...  \n",
       "4   [응 테슬라 주가 영향 1도없죠~, 아무도 사지마라, 테슬라 고발할때 롤린춤추는거 ...  \n",
       "5   [클린봇이 부적절한 표현을 감지한 댓글입니다., 소말리아의 한 시민단체가 한국 삼성...  \n",
       "6   [흠... 과연,,, ㅋㅋ현다이는?ㅋㅋ, 소비자를 기만하는 기업의 악덕행위는 없어져...  \n",
       "7                                                  []  \n",
       "8   [몇년전부터 문제있다고 나왔던 시스템같은데.. 이것도 소비자 단체에서 고발하는군요....  \n",
       "9   [ㅈ 되었네. 안그래도 사고 자주 나는 테슬라인데 이 사건 계기로 시장 점유율 더 ...  \n",
       "10  [불을 끈게 아니고 다 타서 쓰진거겠지. 사흘동안 탔으면, 저건 발전소 배터리 자나...  \n",
       "11  [납축전지 세대로 돌아가야 하나.ㅡㅡ, 저거 진짜 문제라던데 베터리 불나면 진화해도...  \n",
       "12                                                 []  \n",
       "13  [아니 7시간 동안 10 ℓ 면 누가 7시간 동안 입으로 물을 뿜은 건가요?, 마지...  \n",
       "14  [테슬라가 잘 될수밖에 없는이유하드웨어와 소프트웨어를 같이 만든다마소와 애플이 그랬...  \n",
       "15  [흉기차패 테슬라 승, 중국이 그렇지 뭐. 불매쇼하면서 결국 미국제품 사지. 나이키...  \n",
       "16  [코인도 아니고 해외 주식을 8개월 밖에 안했으면서 벌써 팔려고 고민중인갑네...저...  \n",
       "17  [세금 걷기에 혈안이 된 문정권.....국내주식 실현소득에 과세....1인당 년 5...  \n",
       "18  [미국 기업 못잡아 먹어서 난리네 기자야 중대결함이 뭔지는 취재하고 기사 써야 할거...  \n",
       "19  [작성자에 의해 삭제된 댓글입니다., 지라르 한다 지라르 해, 애플도 소프트웨어 업...  \n",
       "20  [노조가 1등공신이엇지ㅋ 노조없엇으면 같이 질주햇을껀데, 작성자에 의해 삭제된 댓글...  \n",
       "21  [공매도 때문이야. 공매도 상환 날짜를 정해야. 올라간다., 중국은 빼야지~ 지들 ...  \n",
       "22  [역시 머슼 똘아이긴한듯, 실화같음ㅋㅋ, 사실무근이라쟈나 그저께난 기사 또우려먹냐 ...  \n",
       "23  [역시 테슬라!!, 열심히 준비하는 자가 미래를 장악한다 라는걸 보여주는 테슬라, ...  \n",
       "24  [테슬라주가 오늘 떡상, 그 결과 0-60mph 1.98이 나오게 되었지. AI d...  \n",
       "25                       [., 온통 메타버스 기사네 ㄷㄷ 내일은 빠지겠네]  "
      ]
     },
     "execution_count": 10,
     "metadata": {},
     "output_type": "execute_result"
    }
   ],
   "source": [
    "# 판다스화\n",
    "import pandas as pd\n",
    "result_df = pd.DataFrame.from_dict(dict, 'index')\n",
    "result_df"
   ]
  },
  {
   "cell_type": "code",
   "execution_count": 11,
   "metadata": {},
   "outputs": [],
   "source": [
    "# 엑셀 저장\n",
    "result_df.to_excel(\"naver_news_({}).xlsx\".format(keyword))"
   ]
  },
  {
   "cell_type": "code",
   "execution_count": null,
   "metadata": {},
   "outputs": [],
   "source": []
  }
 ],
 "metadata": {
  "kernelspec": {
   "display_name": "Python 3",
   "language": "python",
   "name": "python3"
  },
  "language_info": {
   "codemirror_mode": {
    "name": "ipython",
    "version": 3
   },
   "file_extension": ".py",
   "mimetype": "text/x-python",
   "name": "python",
   "nbconvert_exporter": "python",
   "pygments_lexer": "ipython3",
   "version": "3.8.5"
  },
  "toc": {
   "base_numbering": 1,
   "nav_menu": {},
   "number_sections": true,
   "sideBar": true,
   "skip_h1_title": false,
   "title_cell": "Table of Contents",
   "title_sidebar": "Contents",
   "toc_cell": false,
   "toc_position": {},
   "toc_section_display": true,
   "toc_window_display": false
  },
  "varInspector": {
   "cols": {
    "lenName": 16,
    "lenType": 16,
    "lenVar": 40
   },
   "kernels_config": {
    "python": {
     "delete_cmd_postfix": "",
     "delete_cmd_prefix": "del ",
     "library": "var_list.py",
     "varRefreshCmd": "print(var_dic_list())"
    },
    "r": {
     "delete_cmd_postfix": ") ",
     "delete_cmd_prefix": "rm(",
     "library": "var_list.r",
     "varRefreshCmd": "cat(var_dic_list()) "
    }
   },
   "types_to_exclude": [
    "module",
    "function",
    "builtin_function_or_method",
    "instance",
    "_Feature"
   ],
   "window_display": false
  }
 },
 "nbformat": 4,
 "nbformat_minor": 2
}
