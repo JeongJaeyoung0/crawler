{
 "cells": [
  {
   "cell_type": "markdown",
   "metadata": {
    "id": "pCZaIO118sND"
   },
   "source": [
    "# crawling_irss"
   ]
  },
  {
   "cell_type": "markdown",
   "metadata": {},
   "source": [
    "### 수집: 제목, 저자, 년도"
   ]
  },
  {
   "cell_type": "markdown",
   "metadata": {
    "id": "ZR8pV7-68sNE"
   },
   "source": [
    "### step 0. 준비"
   ]
  },
  {
   "cell_type": "code",
   "execution_count": 148,
   "metadata": {
    "executionInfo": {
     "elapsed": 6,
     "status": "ok",
     "timestamp": 1629013577206,
     "user": {
      "displayName": "Jaeyoung Jeong",
      "photoUrl": "https://lh3.googleusercontent.com/a-/AOh14GhsK0gzIyCaqt3838rNBxCPlb10R9TN9Jlm1Cp3=s64",
      "userId": "14387671912167104849"
     },
     "user_tz": -540
    },
    "id": "AJ9Ifb9n904P"
   },
   "outputs": [],
   "source": [
    "import sys    # 시스템\n",
    "import os     # 시스템\n",
    "\n",
    "import pandas as pd    # 판다스 : 데이터분석 라이브러리\n",
    "import numpy as np     # 넘파이 : 숫자, 행렬 데이터 라이브러리\n",
    "\n",
    "from bs4 import BeautifulSoup     # html 데이터 전처리\n",
    "from selenium import webdriver    # 웹 브라우저 자동화\n",
    "import time                       # 시간 지연\n",
    "from tqdm import tqdm_notebook    # 진행상황 표시"
   ]
  },
  {
   "cell_type": "markdown",
   "metadata": {
    "id": "TvxvI9kZ8sNF"
   },
   "source": [
    "### step 1. 제목, 저자 크롤링"
   ]
  },
  {
   "cell_type": "code",
   "execution_count": 223,
   "metadata": {
    "colab": {
     "base_uri": "https://localhost:8080/"
    },
    "executionInfo": {
     "elapsed": 20218,
     "status": "ok",
     "timestamp": 1625708314584,
     "user": {
      "displayName": "Jaeyoung Jeong",
      "photoUrl": "https://lh3.googleusercontent.com/a-/AOh14GhsK0gzIyCaqt3838rNBxCPlb10R9TN9Jlm1Cp3=s64",
      "userId": "14387671912167104849"
     },
     "user_tz": -540
    },
    "id": "hGxCCaxy8sNF",
    "outputId": "97443219-447c-41db-ec92-a16181214db8"
   },
   "outputs": [
    {
     "name": "stdout",
     "output_type": "stream",
     "text": [
      "크롤링할 검색어 입력: 통합 and 교수효능감\n"
     ]
    }
   ],
   "source": [
    "# 크롤링 할 검색어\n",
    "keyword = input(\"크롤링할 검색어 입력: \")"
   ]
  },
  {
   "cell_type": "code",
   "execution_count": 150,
   "metadata": {},
   "outputs": [],
   "source": [
    "# 크롬 웹브라우저 실행\n",
    "driver = webdriver.Chrome(r\"./chromedriver/chromedriver.exe\")"
   ]
  },
  {
   "cell_type": "code",
   "execution_count": 13,
   "metadata": {},
   "outputs": [],
   "source": [
    "# 사이트 주소\n",
    "driver.get(\"http://www.riss.kr.libproxy.kongju.ac.kr/search/Search.do?isDetailSearch=N&searchGubun=true&viewYn=OP&query={0}&queryText=&iStartCount=0&iGroupView=5&icate=all&colName=re_a_kor&exQuery=&exQueryText=&order=%2FDESC&onHanja=false&strSort=RANK&pageScale=10&orderBy=&fsearchMethod=search&isFDetailSearch=N&sflag=1&searchQuery={0}&fsearchSort=&fsearchOrder=&limiterList=&limiterListText=&facetList=&facetListText=&fsearchDB=&resultKeyword={0}&pageNumber=1&p_year1=&p_year2=&dorg_storage=&mat_type=&mat_subtype=&fulltext_kind=&t_gubun=&learning_type=&language_code=&ccl_code=&language=&inside_outside=&fric_yn=&image_yn=&regnm=&gubun=&kdc=&ttsUseYn=\".format(keyword))\n",
    "time.sleep(5)"
   ]
  },
  {
   "cell_type": "code",
   "execution_count": 88,
   "metadata": {},
   "outputs": [],
   "source": [
    "# 년도 수동 클릭"
   ]
  },
  {
   "cell_type": "code",
   "execution_count": 224,
   "metadata": {
    "scrolled": true
   },
   "outputs": [
    {
     "name": "stdout",
     "output_type": "stream",
     "text": [
      "100 98 100\n",
      "140 138 140\n",
      "마지막 페이지\n"
     ]
    }
   ],
   "source": [
    "title_list = []\n",
    "name_list = []\n",
    "year_list = []\n",
    "kci_list = []\n",
    "\n",
    "for i in range(3,100):\n",
    "    # 제목 크롤링\n",
    "    titles = driver.find_elements_by_css_selector(\".title\")\n",
    "    for tit in titles[21:]:\n",
    "        title = tit.text\n",
    "        title_list.append(title)\n",
    "        \n",
    "    # 저자 크롤링\n",
    "    names = driver.find_elements_by_css_selector(\".writer\")\n",
    "    for nam in names:\n",
    "        name = nam.text\n",
    "        name_list.append(name)\n",
    "\n",
    "    infos = driver.find_elements_by_css_selector(\".etc\")\n",
    "    # 인포\n",
    "    for inf in infos:\n",
    "        info = inf.text\n",
    "        info_spl = info.split(' ')\n",
    "\n",
    "        # 날짜 크롤링\n",
    "        for in_sp in info_spl:\n",
    "            if '20' in in_sp and 'page' not in in_sp and '(' not in in_sp and 'Vol' not in in_sp and 'No' not in in_sp:\n",
    "                year_list.append(in_sp[0:4])\n",
    "\n",
    "    # KCI 크롤링\n",
    "    kcis = driver.find_elements_by_css_selector(\".mark > img\")\n",
    "    for kci_num in range(len(kcis)):\n",
    "        kci_list.append(kcis[kci_num].get_attribute('alt'))\n",
    "\n",
    "    print(len(title_list), len(name_list), len(year_list))\n",
    "\n",
    "    # 페이지 클릭\n",
    "    try:\n",
    "        driver.find_element_by_xpath('//*[@id=\"divContent\"]/div[2]/div/div[5]/a[{0}]'.format(i)).click()\n",
    "        time.sleep(7)\n",
    "        if driver.find_elements_by_css_selector(\".title\")[-1].text == title_list[-1]:\n",
    "            print(\"마지막 페이지\")\n",
    "            break\n",
    "    except:\n",
    "        print(\"-\")\n",
    "        break    \n",
    "    \n",
    "# driver.close()"
   ]
  },
  {
   "cell_type": "code",
   "execution_count": 225,
   "metadata": {},
   "outputs": [],
   "source": [
    "name_list.append('위치에러-1')"
   ]
  },
  {
   "cell_type": "code",
   "execution_count": 226,
   "metadata": {},
   "outputs": [],
   "source": [
    "name_list.append('위치에러-2')"
   ]
  },
  {
   "cell_type": "code",
   "execution_count": 227,
   "metadata": {},
   "outputs": [
    {
     "data": {
      "text/plain": [
       "140"
      ]
     },
     "execution_count": 227,
     "metadata": {},
     "output_type": "execute_result"
    }
   ],
   "source": [
    "len(name_list)"
   ]
  },
  {
   "cell_type": "code",
   "execution_count": 228,
   "metadata": {
    "scrolled": true
   },
   "outputs": [
    {
     "data": {
      "text/html": [
       "<div>\n",
       "<style scoped>\n",
       "    .dataframe tbody tr th:only-of-type {\n",
       "        vertical-align: middle;\n",
       "    }\n",
       "\n",
       "    .dataframe tbody tr th {\n",
       "        vertical-align: top;\n",
       "    }\n",
       "\n",
       "    .dataframe thead th {\n",
       "        text-align: right;\n",
       "    }\n",
       "</style>\n",
       "<table border=\"1\" class=\"dataframe\">\n",
       "  <thead>\n",
       "    <tr style=\"text-align: right;\">\n",
       "      <th></th>\n",
       "      <th>저자</th>\n",
       "      <th>연도</th>\n",
       "      <th>논문제목</th>\n",
       "    </tr>\n",
       "  </thead>\n",
       "  <tbody>\n",
       "    <tr>\n",
       "      <th>0</th>\n",
       "      <td>엄미애,방명애</td>\n",
       "      <td>2011</td>\n",
       "      <td>초등 통합학급 교사의 장애학생 교수에 대한 교사효능감과 교수적 수정에 영향을 미치는...</td>\n",
       "    </tr>\n",
       "    <tr>\n",
       "      <th>1</th>\n",
       "      <td>이현주,최나리</td>\n",
       "      <td>2018</td>\n",
       "      <td>중등 예비교사의 통합교육 교수 효능감과 보편적 학습설계에 대한 인식</td>\n",
       "    </tr>\n",
       "    <tr>\n",
       "      <th>2</th>\n",
       "      <td>김주혜 ( Joo Hye Kim ),박은혜 ( Eun Hye Park )</td>\n",
       "      <td>2009</td>\n",
       "      <td>특수학급교사와의 협력을 통한 교사포트폴리오 제작이 통합학급교사의 교수수행능력과 교사...</td>\n",
       "    </tr>\n",
       "    <tr>\n",
       "      <th>3</th>\n",
       "      <td>백상수 ( Baek Sang-su )</td>\n",
       "      <td>2017</td>\n",
       "      <td>예비과학교사의 통합교육 태도와 과학 교수효능감 연구</td>\n",
       "    </tr>\n",
       "    <tr>\n",
       "      <th>4</th>\n",
       "      <td>김영한,서영</td>\n",
       "      <td>2013</td>\n",
       "      <td>통합유치원 교사의 교직문화인식, 교수효능감 및 직무만족도의 관계 분석</td>\n",
       "    </tr>\n",
       "    <tr>\n",
       "      <th>...</th>\n",
       "      <td>...</td>\n",
       "      <td>...</td>\n",
       "      <td>...</td>\n",
       "    </tr>\n",
       "    <tr>\n",
       "      <th>135</th>\n",
       "      <td>이은자 ( Eun Ja Lee )</td>\n",
       "      <td>2020</td>\n",
       "      <td>프로그래밍 기반 TPACK 교육 프로그램이 예비 교사의 수업 전문성에 미치는 효과</td>\n",
       "    </tr>\n",
       "    <tr>\n",
       "      <th>136</th>\n",
       "      <td>이은자</td>\n",
       "      <td>2020</td>\n",
       "      <td>Effects of Programming-based TPACK Education P...</td>\n",
       "    </tr>\n",
       "    <tr>\n",
       "      <th>137</th>\n",
       "      <td>김보환,장선주,최정실</td>\n",
       "      <td>2014</td>\n",
       "      <td>국어교육 : 외국인 유학생 프레젠테이션 수업 사례 - PBL수업을 중심으로</td>\n",
       "    </tr>\n",
       "    <tr>\n",
       "      <th>138</th>\n",
       "      <td>위치에러-1</td>\n",
       "      <td>2014</td>\n",
       "      <td>외국인 유학생 프레젠테이션 수업 사례 - PBL수업을 중심으로</td>\n",
       "    </tr>\n",
       "    <tr>\n",
       "      <th>139</th>\n",
       "      <td>위치에러-2</td>\n",
       "      <td>2013</td>\n",
       "      <td>완전학습모델기반 간호 미생물학 이론 및 실습프로그램의 개발과 효과평가</td>\n",
       "    </tr>\n",
       "  </tbody>\n",
       "</table>\n",
       "<p>140 rows × 3 columns</p>\n",
       "</div>"
      ],
      "text/plain": [
       "                                           저자    연도  \\\n",
       "0                                     엄미애,방명애  2011   \n",
       "1                                     이현주,최나리  2018   \n",
       "2    김주혜 ( Joo Hye Kim ),박은혜 ( Eun Hye Park )  2009   \n",
       "3                        백상수 ( Baek Sang-su )  2017   \n",
       "4                                      김영한,서영  2013   \n",
       "..                                        ...   ...   \n",
       "135                        이은자 ( Eun Ja Lee )  2020   \n",
       "136                                       이은자  2020   \n",
       "137                               김보환,장선주,최정실  2014   \n",
       "138                                    위치에러-1  2014   \n",
       "139                                    위치에러-2  2013   \n",
       "\n",
       "                                                  논문제목  \n",
       "0    초등 통합학급 교사의 장애학생 교수에 대한 교사효능감과 교수적 수정에 영향을 미치는...  \n",
       "1                중등 예비교사의 통합교육 교수 효능감과 보편적 학습설계에 대한 인식  \n",
       "2    특수학급교사와의 협력을 통한 교사포트폴리오 제작이 통합학급교사의 교수수행능력과 교사...  \n",
       "3                         예비과학교사의 통합교육 태도와 과학 교수효능감 연구  \n",
       "4               통합유치원 교사의 교직문화인식, 교수효능감 및 직무만족도의 관계 분석  \n",
       "..                                                 ...  \n",
       "135      프로그래밍 기반 TPACK 교육 프로그램이 예비 교사의 수업 전문성에 미치는 효과  \n",
       "136  Effects of Programming-based TPACK Education P...  \n",
       "137          국어교육 : 외국인 유학생 프레젠테이션 수업 사례 - PBL수업을 중심으로  \n",
       "138                 외국인 유학생 프레젠테이션 수업 사례 - PBL수업을 중심으로  \n",
       "139             완전학습모델기반 간호 미생물학 이론 및 실습프로그램의 개발과 효과평가  \n",
       "\n",
       "[140 rows x 3 columns]"
      ]
     },
     "execution_count": 228,
     "metadata": {},
     "output_type": "execute_result"
    }
   ],
   "source": [
    "df = pd.DataFrame({'저자':name_list, '연도':year_list, '논문제목':title_list})\n",
    "df"
   ]
  },
  {
   "cell_type": "code",
   "execution_count": 229,
   "metadata": {},
   "outputs": [],
   "source": [
    "# 엑셀 저장\n",
    "df.to_excel(\"riss_%s.xlsx\"%keyword, encoding='utf-8-sig')"
   ]
  },
  {
   "cell_type": "code",
   "execution_count": null,
   "metadata": {},
   "outputs": [],
   "source": []
  }
 ],
 "metadata": {
  "colab": {
   "collapsed_sections": [],
   "name": "crawling_dbpia(colab).ipynb",
   "provenance": []
  },
  "kernelspec": {
   "display_name": "Python 3",
   "language": "python",
   "name": "python3"
  },
  "language_info": {
   "codemirror_mode": {
    "name": "ipython",
    "version": 3
   },
   "file_extension": ".py",
   "mimetype": "text/x-python",
   "name": "python",
   "nbconvert_exporter": "python",
   "pygments_lexer": "ipython3",
   "version": "3.8.5"
  },
  "toc": {
   "base_numbering": 1,
   "nav_menu": {},
   "number_sections": true,
   "sideBar": true,
   "skip_h1_title": false,
   "title_cell": "Table of Contents",
   "title_sidebar": "Contents",
   "toc_cell": false,
   "toc_position": {},
   "toc_section_display": true,
   "toc_window_display": false
  },
  "varInspector": {
   "cols": {
    "lenName": 16,
    "lenType": 16,
    "lenVar": 40
   },
   "kernels_config": {
    "python": {
     "delete_cmd_postfix": "",
     "delete_cmd_prefix": "del ",
     "library": "var_list.py",
     "varRefreshCmd": "print(var_dic_list())"
    },
    "r": {
     "delete_cmd_postfix": ") ",
     "delete_cmd_prefix": "rm(",
     "library": "var_list.r",
     "varRefreshCmd": "cat(var_dic_list()) "
    }
   },
   "types_to_exclude": [
    "module",
    "function",
    "builtin_function_or_method",
    "instance",
    "_Feature"
   ],
   "window_display": false
  }
 },
 "nbformat": 4,
 "nbformat_minor": 1
}
